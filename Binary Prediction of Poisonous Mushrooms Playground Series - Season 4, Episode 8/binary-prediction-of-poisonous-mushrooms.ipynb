{
 "cells": [
  {
   "cell_type": "code",
   "execution_count": 1,
   "id": "04c18904",
   "metadata": {
    "_cell_guid": "b1076dfc-b9ad-4769-8c92-a6c4dae69d19",
    "_uuid": "8f2839f25d086af736a60e9eeb907d3b93b6e0e5",
    "execution": {
     "iopub.execute_input": "2024-12-05T11:57:24.509357Z",
     "iopub.status.busy": "2024-12-05T11:57:24.508962Z",
     "iopub.status.idle": "2024-12-05T11:57:27.156797Z",
     "shell.execute_reply": "2024-12-05T11:57:27.155548Z"
    },
    "papermill": {
     "duration": 2.660744,
     "end_time": "2024-12-05T11:57:27.159128",
     "exception": false,
     "start_time": "2024-12-05T11:57:24.498384",
     "status": "completed"
    },
    "tags": []
   },
   "outputs": [
    {
     "name": "stdout",
     "output_type": "stream",
     "text": [
      "/kaggle/input/playground-series-s4e8/sample_submission.csv\n",
      "/kaggle/input/playground-series-s4e8/train.csv\n",
      "/kaggle/input/playground-series-s4e8/test.csv\n"
     ]
    }
   ],
   "source": [
    "# This Python 3 environment comes with many helpful analytics libraries installed\n",
    "# It is defined by the kaggle/python Docker image: https://github.com/kaggle/docker-python\n",
    "# For example, here's several helpful packages to load\n",
    "\n",
    "import numpy as np # linear algebra\n",
    "import pandas as pd # data processing, CSV file I/O (e.g. pd.read_csv)\n",
    "\n",
    "import matplotlib.pyplot as plt\n",
    "import seaborn as sns\n",
    "import warnings\n",
    "warnings.filterwarnings('ignore')\n",
    "\n",
    "# Input data files are available in the read-only \"../input/\" directory\n",
    "# For example, running this (by clicking run or pressing Shift+Enter) will list all files under the input directory\n",
    "\n",
    "import os\n",
    "for dirname, _, filenames in os.walk('/kaggle/input'):\n",
    "    for filename in filenames:\n",
    "        print(os.path.join(dirname, filename))\n",
    "\n",
    "# You can write up to 20GB to the current directory (/kaggle/working/) that gets preserved as output when you create a version using \"Save & Run All\" \n",
    "# You can also write temporary files to /kaggle/temp/, but they won't be saved outside of the current session"
   ]
  },
  {
   "cell_type": "code",
   "execution_count": 2,
   "id": "e0846e3b",
   "metadata": {
    "execution": {
     "iopub.execute_input": "2024-12-05T11:57:27.176979Z",
     "iopub.status.busy": "2024-12-05T11:57:27.176403Z",
     "iopub.status.idle": "2024-12-05T11:57:43.598574Z",
     "shell.execute_reply": "2024-12-05T11:57:43.597305Z"
    },
    "papermill": {
     "duration": 16.434046,
     "end_time": "2024-12-05T11:57:43.601429",
     "exception": false,
     "start_time": "2024-12-05T11:57:27.167383",
     "status": "completed"
    },
    "tags": []
   },
   "outputs": [],
   "source": [
    "train_df=pd.read_csv('/kaggle/input/playground-series-s4e8/train.csv')\n",
    "\n",
    "test_df=pd.read_csv('/kaggle/input/playground-series-s4e8/test.csv')"
   ]
  },
  {
   "cell_type": "code",
   "execution_count": 3,
   "id": "1c5fcf75",
   "metadata": {
    "execution": {
     "iopub.execute_input": "2024-12-05T11:57:43.618583Z",
     "iopub.status.busy": "2024-12-05T11:57:43.618195Z",
     "iopub.status.idle": "2024-12-05T11:57:43.654167Z",
     "shell.execute_reply": "2024-12-05T11:57:43.653053Z"
    },
    "papermill": {
     "duration": 0.047639,
     "end_time": "2024-12-05T11:57:43.656938",
     "exception": false,
     "start_time": "2024-12-05T11:57:43.609299",
     "status": "completed"
    },
    "tags": []
   },
   "outputs": [
    {
     "data": {
      "text/html": [
       "<div>\n",
       "<style scoped>\n",
       "    .dataframe tbody tr th:only-of-type {\n",
       "        vertical-align: middle;\n",
       "    }\n",
       "\n",
       "    .dataframe tbody tr th {\n",
       "        vertical-align: top;\n",
       "    }\n",
       "\n",
       "    .dataframe thead th {\n",
       "        text-align: right;\n",
       "    }\n",
       "</style>\n",
       "<table border=\"1\" class=\"dataframe\">\n",
       "  <thead>\n",
       "    <tr style=\"text-align: right;\">\n",
       "      <th></th>\n",
       "      <th>id</th>\n",
       "      <th>class</th>\n",
       "      <th>cap-diameter</th>\n",
       "      <th>cap-shape</th>\n",
       "      <th>cap-surface</th>\n",
       "      <th>cap-color</th>\n",
       "      <th>does-bruise-or-bleed</th>\n",
       "      <th>gill-attachment</th>\n",
       "      <th>gill-spacing</th>\n",
       "      <th>gill-color</th>\n",
       "      <th>...</th>\n",
       "      <th>stem-root</th>\n",
       "      <th>stem-surface</th>\n",
       "      <th>stem-color</th>\n",
       "      <th>veil-type</th>\n",
       "      <th>veil-color</th>\n",
       "      <th>has-ring</th>\n",
       "      <th>ring-type</th>\n",
       "      <th>spore-print-color</th>\n",
       "      <th>habitat</th>\n",
       "      <th>season</th>\n",
       "    </tr>\n",
       "  </thead>\n",
       "  <tbody>\n",
       "    <tr>\n",
       "      <th>0</th>\n",
       "      <td>0</td>\n",
       "      <td>e</td>\n",
       "      <td>8.80</td>\n",
       "      <td>f</td>\n",
       "      <td>s</td>\n",
       "      <td>u</td>\n",
       "      <td>f</td>\n",
       "      <td>a</td>\n",
       "      <td>c</td>\n",
       "      <td>w</td>\n",
       "      <td>...</td>\n",
       "      <td>NaN</td>\n",
       "      <td>NaN</td>\n",
       "      <td>w</td>\n",
       "      <td>NaN</td>\n",
       "      <td>NaN</td>\n",
       "      <td>f</td>\n",
       "      <td>f</td>\n",
       "      <td>NaN</td>\n",
       "      <td>d</td>\n",
       "      <td>a</td>\n",
       "    </tr>\n",
       "    <tr>\n",
       "      <th>1</th>\n",
       "      <td>1</td>\n",
       "      <td>p</td>\n",
       "      <td>4.51</td>\n",
       "      <td>x</td>\n",
       "      <td>h</td>\n",
       "      <td>o</td>\n",
       "      <td>f</td>\n",
       "      <td>a</td>\n",
       "      <td>c</td>\n",
       "      <td>n</td>\n",
       "      <td>...</td>\n",
       "      <td>NaN</td>\n",
       "      <td>y</td>\n",
       "      <td>o</td>\n",
       "      <td>NaN</td>\n",
       "      <td>NaN</td>\n",
       "      <td>t</td>\n",
       "      <td>z</td>\n",
       "      <td>NaN</td>\n",
       "      <td>d</td>\n",
       "      <td>w</td>\n",
       "    </tr>\n",
       "    <tr>\n",
       "      <th>2</th>\n",
       "      <td>2</td>\n",
       "      <td>e</td>\n",
       "      <td>6.94</td>\n",
       "      <td>f</td>\n",
       "      <td>s</td>\n",
       "      <td>b</td>\n",
       "      <td>f</td>\n",
       "      <td>x</td>\n",
       "      <td>c</td>\n",
       "      <td>w</td>\n",
       "      <td>...</td>\n",
       "      <td>NaN</td>\n",
       "      <td>s</td>\n",
       "      <td>n</td>\n",
       "      <td>NaN</td>\n",
       "      <td>NaN</td>\n",
       "      <td>f</td>\n",
       "      <td>f</td>\n",
       "      <td>NaN</td>\n",
       "      <td>l</td>\n",
       "      <td>w</td>\n",
       "    </tr>\n",
       "    <tr>\n",
       "      <th>3</th>\n",
       "      <td>3</td>\n",
       "      <td>e</td>\n",
       "      <td>3.88</td>\n",
       "      <td>f</td>\n",
       "      <td>y</td>\n",
       "      <td>g</td>\n",
       "      <td>f</td>\n",
       "      <td>s</td>\n",
       "      <td>NaN</td>\n",
       "      <td>g</td>\n",
       "      <td>...</td>\n",
       "      <td>NaN</td>\n",
       "      <td>NaN</td>\n",
       "      <td>w</td>\n",
       "      <td>NaN</td>\n",
       "      <td>NaN</td>\n",
       "      <td>f</td>\n",
       "      <td>f</td>\n",
       "      <td>NaN</td>\n",
       "      <td>d</td>\n",
       "      <td>u</td>\n",
       "    </tr>\n",
       "    <tr>\n",
       "      <th>4</th>\n",
       "      <td>4</td>\n",
       "      <td>e</td>\n",
       "      <td>5.85</td>\n",
       "      <td>x</td>\n",
       "      <td>l</td>\n",
       "      <td>w</td>\n",
       "      <td>f</td>\n",
       "      <td>d</td>\n",
       "      <td>NaN</td>\n",
       "      <td>w</td>\n",
       "      <td>...</td>\n",
       "      <td>NaN</td>\n",
       "      <td>NaN</td>\n",
       "      <td>w</td>\n",
       "      <td>NaN</td>\n",
       "      <td>NaN</td>\n",
       "      <td>f</td>\n",
       "      <td>f</td>\n",
       "      <td>NaN</td>\n",
       "      <td>g</td>\n",
       "      <td>a</td>\n",
       "    </tr>\n",
       "  </tbody>\n",
       "</table>\n",
       "<p>5 rows × 22 columns</p>\n",
       "</div>"
      ],
      "text/plain": [
       "   id class  cap-diameter cap-shape cap-surface cap-color  \\\n",
       "0   0     e          8.80         f           s         u   \n",
       "1   1     p          4.51         x           h         o   \n",
       "2   2     e          6.94         f           s         b   \n",
       "3   3     e          3.88         f           y         g   \n",
       "4   4     e          5.85         x           l         w   \n",
       "\n",
       "  does-bruise-or-bleed gill-attachment gill-spacing gill-color  ...  \\\n",
       "0                    f               a            c          w  ...   \n",
       "1                    f               a            c          n  ...   \n",
       "2                    f               x            c          w  ...   \n",
       "3                    f               s          NaN          g  ...   \n",
       "4                    f               d          NaN          w  ...   \n",
       "\n",
       "   stem-root  stem-surface stem-color veil-type veil-color has-ring ring-type  \\\n",
       "0        NaN           NaN          w       NaN        NaN        f         f   \n",
       "1        NaN             y          o       NaN        NaN        t         z   \n",
       "2        NaN             s          n       NaN        NaN        f         f   \n",
       "3        NaN           NaN          w       NaN        NaN        f         f   \n",
       "4        NaN           NaN          w       NaN        NaN        f         f   \n",
       "\n",
       "  spore-print-color habitat season  \n",
       "0               NaN       d      a  \n",
       "1               NaN       d      w  \n",
       "2               NaN       l      w  \n",
       "3               NaN       d      u  \n",
       "4               NaN       g      a  \n",
       "\n",
       "[5 rows x 22 columns]"
      ]
     },
     "execution_count": 3,
     "metadata": {},
     "output_type": "execute_result"
    }
   ],
   "source": [
    "train_df.head()"
   ]
  },
  {
   "cell_type": "code",
   "execution_count": 4,
   "id": "fa78e02d",
   "metadata": {
    "execution": {
     "iopub.execute_input": "2024-12-05T11:57:43.676833Z",
     "iopub.status.busy": "2024-12-05T11:57:43.676450Z",
     "iopub.status.idle": "2024-12-05T11:58:02.000546Z",
     "shell.execute_reply": "2024-12-05T11:58:01.999271Z"
    },
    "papermill": {
     "duration": 18.336541,
     "end_time": "2024-12-05T11:58:02.002861",
     "exception": false,
     "start_time": "2024-12-05T11:57:43.666320",
     "status": "completed"
    },
    "tags": []
   },
   "outputs": [
    {
     "name": "stdout",
     "output_type": "stream",
     "text": [
      "********************************************************************************\n",
      "Basic Analysis Of Dataframe\n",
      "********************************************************************************\n",
      "==================================================\n",
      "Dataset Shape (Rows & Columns)\n",
      "==================================================\n",
      "Rows :- 3116945\n",
      "Columns :- 22\n",
      "Unique Rows: 3116945 (100.00%)\n",
      "Duplicate Rows: 0 (0.00%)\n",
      "\n",
      "==================================================\n",
      "Data Type Wise Column Count\n",
      "==================================================\n",
      "object     18\n",
      "float64     3\n",
      "int64       1\n",
      "Name: count, dtype: int64\n",
      "\n",
      "==================================================\n",
      "Discrete And Continous Data Analysis\n",
      "==================================================\n",
      "Discrete Text Columns : class, cap-shape, cap-surface, cap-color, does-bruise-or-bleed, gill-attachment, gill-spacing, gill-color, stem-root, stem-surface, stem-color, veil-type, veil-color, has-ring, ring-type, spore-print-color, habitat, season\n",
      "\n",
      "\n",
      "Discrete Numeric Columns : -----\n",
      "\n",
      "\n",
      "Continuous Columns : id, cap-diameter, stem-height, stem-width\n",
      "\n",
      "\n",
      "Unknown Columns : -----\n",
      "\n",
      "==================================================\n",
      "Skewness of Numerical Columns\n",
      "==================================================\n",
      "id: -0.00 -> Approximately Symmetric. \n",
      "cap-diameter: 3.97 -> Strong Positive Skew. Consider transformation (e.g., log or square root)\n",
      "stem-height: 1.93 -> Strong Positive Skew. Consider transformation (e.g., log or square root)\n",
      "stem-width: 1.24 -> Strong Positive Skew. Consider transformation (e.g., log or square root)\n",
      "\n",
      "==================================================\n",
      "Constant Unique Values in Categorical Columns\n",
      "==================================================\n",
      "\n",
      "==================================================\n",
      "Unique Values in Categorical Columns\n",
      "==================================================\n",
      "class: ['e', 'p']\n",
      "\n",
      "cap-shape: This Column have More than 20 uniques values \n",
      "\n",
      "cap-surface: This Column have More than 20 uniques values \n",
      "\n",
      "cap-color: This Column have More than 20 uniques values \n",
      "\n",
      "does-bruise-or-bleed: This Column have More than 20 uniques values \n",
      "\n",
      "gill-attachment: This Column have More than 20 uniques values \n",
      "\n",
      "gill-spacing: This Column have More than 20 uniques values \n",
      "\n",
      "gill-color: This Column have More than 20 uniques values \n",
      "\n",
      "stem-root: This Column have More than 20 uniques values \n",
      "\n",
      "stem-surface: This Column have More than 20 uniques values \n",
      "\n",
      "stem-color: This Column have More than 20 uniques values \n",
      "\n",
      "veil-type: This Column have More than 20 uniques values \n",
      "\n",
      "veil-color: This Column have More than 20 uniques values \n",
      "\n",
      "has-ring: This Column have More than 20 uniques values \n",
      "\n",
      "ring-type: This Column have More than 20 uniques values \n",
      "\n",
      "spore-print-color: This Column have More than 20 uniques values \n",
      "\n",
      "habitat: This Column have More than 20 uniques values \n",
      "\n",
      "season: ['a', 's', 'u', 'w']\n",
      "\n",
      "\n",
      "==================================================\n",
      "Columns with Null Values and Null Value Counts\n",
      "==================================================\n",
      "cap-diameter: 4 null values\n",
      "cap-shape: 40 null values\n",
      "cap-surface: 671023 null values\n",
      "cap-color: 12 null values\n",
      "does-bruise-or-bleed: 8 null values\n",
      "gill-attachment: 523936 null values\n",
      "gill-spacing: 1258435 null values\n",
      "gill-color: 57 null values\n",
      "stem-root: 2757023 null values\n",
      "stem-surface: 1980861 null values\n",
      "stem-color: 38 null values\n",
      "veil-type: 2957493 null values\n",
      "veil-color: 2740947 null values\n",
      "has-ring: 24 null values\n",
      "ring-type: 128880 null values\n",
      "spore-print-color: 2849682 null values\n",
      "habitat: 45 null values\n",
      "\n",
      "==================================================\n",
      "Imbalance Analysis for 'class'\n",
      "==================================================\n",
      "Percentage Distribution:\n",
      "class\n",
      "p    54.713702\n",
      "e    45.286298\n",
      "Name: count, dtype: float64\n",
      "\n",
      "The dataset is balanced with respect to 'class'.\n"
     ]
    }
   ],
   "source": [
    "def detect_data_types(df):\n",
    "    \"\"\"\n",
    "    Detect whether the data type for each column in the DataFrame is discrete, continuous, or unknown.\n",
    "\n",
    "    Parameters:\n",
    "        df (pd.DataFrame): DataFrame containing the columns to analyze.\n",
    "\n",
    "    Returns:\n",
    "        dict: A dictionary where keys are column names and values are the data types ('discrete', 'continuous', 'unknown').\n",
    "    \"\"\"\n",
    "    discrete_text_container=[]\n",
    "    discrete_numeric_container=[]\n",
    "    continuous_container=[]\n",
    "    unknown_container=[]\n",
    "    \n",
    "    \n",
    "\n",
    "    for column in df.columns:\n",
    "        # Drop NaN values for analysis\n",
    "        col_data = df[column].dropna()\n",
    "        \n",
    "        # Get unique value counts\n",
    "        unique_values = col_data.nunique()\n",
    "\n",
    "        # Check if the column is numerical (int or float)\n",
    "        if col_data.dtype in ['int64', 'float64']:\n",
    "            # For integer-based data with few unique values, it's likely discrete\n",
    "            if col_data.dtype == 'int64' and unique_values / len(col_data) < 0.05:\n",
    "                discrete_numeric_container.append(column)\n",
    "            else:\n",
    "                continuous_container.append(column)\n",
    "                \n",
    "        \n",
    "        # Check if the column is categorical/text data\n",
    "        elif col_data.dtype == 'object' or col_data.dtype.name == 'category':\n",
    "            discrete_text_container.append(column)\n",
    "        \n",
    "        # If there are very few unique values compared to the length, treat it as discrete\n",
    "        elif unique_values / len(col_data) < 0.05:\n",
    "            discrete_text_container.append(column)\n",
    "        \n",
    "        # If the data doesn't fit into any category, mark it as 'unknown'\n",
    "        else:\n",
    "            unknown_container.append(column)\n",
    "    \n",
    "    return [discrete_text_container,discrete_numeric_container,continuous_container,unknown_container]\n",
    "            \n",
    "\n",
    "\n",
    "\n",
    "def dataset_analysis(df,target_column=None,type=None):\n",
    "\n",
    "\n",
    "    # Total rows\n",
    "    total_rows = len(df)\n",
    "    # Count of unique rows\n",
    "    unique_rows = len(df.drop_duplicates())\n",
    "    # Count of duplicate rows\n",
    "    duplicate_rows = total_rows - unique_rows\n",
    "    # Calculate percentages\n",
    "    unique_percentage = (unique_rows / total_rows) * 100\n",
    "    duplicate_percentage = (duplicate_rows / total_rows) * 100\n",
    "\n",
    "    print('*'*80)\n",
    "    print('Basic Analysis Of Dataframe')\n",
    "    print('*'*80)\n",
    "\n",
    "    \n",
    "    print('='*50)\n",
    "    print('Dataset Shape (Rows & Columns)')\n",
    "    print('='*50)\n",
    "    print('Rows :-',df.shape[0])\n",
    "    print('Columns :-',df.shape[1])\n",
    "    print(f\"Unique Rows: {unique_rows} ({unique_percentage:.2f}%)\")\n",
    "    print(f\"Duplicate Rows: {duplicate_rows} ({duplicate_percentage:.2f}%)\")\n",
    "\n",
    "\n",
    "    # Data type-wise column count\n",
    "    print(\"\\n\" + \"=\"*50)\n",
    "    print(\"Data Type Wise Column Count\")\n",
    "    print(\"=\"*50)\n",
    "    dtype_count = df.dtypes.value_counts()\n",
    "    print(dtype_count)\n",
    "    \n",
    "\n",
    "\n",
    "    # Discrete And Continous Data Analysis\n",
    "    print(\"\\n\" + \"=\"*50)\n",
    "    print(\"Discrete And Continous Data Analysis\")\n",
    "    print(\"=\"*50)\n",
    "    dtype_count = df.columns\n",
    "    dectectDataTypeObj=detect_data_types(df)\n",
    "\n",
    "     # Extract containers\n",
    "    discrete_text_columns, discrete_numeric_columns, continuous_columns, unknown_columns = dectectDataTypeObj\n",
    "\n",
    "    #[discrete_text_container,discrete_numeric_container,continuous_container,unknown_container]\n",
    "    \n",
    "    if(len(dectectDataTypeObj)>0):\n",
    "\n",
    "        #Discrete Text Columns\n",
    "        if len(dectectDataTypeObj[0])>0:\n",
    "            print('Discrete Text Columns :',', '.join(discrete_text_columns))\n",
    "        else:\n",
    "            print('Discrete Text Columns :','-----')\n",
    "\n",
    "        print('\\n')\n",
    "\n",
    "        #Discrete Numeric Columns\n",
    "        if len(dectectDataTypeObj[1])>0:\n",
    "            print('Discrete Numeric Columns :',', '.join(discrete_numeric_columns) )\n",
    "        else:\n",
    "            print('Discrete Numeric Columns :','-----')\n",
    "        print('\\n')\n",
    "\n",
    "        #Continuous  Columns\n",
    "        if len(dectectDataTypeObj[2])>0:\n",
    "            print('Continuous Columns :',', '.join(continuous_columns))\n",
    "        else:\n",
    "            print('Continuous Columns :','-----')\n",
    "\n",
    "        print('\\n')\n",
    "        \n",
    "        #Unknown Columns\n",
    "        if len(dectectDataTypeObj[3])>0:\n",
    "            print('Unknown Columns :',', '.join(unknown_columns))\n",
    "        else:\n",
    "            print('Unknown Columns :','-----')\n",
    "\n",
    "        \n",
    "\n",
    "    if len(continuous_columns) > 0:\n",
    "        \n",
    "\n",
    "        # Check skewness in numerical columns\n",
    "        print(\"\\n\" + \"=\"*50)\n",
    "        print(\"Skewness of Numerical Columns\")\n",
    "        print(\"=\"*50)\n",
    "        skewness = df[continuous_columns].skew()\n",
    "        \n",
    "        if skewness.empty:\n",
    "            print(\"No numerical columns to check skewness.\")\n",
    "        else:\n",
    "            for col in skewness.index:\n",
    "                skew_value = skewness[col]\n",
    "                \n",
    "                # Determine the skewness range and flag\n",
    "                if skew_value > 1:\n",
    "                    skew_range = \"Strong Positive Skew\"\n",
    "                    flag = \"Consider transformation (e.g., log or square root)\"\n",
    "                elif skew_value >= 0.5:\n",
    "                    skew_range = \"Mild Positive Skew\"\n",
    "                    #flag = \"Potential for mild skewness issues\"\n",
    "                    flag=\"\"\n",
    "                elif skew_value >= -0.5 and skew_value <= 0.5:\n",
    "                    skew_range = \"Approximately Symmetric\"\n",
    "                    #flag = \"No transformation needed\"\n",
    "                    flag=\"\"\n",
    "                elif skew_value <= -1:\n",
    "                    skew_range = \"Strong Negative Skew\"\n",
    "                    flag = \"Consider transformation (e.g., log or square root)\"\n",
    "                elif skew_value <= -0.5:\n",
    "                    skew_range = \"Mild Negative Skew\"\n",
    "                    #flag = \"Potential for mild skewness issues\"\n",
    "                    flag=\"\"\n",
    "                \n",
    "                print(f\"{col}: {skew_value:.2f} -> {skew_range}. {flag}\")\n",
    "\n",
    "        \n",
    "        \n",
    "        \n",
    "            \n",
    "    else:\n",
    "        print(\"No numeric columns available for Skewness Analysis.\")\n",
    "\n",
    "\n",
    "    # Additional information aboutConstant unique values and example entries\n",
    "    print(\"\\n\" + \"=\"*50)\n",
    "    print(\"Constant Unique Values in Categorical Columns\")\n",
    "    print(\"=\"*50)\n",
    "    categorical_cols=discrete_text_columns+discrete_numeric_columns\n",
    "    if len(categorical_cols)>0:\n",
    "        for col in categorical_cols:\n",
    "            if len(df[col].unique()) == 1:\n",
    "                print(f\"{col}: {sorted(df[col].unique())}\\n\")\n",
    "    \n",
    "\n",
    "    # Additional information about unique values and example entries\n",
    "    print(\"\\n\" + \"=\"*50)\n",
    "    print(\"Unique Values in Categorical Columns\")\n",
    "    print(\"=\"*50)\n",
    "    categorical_cols=discrete_text_columns+discrete_numeric_columns\n",
    "    if len(categorical_cols)>0:\n",
    "        for col in categorical_cols:\n",
    "            if len(df[col].unique()) != 1:\n",
    "                if len(df[col].unique())<20:\n",
    "                    print(f\"{col}: {sorted(df[col].unique())}\\n\")\n",
    "                else:\n",
    "                    print(f\"{col}: This Column have More than 20 uniques values \\n\")\n",
    "    \n",
    "    # Check for null (missing) values and their counts\n",
    "    print(\"\\n\" + \"=\"*50)\n",
    "    print(\"Columns with Null Values and Null Value Counts\")\n",
    "    print(\"=\"*50)\n",
    "    null_columns = df.columns[df.isnull().any()]\n",
    "    if null_columns.empty:\n",
    "        print(\"No columns contain null values.\")\n",
    "    else:\n",
    "        for col in null_columns:\n",
    "            null_count = df[col].isnull().sum()\n",
    "            print(f\"{col}: {null_count} null values\")\n",
    "\n",
    "    # Check for Imbalance in Custom Target Column\n",
    "    if target_column and type!='regression':\n",
    "        print(f\"\\n{'='*50}\\nImbalance Analysis for '{target_column}'\\n{'='*50}\")\n",
    "        target_counts = df[target_column].value_counts()\n",
    "        target_percentage = target_counts / len(df) * 100\n",
    "    \n",
    "        print(f\"Percentage Distribution:\\n{target_percentage}\\n\")\n",
    "    \n",
    "        # Check for Imbalance\n",
    "        imbalance_ratio = target_counts.min() / target_counts.max()\n",
    "        print(f\"The dataset is {'imbalanced' if imbalance_ratio < 0.25 else 'balanced'} with respect to '{target_column}'.\")\n",
    "\n",
    "      \n",
    "    \n",
    "dataset_analysis(train_df,target_column='class',type=\"classification\") "
   ]
  },
  {
   "cell_type": "markdown",
   "id": "614dc265",
   "metadata": {
    "papermill": {
     "duration": 0.00853,
     "end_time": "2024-12-05T11:58:02.020397",
     "exception": false,
     "start_time": "2024-12-05T11:58:02.011867",
     "status": "completed"
    },
    "tags": []
   },
   "source": [
    "<h1>Key Insights and Conclusions</h1>\n",
    "    <div class=\"section\">\n",
    "        <h2>Dataset Overview</h2>\n",
    "        <ul>\n",
    "            <li>The dataset has <strong>3,116,945 rows</strong> and <strong>22 columns</strong>, with no duplicate rows.</li>\n",
    "            <li>All rows are unique (<strong>100%</strong>).</li>\n",
    "        </ul>\n",
    "    </div>\n",
    "    <div class=\"section\">\n",
    "        <h2>Column Data Types</h2>\n",
    "        <ul>\n",
    "            <li>The dataset consists mainly of categorical data (<strong>object: 18 columns</strong>).</li>\n",
    "            <li>There are <strong>4 numerical columns</strong> (3 float and 1 integer).</li>\n",
    "        </ul>\n",
    "    </div>\n",
    "    <div class=\"section\">\n",
    "        <h2>Numerical Columns</h2>\n",
    "        <ul>\n",
    "            <li><strong>Skewness:</strong></li>\n",
    "            <ul>\n",
    "                <li><strong>cap-diameter</strong>, <strong>stem-height</strong>, and <strong>stem-width</strong> show strong positive skewness, indicating the need for transformation (e.g., log or square root) to normalize these distributions.</li>\n",
    "                <li><strong>id</strong> is approximately symmetric.</li>\n",
    "            </ul>\n",
    "        </ul>\n",
    "    </div>\n",
    "    <div class=\"section\">\n",
    "        <h2>Categorical Columns</h2>\n",
    "        <ul>\n",
    "            <li>The <strong>class</strong> column is binary: <code>'e'</code> and <code>'p'</code>.</li>\n",
    "            <li>Other categorical columns have more than 20 unique values, except <strong>season</strong> (4 unique values: <code>'a'</code>, <code>'s'</code>, <code>'u'</code>, <code>'w'</code>).</li>\n",
    "        </ul>\n",
    "    </div>\n",
    "    <div class=\"section\">\n",
    "        <h2>Missing Values</h2>\n",
    "        <ul>\n",
    "            <li>Several columns have a significant proportion of null values:</li>\n",
    "            <ul>\n",
    "                <li>Columns like <strong>stem-root</strong>, <strong>veil-type</strong>, and <strong>spore-print-color</strong> have over 90% missing values, potentially warranting removal or imputation strategies.</li>\n",
    "                <li>Columns like <strong>cap-diameter</strong>, <strong>cap-shape</strong>, and <strong>does-bruise-or-bleed</strong> have minimal missing values (<0.01%).</li>\n",
    "            </ul>\n",
    "        </ul>\n",
    "    </div>\n",
    "    <div class=\"section\">\n",
    "        <h2>Class Balance</h2>\n",
    "        <ul>\n",
    "            <li>The <strong>class</strong> column is reasonably balanced with <code>'p'</code> at ~54.71% and <code>'e'</code> at ~45.29%.</li>\n",
    "        </ul>\n",
    "    </div>\n",
    "    <div class=\"recommendations section\">\n",
    "        <h2>Recommendations</h2>\n",
    "        <ul>\n",
    "            <li><strong>Skewness Handling:</strong> Apply transformations (log, square root) for skewed numerical columns to improve model performance.</li>\n",
    "            <li><strong>Missing Data:</strong></li>\n",
    "            <ul>\n",
    "                <li>Consider dropping columns with excessive nulls (e.g., <strong>stem-root</strong>, <strong>veil-type</strong>).</li>\n",
    "                <li>Use imputation for columns with minimal nulls (e.g., <strong>cap-diameter</strong>).</li>\n",
    "            </ul>\n",
    "            <li><strong>Feature Engineering:</strong> Reduce high-cardinality categorical columns using grouping or dimensionality reduction.</li>\n",
    "            <li><strong>Class Label:</strong> The <strong>class</strong> column is balanced, so no need for oversampling/undersampling.</li>\n",
    "        </ul>\n",
    "    </div>"
   ]
  },
  {
   "cell_type": "code",
   "execution_count": 5,
   "id": "e70f242a",
   "metadata": {
    "execution": {
     "iopub.execute_input": "2024-12-05T11:58:02.039544Z",
     "iopub.status.busy": "2024-12-05T11:58:02.039151Z",
     "iopub.status.idle": "2024-12-05T11:58:04.414416Z",
     "shell.execute_reply": "2024-12-05T11:58:04.412943Z"
    },
    "papermill": {
     "duration": 2.387538,
     "end_time": "2024-12-05T11:58:04.416669",
     "exception": false,
     "start_time": "2024-12-05T11:58:02.029131",
     "status": "completed"
    },
    "tags": []
   },
   "outputs": [
    {
     "name": "stdout",
     "output_type": "stream",
     "text": [
      "Percentage of Null Values per Column:\n",
      "veil-type               94.884350\n",
      "spore-print-color       91.425482\n",
      "stem-root               88.452732\n",
      "veil-color              87.936970\n",
      "stem-surface            63.551362\n",
      "gill-spacing            40.373988\n",
      "cap-surface             21.528227\n",
      "gill-attachment         16.809280\n",
      "ring-type                4.134818\n",
      "gill-color               0.001829\n",
      "habitat                  0.001444\n",
      "cap-shape                0.001283\n",
      "stem-color               0.001219\n",
      "has-ring                 0.000770\n",
      "cap-color                0.000385\n",
      "does-bruise-or-bleed     0.000257\n",
      "cap-diameter             0.000128\n",
      "id                       0.000000\n",
      "stem-width               0.000000\n",
      "class                    0.000000\n",
      "stem-height              0.000000\n",
      "season                   0.000000\n",
      "dtype: float64\n"
     ]
    }
   ],
   "source": [
    "# Calculate the percentage of null values for each column\n",
    "total_rows = len(train_df)\n",
    "null_percentage = (train_df.isnull().sum() / total_rows) * 100\n",
    "\n",
    "# Display the percentages\n",
    "print(\"Percentage of Null Values per Column:\")\n",
    "print(null_percentage.sort_values(ascending=False))"
   ]
  },
  {
   "cell_type": "code",
   "execution_count": 6,
   "id": "2107a72b",
   "metadata": {
    "execution": {
     "iopub.execute_input": "2024-12-05T11:58:04.436355Z",
     "iopub.status.busy": "2024-12-05T11:58:04.436005Z",
     "iopub.status.idle": "2024-12-05T11:58:05.022100Z",
     "shell.execute_reply": "2024-12-05T11:58:05.021196Z"
    },
    "papermill": {
     "duration": 0.598686,
     "end_time": "2024-12-05T11:58:05.024464",
     "exception": false,
     "start_time": "2024-12-05T11:58:04.425778",
     "status": "completed"
    },
    "tags": []
   },
   "outputs": [],
   "source": [
    "columns_with_nulls = [\"veil-type\",\"spore-print-color\",\"stem-root\",\"veil-color\",\"stem-surface\",\"ring-type\",\"gill-spacing\",\"cap-surface\",\"gill-attachment\"]\n",
    "train_df=train_df.drop(columns_with_nulls,axis=1)\n",
    "test_df=test_df.drop(columns_with_nulls,axis=1)"
   ]
  },
  {
   "cell_type": "code",
   "execution_count": 7,
   "id": "4cbae533",
   "metadata": {
    "execution": {
     "iopub.execute_input": "2024-12-05T11:58:05.044406Z",
     "iopub.status.busy": "2024-12-05T11:58:05.043410Z",
     "iopub.status.idle": "2024-12-05T11:58:05.060040Z",
     "shell.execute_reply": "2024-12-05T11:58:05.058658Z"
    },
    "papermill": {
     "duration": 0.028936,
     "end_time": "2024-12-05T11:58:05.062254",
     "exception": false,
     "start_time": "2024-12-05T11:58:05.033318",
     "status": "completed"
    },
    "tags": []
   },
   "outputs": [
    {
     "data": {
      "text/html": [
       "<div>\n",
       "<style scoped>\n",
       "    .dataframe tbody tr th:only-of-type {\n",
       "        vertical-align: middle;\n",
       "    }\n",
       "\n",
       "    .dataframe tbody tr th {\n",
       "        vertical-align: top;\n",
       "    }\n",
       "\n",
       "    .dataframe thead th {\n",
       "        text-align: right;\n",
       "    }\n",
       "</style>\n",
       "<table border=\"1\" class=\"dataframe\">\n",
       "  <thead>\n",
       "    <tr style=\"text-align: right;\">\n",
       "      <th></th>\n",
       "      <th>id</th>\n",
       "      <th>class</th>\n",
       "      <th>cap-diameter</th>\n",
       "      <th>cap-shape</th>\n",
       "      <th>cap-color</th>\n",
       "      <th>does-bruise-or-bleed</th>\n",
       "      <th>gill-color</th>\n",
       "      <th>stem-height</th>\n",
       "      <th>stem-width</th>\n",
       "      <th>stem-color</th>\n",
       "      <th>has-ring</th>\n",
       "      <th>habitat</th>\n",
       "      <th>season</th>\n",
       "    </tr>\n",
       "  </thead>\n",
       "  <tbody>\n",
       "    <tr>\n",
       "      <th>0</th>\n",
       "      <td>0</td>\n",
       "      <td>e</td>\n",
       "      <td>8.80</td>\n",
       "      <td>f</td>\n",
       "      <td>u</td>\n",
       "      <td>f</td>\n",
       "      <td>w</td>\n",
       "      <td>4.51</td>\n",
       "      <td>15.39</td>\n",
       "      <td>w</td>\n",
       "      <td>f</td>\n",
       "      <td>d</td>\n",
       "      <td>a</td>\n",
       "    </tr>\n",
       "    <tr>\n",
       "      <th>1</th>\n",
       "      <td>1</td>\n",
       "      <td>p</td>\n",
       "      <td>4.51</td>\n",
       "      <td>x</td>\n",
       "      <td>o</td>\n",
       "      <td>f</td>\n",
       "      <td>n</td>\n",
       "      <td>4.79</td>\n",
       "      <td>6.48</td>\n",
       "      <td>o</td>\n",
       "      <td>t</td>\n",
       "      <td>d</td>\n",
       "      <td>w</td>\n",
       "    </tr>\n",
       "    <tr>\n",
       "      <th>2</th>\n",
       "      <td>2</td>\n",
       "      <td>e</td>\n",
       "      <td>6.94</td>\n",
       "      <td>f</td>\n",
       "      <td>b</td>\n",
       "      <td>f</td>\n",
       "      <td>w</td>\n",
       "      <td>6.85</td>\n",
       "      <td>9.93</td>\n",
       "      <td>n</td>\n",
       "      <td>f</td>\n",
       "      <td>l</td>\n",
       "      <td>w</td>\n",
       "    </tr>\n",
       "    <tr>\n",
       "      <th>3</th>\n",
       "      <td>3</td>\n",
       "      <td>e</td>\n",
       "      <td>3.88</td>\n",
       "      <td>f</td>\n",
       "      <td>g</td>\n",
       "      <td>f</td>\n",
       "      <td>g</td>\n",
       "      <td>4.16</td>\n",
       "      <td>6.53</td>\n",
       "      <td>w</td>\n",
       "      <td>f</td>\n",
       "      <td>d</td>\n",
       "      <td>u</td>\n",
       "    </tr>\n",
       "    <tr>\n",
       "      <th>4</th>\n",
       "      <td>4</td>\n",
       "      <td>e</td>\n",
       "      <td>5.85</td>\n",
       "      <td>x</td>\n",
       "      <td>w</td>\n",
       "      <td>f</td>\n",
       "      <td>w</td>\n",
       "      <td>3.37</td>\n",
       "      <td>8.36</td>\n",
       "      <td>w</td>\n",
       "      <td>f</td>\n",
       "      <td>g</td>\n",
       "      <td>a</td>\n",
       "    </tr>\n",
       "  </tbody>\n",
       "</table>\n",
       "</div>"
      ],
      "text/plain": [
       "   id class  cap-diameter cap-shape cap-color does-bruise-or-bleed gill-color  \\\n",
       "0   0     e          8.80         f         u                    f          w   \n",
       "1   1     p          4.51         x         o                    f          n   \n",
       "2   2     e          6.94         f         b                    f          w   \n",
       "3   3     e          3.88         f         g                    f          g   \n",
       "4   4     e          5.85         x         w                    f          w   \n",
       "\n",
       "   stem-height  stem-width stem-color has-ring habitat season  \n",
       "0         4.51       15.39          w        f       d      a  \n",
       "1         4.79        6.48          o        t       d      w  \n",
       "2         6.85        9.93          n        f       l      w  \n",
       "3         4.16        6.53          w        f       d      u  \n",
       "4         3.37        8.36          w        f       g      a  "
      ]
     },
     "execution_count": 7,
     "metadata": {},
     "output_type": "execute_result"
    }
   ],
   "source": [
    "train_df.head()"
   ]
  },
  {
   "cell_type": "code",
   "execution_count": 8,
   "id": "4f65e143",
   "metadata": {
    "execution": {
     "iopub.execute_input": "2024-12-05T11:58:05.082485Z",
     "iopub.status.busy": "2024-12-05T11:58:05.082125Z",
     "iopub.status.idle": "2024-12-05T11:58:06.398857Z",
     "shell.execute_reply": "2024-12-05T11:58:06.397772Z"
    },
    "papermill": {
     "duration": 1.329595,
     "end_time": "2024-12-05T11:58:06.401324",
     "exception": false,
     "start_time": "2024-12-05T11:58:05.071729",
     "status": "completed"
    },
    "tags": []
   },
   "outputs": [
    {
     "data": {
      "text/plain": [
       "gill-color              57\n",
       "habitat                 45\n",
       "cap-shape               40\n",
       "stem-color              38\n",
       "has-ring                24\n",
       "cap-color               12\n",
       "does-bruise-or-bleed     8\n",
       "cap-diameter             4\n",
       "id                       0\n",
       "class                    0\n",
       "stem-height              0\n",
       "stem-width               0\n",
       "season                   0\n",
       "dtype: int64"
      ]
     },
     "execution_count": 8,
     "metadata": {},
     "output_type": "execute_result"
    }
   ],
   "source": [
    "train_df.isnull().sum().sort_values(ascending=False)"
   ]
  },
  {
   "cell_type": "code",
   "execution_count": 9,
   "id": "8227801a",
   "metadata": {
    "execution": {
     "iopub.execute_input": "2024-12-05T11:58:06.421550Z",
     "iopub.status.busy": "2024-12-05T11:58:06.421194Z",
     "iopub.status.idle": "2024-12-05T11:58:06.427610Z",
     "shell.execute_reply": "2024-12-05T11:58:06.426418Z"
    },
    "papermill": {
     "duration": 0.01931,
     "end_time": "2024-12-05T11:58:06.429903",
     "exception": false,
     "start_time": "2024-12-05T11:58:06.410593",
     "status": "completed"
    },
    "tags": []
   },
   "outputs": [],
   "source": [
    "def fill_missing_values(df):\n",
    "    for column in df.columns:\n",
    "        if df[column].dtype == 'object':  # Check for object type columns\n",
    "            mode_value = df[column].mode()[0]  # Get the mode of the column\n",
    "            df[column].fillna(mode_value, inplace=True)  # Fill missing values with mode\n",
    "        elif df[column].dtype in ['int64', 'float64']:  # Check for numeric type columns\n",
    "            median_value = df[column].median()  # Get the median of the column\n",
    "            df[column].fillna(median_value, inplace=True)  # Fill missing values with median\n",
    "\n",
    "    return df\n"
   ]
  },
  {
   "cell_type": "code",
   "execution_count": 10,
   "id": "9269a65d",
   "metadata": {
    "execution": {
     "iopub.execute_input": "2024-12-05T11:58:06.451225Z",
     "iopub.status.busy": "2024-12-05T11:58:06.450354Z",
     "iopub.status.idle": "2024-12-05T11:58:11.636945Z",
     "shell.execute_reply": "2024-12-05T11:58:11.635810Z"
    },
    "papermill": {
     "duration": 5.199888,
     "end_time": "2024-12-05T11:58:11.639491",
     "exception": false,
     "start_time": "2024-12-05T11:58:06.439603",
     "status": "completed"
    },
    "tags": []
   },
   "outputs": [],
   "source": [
    "train_df=fill_missing_values(train_df)\n",
    "test_df=fill_missing_values(test_df)"
   ]
  },
  {
   "cell_type": "code",
   "execution_count": 11,
   "id": "29d97b1f",
   "metadata": {
    "execution": {
     "iopub.execute_input": "2024-12-05T11:58:11.661220Z",
     "iopub.status.busy": "2024-12-05T11:58:11.660844Z",
     "iopub.status.idle": "2024-12-05T11:58:11.678231Z",
     "shell.execute_reply": "2024-12-05T11:58:11.677136Z"
    },
    "papermill": {
     "duration": 0.03149,
     "end_time": "2024-12-05T11:58:11.680478",
     "exception": false,
     "start_time": "2024-12-05T11:58:11.648988",
     "status": "completed"
    },
    "tags": []
   },
   "outputs": [
    {
     "data": {
      "text/html": [
       "<div>\n",
       "<style scoped>\n",
       "    .dataframe tbody tr th:only-of-type {\n",
       "        vertical-align: middle;\n",
       "    }\n",
       "\n",
       "    .dataframe tbody tr th {\n",
       "        vertical-align: top;\n",
       "    }\n",
       "\n",
       "    .dataframe thead th {\n",
       "        text-align: right;\n",
       "    }\n",
       "</style>\n",
       "<table border=\"1\" class=\"dataframe\">\n",
       "  <thead>\n",
       "    <tr style=\"text-align: right;\">\n",
       "      <th></th>\n",
       "      <th>id</th>\n",
       "      <th>class</th>\n",
       "      <th>cap-diameter</th>\n",
       "      <th>cap-shape</th>\n",
       "      <th>cap-color</th>\n",
       "      <th>does-bruise-or-bleed</th>\n",
       "      <th>gill-color</th>\n",
       "      <th>stem-height</th>\n",
       "      <th>stem-width</th>\n",
       "      <th>stem-color</th>\n",
       "      <th>has-ring</th>\n",
       "      <th>habitat</th>\n",
       "      <th>season</th>\n",
       "    </tr>\n",
       "  </thead>\n",
       "  <tbody>\n",
       "    <tr>\n",
       "      <th>0</th>\n",
       "      <td>0</td>\n",
       "      <td>e</td>\n",
       "      <td>8.80</td>\n",
       "      <td>f</td>\n",
       "      <td>u</td>\n",
       "      <td>f</td>\n",
       "      <td>w</td>\n",
       "      <td>4.51</td>\n",
       "      <td>15.39</td>\n",
       "      <td>w</td>\n",
       "      <td>f</td>\n",
       "      <td>d</td>\n",
       "      <td>a</td>\n",
       "    </tr>\n",
       "    <tr>\n",
       "      <th>1</th>\n",
       "      <td>1</td>\n",
       "      <td>p</td>\n",
       "      <td>4.51</td>\n",
       "      <td>x</td>\n",
       "      <td>o</td>\n",
       "      <td>f</td>\n",
       "      <td>n</td>\n",
       "      <td>4.79</td>\n",
       "      <td>6.48</td>\n",
       "      <td>o</td>\n",
       "      <td>t</td>\n",
       "      <td>d</td>\n",
       "      <td>w</td>\n",
       "    </tr>\n",
       "    <tr>\n",
       "      <th>2</th>\n",
       "      <td>2</td>\n",
       "      <td>e</td>\n",
       "      <td>6.94</td>\n",
       "      <td>f</td>\n",
       "      <td>b</td>\n",
       "      <td>f</td>\n",
       "      <td>w</td>\n",
       "      <td>6.85</td>\n",
       "      <td>9.93</td>\n",
       "      <td>n</td>\n",
       "      <td>f</td>\n",
       "      <td>l</td>\n",
       "      <td>w</td>\n",
       "    </tr>\n",
       "    <tr>\n",
       "      <th>3</th>\n",
       "      <td>3</td>\n",
       "      <td>e</td>\n",
       "      <td>3.88</td>\n",
       "      <td>f</td>\n",
       "      <td>g</td>\n",
       "      <td>f</td>\n",
       "      <td>g</td>\n",
       "      <td>4.16</td>\n",
       "      <td>6.53</td>\n",
       "      <td>w</td>\n",
       "      <td>f</td>\n",
       "      <td>d</td>\n",
       "      <td>u</td>\n",
       "    </tr>\n",
       "    <tr>\n",
       "      <th>4</th>\n",
       "      <td>4</td>\n",
       "      <td>e</td>\n",
       "      <td>5.85</td>\n",
       "      <td>x</td>\n",
       "      <td>w</td>\n",
       "      <td>f</td>\n",
       "      <td>w</td>\n",
       "      <td>3.37</td>\n",
       "      <td>8.36</td>\n",
       "      <td>w</td>\n",
       "      <td>f</td>\n",
       "      <td>g</td>\n",
       "      <td>a</td>\n",
       "    </tr>\n",
       "  </tbody>\n",
       "</table>\n",
       "</div>"
      ],
      "text/plain": [
       "   id class  cap-diameter cap-shape cap-color does-bruise-or-bleed gill-color  \\\n",
       "0   0     e          8.80         f         u                    f          w   \n",
       "1   1     p          4.51         x         o                    f          n   \n",
       "2   2     e          6.94         f         b                    f          w   \n",
       "3   3     e          3.88         f         g                    f          g   \n",
       "4   4     e          5.85         x         w                    f          w   \n",
       "\n",
       "   stem-height  stem-width stem-color has-ring habitat season  \n",
       "0         4.51       15.39          w        f       d      a  \n",
       "1         4.79        6.48          o        t       d      w  \n",
       "2         6.85        9.93          n        f       l      w  \n",
       "3         4.16        6.53          w        f       d      u  \n",
       "4         3.37        8.36          w        f       g      a  "
      ]
     },
     "execution_count": 11,
     "metadata": {},
     "output_type": "execute_result"
    }
   ],
   "source": [
    "train_df.head()"
   ]
  },
  {
   "cell_type": "code",
   "execution_count": 12,
   "id": "a626503f",
   "metadata": {
    "execution": {
     "iopub.execute_input": "2024-12-05T11:58:11.702110Z",
     "iopub.status.busy": "2024-12-05T11:58:11.701682Z",
     "iopub.status.idle": "2024-12-05T11:59:25.905362Z",
     "shell.execute_reply": "2024-12-05T11:59:25.904173Z"
    },
    "papermill": {
     "duration": 74.233842,
     "end_time": "2024-12-05T11:59:25.923966",
     "exception": false,
     "start_time": "2024-12-05T11:58:11.690124",
     "status": "completed"
    },
    "tags": []
   },
   "outputs": [
    {
     "data": {
      "image/png": "[encoded data removed]",
      "text/plain": [
       "<Figure size 1500x1800 with 10 Axes>"
      ]
     },
     "metadata": {},
     "output_type": "display_data"
    }
   ],
   "source": [
    "columns_with_more_than_20_unique_values = [\n",
    "    'cap-shape', 'cap-color', 'does-bruise-or-bleed', 'gill-color', \n",
    "    'stem-height', 'stem-width', 'stem-color', 'has-ring', 'habitat', 'season'\n",
    "]\n",
    "\n",
    "# Create subplots (adjust to the number of columns you actually have)\n",
    "fig, axes = plt.subplots(nrows=5, ncols=2, figsize=(15, 18))\n",
    "axes = axes.flatten()  \n",
    "\n",
    "for i, col in enumerate(columns_with_more_than_20_unique_values):\n",
    "    # Plot only if i is less than 10 (because you have 10 columns)\n",
    "    if i < len(columns_with_more_than_20_unique_values):\n",
    "        value_counts = train_df[col].value_counts()\n",
    "        axes[i].bar(value_counts.index.astype(str), value_counts.values)\n",
    "        axes[i].set_title(col)\n",
    "        axes[i].set_xlabel('Category')\n",
    "        axes[i].set_ylabel('Count')\n",
    "        axes[i].tick_params(axis='x', rotation=90)  # Rotate x-axis labels for readability\n",
    "\n",
    "# Adjust layout\n",
    "plt.tight_layout()\n",
    "plt.show()"
   ]
  },
  {
   "cell_type": "code",
   "execution_count": 13,
   "id": "bbf77d4e",
   "metadata": {
    "execution": {
     "iopub.execute_input": "2024-12-05T11:59:25.952503Z",
     "iopub.status.busy": "2024-12-05T11:59:25.952120Z",
     "iopub.status.idle": "2024-12-05T12:03:39.859620Z",
     "shell.execute_reply": "2024-12-05T12:03:39.858495Z"
    },
    "papermill": {
     "duration": 253.938684,
     "end_time": "2024-12-05T12:03:39.875964",
     "exception": false,
     "start_time": "2024-12-05T11:59:25.937280",
     "status": "completed"
    },
    "tags": []
   },
   "outputs": [
    {
     "name": "stderr",
     "output_type": "stream",
     "text": [
      "Processing columns:   0%|          | 0/8 [00:00<?, ?it/s]"
     ]
    },
    {
     "name": "stdout",
     "output_type": "stream",
     "text": [
      "--------started cap-shape ----------------------\n"
     ]
    },
    {
     "name": "stderr",
     "output_type": "stream",
     "text": [
      "Processing columns:  12%|█▎        | 1/8 [00:31<03:42, 31.85s/it]"
     ]
    },
    {
     "name": "stdout",
     "output_type": "stream",
     "text": [
      "--------started cap-color ----------------------\n"
     ]
    },
    {
     "name": "stderr",
     "output_type": "stream",
     "text": [
      "Processing columns:  25%|██▌       | 2/8 [01:04<03:13, 32.20s/it]"
     ]
    },
    {
     "name": "stdout",
     "output_type": "stream",
     "text": [
      "--------started does-bruise-or-bleed ----------------------\n"
     ]
    },
    {
     "name": "stderr",
     "output_type": "stream",
     "text": [
      "Processing columns:  38%|███▊      | 3/8 [01:35<02:37, 31.57s/it]"
     ]
    },
    {
     "name": "stdout",
     "output_type": "stream",
     "text": [
      "--------started gill-color ----------------------\n"
     ]
    },
    {
     "name": "stderr",
     "output_type": "stream",
     "text": [
      "Processing columns:  50%|█████     | 4/8 [02:07<02:07, 31.88s/it]"
     ]
    },
    {
     "name": "stdout",
     "output_type": "stream",
     "text": [
      "--------started stem-color ----------------------\n"
     ]
    },
    {
     "name": "stderr",
     "output_type": "stream",
     "text": [
      "Processing columns:  62%|██████▎   | 5/8 [02:39<01:36, 32.07s/it]"
     ]
    },
    {
     "name": "stdout",
     "output_type": "stream",
     "text": [
      "--------started has-ring ----------------------\n"
     ]
    },
    {
     "name": "stderr",
     "output_type": "stream",
     "text": [
      "Processing columns:  75%|███████▌  | 6/8 [03:10<01:03, 31.65s/it]"
     ]
    },
    {
     "name": "stdout",
     "output_type": "stream",
     "text": [
      "--------started habitat ----------------------\n"
     ]
    },
    {
     "name": "stderr",
     "output_type": "stream",
     "text": [
      "Processing columns:  88%|████████▊ | 7/8 [03:42<00:31, 31.70s/it]"
     ]
    },
    {
     "name": "stdout",
     "output_type": "stream",
     "text": [
      "--------started season ----------------------\n"
     ]
    },
    {
     "name": "stderr",
     "output_type": "stream",
     "text": [
      "Processing columns: 100%|██████████| 8/8 [04:13<00:00, 31.73s/it]\n"
     ]
    }
   ],
   "source": [
    "from tqdm import tqdm\n",
    "\n",
    "def check_values(x, most_unique_array):\n",
    "    if x in most_unique_array:\n",
    "        return x\n",
    "    else:\n",
    "        return 'other'\n",
    "\n",
    "# List of columns\n",
    "columns_with_more_than_20_unique_values = [\n",
    "    'cap-shape',\n",
    "    'cap-color',\n",
    "    'does-bruise-or-bleed',\n",
    "    'gill-color',\n",
    "    'stem-color',\n",
    "    'has-ring',\n",
    "    'habitat',\n",
    "    'season'\n",
    "]\n",
    "\n",
    "# Iterate with progress tracking using tqdm\n",
    "for col in tqdm(columns_with_more_than_20_unique_values, desc=\"Processing columns\"):\n",
    "\n",
    "    print(f'--------started {col} ----------------------')\n",
    "    # Get value counts and filter for frequent values (>150 occurrences)\n",
    "    filtered_counts = train_df[col].value_counts().reset_index()\n",
    "    filtered_counts.columns = ['value', 'count']  # Rename columns for clarity\n",
    "    most_unique_array = filtered_counts[filtered_counts['count'] > 150]['value'].values\n",
    "    \n",
    "    # Update train and test DataFrame columns\n",
    "    train_df[col] = train_df[col].apply(lambda x: check_values(x, most_unique_array))\n",
    "    test_df[col] = test_df[col].apply(lambda x: check_values(x, most_unique_array))"
   ]
  },
  {
   "cell_type": "code",
   "execution_count": 14,
   "id": "cf1aaadb",
   "metadata": {
    "execution": {
     "iopub.execute_input": "2024-12-05T12:03:39.907901Z",
     "iopub.status.busy": "2024-12-05T12:03:39.907387Z",
     "iopub.status.idle": "2024-12-05T12:03:39.914695Z",
     "shell.execute_reply": "2024-12-05T12:03:39.913622Z"
    },
    "papermill": {
     "duration": 0.026121,
     "end_time": "2024-12-05T12:03:39.916958",
     "exception": false,
     "start_time": "2024-12-05T12:03:39.890837",
     "status": "completed"
    },
    "tags": []
   },
   "outputs": [
    {
     "data": {
      "text/plain": [
       "(3116945, 13)"
      ]
     },
     "execution_count": 14,
     "metadata": {},
     "output_type": "execute_result"
    }
   ],
   "source": [
    "train_df.shape"
   ]
  },
  {
   "cell_type": "code",
   "execution_count": 15,
   "id": "7b52434f",
   "metadata": {
    "execution": {
     "iopub.execute_input": "2024-12-05T12:03:39.947797Z",
     "iopub.status.busy": "2024-12-05T12:03:39.947360Z",
     "iopub.status.idle": "2024-12-05T12:03:48.138912Z",
     "shell.execute_reply": "2024-12-05T12:03:48.137663Z"
    },
    "papermill": {
     "duration": 8.209793,
     "end_time": "2024-12-05T12:03:48.141370",
     "exception": false,
     "start_time": "2024-12-05T12:03:39.931577",
     "status": "completed"
    },
    "tags": []
   },
   "outputs": [],
   "source": [
    "from sklearn.preprocessing import LabelEncoder\n",
    "encoder = LabelEncoder()\n",
    "\n",
    "columns_to_encode = ['cap-shape',\n",
    "    'cap-color',\n",
    "    'does-bruise-or-bleed',\n",
    "    'gill-color',\n",
    "    'stem-color',\n",
    "    'has-ring',\n",
    "    'habitat',\n",
    "    'season']\n",
    "\n",
    "# Apply LabelEncoder to the selected columns\n",
    "train_df[columns_to_encode] = train_df[columns_to_encode].apply(encoder.fit_transform)\n",
    "train_df['class'] = encoder.fit_transform(train_df['class'])\n",
    "test_df[columns_to_encode] = test_df[columns_to_encode].apply(encoder.fit_transform)\n"
   ]
  },
  {
   "cell_type": "code",
   "execution_count": 16,
   "id": "377bcd32",
   "metadata": {
    "execution": {
     "iopub.execute_input": "2024-12-05T12:03:48.173079Z",
     "iopub.status.busy": "2024-12-05T12:03:48.172629Z",
     "iopub.status.idle": "2024-12-05T12:03:48.187788Z",
     "shell.execute_reply": "2024-12-05T12:03:48.186646Z"
    },
    "papermill": {
     "duration": 0.033747,
     "end_time": "2024-12-05T12:03:48.190101",
     "exception": false,
     "start_time": "2024-12-05T12:03:48.156354",
     "status": "completed"
    },
    "tags": []
   },
   "outputs": [
    {
     "data": {
      "text/html": [
       "<div>\n",
       "<style scoped>\n",
       "    .dataframe tbody tr th:only-of-type {\n",
       "        vertical-align: middle;\n",
       "    }\n",
       "\n",
       "    .dataframe tbody tr th {\n",
       "        vertical-align: top;\n",
       "    }\n",
       "\n",
       "    .dataframe thead th {\n",
       "        text-align: right;\n",
       "    }\n",
       "</style>\n",
       "<table border=\"1\" class=\"dataframe\">\n",
       "  <thead>\n",
       "    <tr style=\"text-align: right;\">\n",
       "      <th></th>\n",
       "      <th>id</th>\n",
       "      <th>class</th>\n",
       "      <th>cap-diameter</th>\n",
       "      <th>cap-shape</th>\n",
       "      <th>cap-color</th>\n",
       "      <th>does-bruise-or-bleed</th>\n",
       "      <th>gill-color</th>\n",
       "      <th>stem-height</th>\n",
       "      <th>stem-width</th>\n",
       "      <th>stem-color</th>\n",
       "      <th>has-ring</th>\n",
       "      <th>habitat</th>\n",
       "      <th>season</th>\n",
       "    </tr>\n",
       "  </thead>\n",
       "  <tbody>\n",
       "    <tr>\n",
       "      <th>0</th>\n",
       "      <td>0</td>\n",
       "      <td>0</td>\n",
       "      <td>8.80</td>\n",
       "      <td>2</td>\n",
       "      <td>10</td>\n",
       "      <td>0</td>\n",
       "      <td>11</td>\n",
       "      <td>4.51</td>\n",
       "      <td>15.39</td>\n",
       "      <td>12</td>\n",
       "      <td>0</td>\n",
       "      <td>0</td>\n",
       "      <td>0</td>\n",
       "    </tr>\n",
       "    <tr>\n",
       "      <th>1</th>\n",
       "      <td>1</td>\n",
       "      <td>1</td>\n",
       "      <td>4.51</td>\n",
       "      <td>7</td>\n",
       "      <td>6</td>\n",
       "      <td>0</td>\n",
       "      <td>5</td>\n",
       "      <td>4.79</td>\n",
       "      <td>6.48</td>\n",
       "      <td>7</td>\n",
       "      <td>2</td>\n",
       "      <td>0</td>\n",
       "      <td>3</td>\n",
       "    </tr>\n",
       "    <tr>\n",
       "      <th>2</th>\n",
       "      <td>2</td>\n",
       "      <td>0</td>\n",
       "      <td>6.94</td>\n",
       "      <td>2</td>\n",
       "      <td>0</td>\n",
       "      <td>0</td>\n",
       "      <td>11</td>\n",
       "      <td>6.85</td>\n",
       "      <td>9.93</td>\n",
       "      <td>6</td>\n",
       "      <td>0</td>\n",
       "      <td>3</td>\n",
       "      <td>3</td>\n",
       "    </tr>\n",
       "    <tr>\n",
       "      <th>3</th>\n",
       "      <td>3</td>\n",
       "      <td>0</td>\n",
       "      <td>3.88</td>\n",
       "      <td>2</td>\n",
       "      <td>2</td>\n",
       "      <td>0</td>\n",
       "      <td>3</td>\n",
       "      <td>4.16</td>\n",
       "      <td>6.53</td>\n",
       "      <td>12</td>\n",
       "      <td>0</td>\n",
       "      <td>0</td>\n",
       "      <td>2</td>\n",
       "    </tr>\n",
       "    <tr>\n",
       "      <th>4</th>\n",
       "      <td>4</td>\n",
       "      <td>0</td>\n",
       "      <td>5.85</td>\n",
       "      <td>7</td>\n",
       "      <td>11</td>\n",
       "      <td>0</td>\n",
       "      <td>11</td>\n",
       "      <td>3.37</td>\n",
       "      <td>8.36</td>\n",
       "      <td>12</td>\n",
       "      <td>0</td>\n",
       "      <td>1</td>\n",
       "      <td>0</td>\n",
       "    </tr>\n",
       "  </tbody>\n",
       "</table>\n",
       "</div>"
      ],
      "text/plain": [
       "   id  class  cap-diameter  cap-shape  cap-color  does-bruise-or-bleed  \\\n",
       "0   0      0          8.80          2         10                     0   \n",
       "1   1      1          4.51          7          6                     0   \n",
       "2   2      0          6.94          2          0                     0   \n",
       "3   3      0          3.88          2          2                     0   \n",
       "4   4      0          5.85          7         11                     0   \n",
       "\n",
       "   gill-color  stem-height  stem-width  stem-color  has-ring  habitat  season  \n",
       "0          11         4.51       15.39          12         0        0       0  \n",
       "1           5         4.79        6.48           7         2        0       3  \n",
       "2          11         6.85        9.93           6         0        3       3  \n",
       "3           3         4.16        6.53          12         0        0       2  \n",
       "4          11         3.37        8.36          12         0        1       0  "
      ]
     },
     "execution_count": 16,
     "metadata": {},
     "output_type": "execute_result"
    }
   ],
   "source": [
    "train_df.head()"
   ]
  },
  {
   "cell_type": "code",
   "execution_count": 17,
   "id": "1b3a894b",
   "metadata": {
    "execution": {
     "iopub.execute_input": "2024-12-05T12:03:48.221607Z",
     "iopub.status.busy": "2024-12-05T12:03:48.221218Z",
     "iopub.status.idle": "2024-12-05T12:03:48.235678Z",
     "shell.execute_reply": "2024-12-05T12:03:48.234500Z"
    },
    "papermill": {
     "duration": 0.03314,
     "end_time": "2024-12-05T12:03:48.238220",
     "exception": false,
     "start_time": "2024-12-05T12:03:48.205080",
     "status": "completed"
    },
    "tags": []
   },
   "outputs": [
    {
     "data": {
      "text/html": [
       "<div>\n",
       "<style scoped>\n",
       "    .dataframe tbody tr th:only-of-type {\n",
       "        vertical-align: middle;\n",
       "    }\n",
       "\n",
       "    .dataframe tbody tr th {\n",
       "        vertical-align: top;\n",
       "    }\n",
       "\n",
       "    .dataframe thead th {\n",
       "        text-align: right;\n",
       "    }\n",
       "</style>\n",
       "<table border=\"1\" class=\"dataframe\">\n",
       "  <thead>\n",
       "    <tr style=\"text-align: right;\">\n",
       "      <th></th>\n",
       "      <th>id</th>\n",
       "      <th>cap-diameter</th>\n",
       "      <th>cap-shape</th>\n",
       "      <th>cap-color</th>\n",
       "      <th>does-bruise-or-bleed</th>\n",
       "      <th>gill-color</th>\n",
       "      <th>stem-height</th>\n",
       "      <th>stem-width</th>\n",
       "      <th>stem-color</th>\n",
       "      <th>has-ring</th>\n",
       "      <th>habitat</th>\n",
       "      <th>season</th>\n",
       "    </tr>\n",
       "  </thead>\n",
       "  <tbody>\n",
       "    <tr>\n",
       "      <th>0</th>\n",
       "      <td>3116945</td>\n",
       "      <td>8.64</td>\n",
       "      <td>7</td>\n",
       "      <td>5</td>\n",
       "      <td>2</td>\n",
       "      <td>11</td>\n",
       "      <td>11.13</td>\n",
       "      <td>17.12</td>\n",
       "      <td>12</td>\n",
       "      <td>2</td>\n",
       "      <td>0</td>\n",
       "      <td>0</td>\n",
       "    </tr>\n",
       "    <tr>\n",
       "      <th>1</th>\n",
       "      <td>3116946</td>\n",
       "      <td>6.90</td>\n",
       "      <td>3</td>\n",
       "      <td>6</td>\n",
       "      <td>0</td>\n",
       "      <td>12</td>\n",
       "      <td>1.27</td>\n",
       "      <td>10.75</td>\n",
       "      <td>6</td>\n",
       "      <td>0</td>\n",
       "      <td>0</td>\n",
       "      <td>0</td>\n",
       "    </tr>\n",
       "    <tr>\n",
       "      <th>2</th>\n",
       "      <td>3116947</td>\n",
       "      <td>2.00</td>\n",
       "      <td>0</td>\n",
       "      <td>5</td>\n",
       "      <td>0</td>\n",
       "      <td>5</td>\n",
       "      <td>6.18</td>\n",
       "      <td>3.14</td>\n",
       "      <td>6</td>\n",
       "      <td>0</td>\n",
       "      <td>0</td>\n",
       "      <td>1</td>\n",
       "    </tr>\n",
       "    <tr>\n",
       "      <th>3</th>\n",
       "      <td>3116948</td>\n",
       "      <td>3.47</td>\n",
       "      <td>7</td>\n",
       "      <td>5</td>\n",
       "      <td>0</td>\n",
       "      <td>5</td>\n",
       "      <td>4.98</td>\n",
       "      <td>8.51</td>\n",
       "      <td>12</td>\n",
       "      <td>2</td>\n",
       "      <td>0</td>\n",
       "      <td>2</td>\n",
       "    </tr>\n",
       "    <tr>\n",
       "      <th>4</th>\n",
       "      <td>3116949</td>\n",
       "      <td>6.17</td>\n",
       "      <td>7</td>\n",
       "      <td>12</td>\n",
       "      <td>0</td>\n",
       "      <td>12</td>\n",
       "      <td>6.73</td>\n",
       "      <td>13.70</td>\n",
       "      <td>13</td>\n",
       "      <td>2</td>\n",
       "      <td>0</td>\n",
       "      <td>2</td>\n",
       "    </tr>\n",
       "  </tbody>\n",
       "</table>\n",
       "</div>"
      ],
      "text/plain": [
       "        id  cap-diameter  cap-shape  cap-color  does-bruise-or-bleed  \\\n",
       "0  3116945          8.64          7          5                     2   \n",
       "1  3116946          6.90          3          6                     0   \n",
       "2  3116947          2.00          0          5                     0   \n",
       "3  3116948          3.47          7          5                     0   \n",
       "4  3116949          6.17          7         12                     0   \n",
       "\n",
       "   gill-color  stem-height  stem-width  stem-color  has-ring  habitat  season  \n",
       "0          11        11.13       17.12          12         2        0       0  \n",
       "1          12         1.27       10.75           6         0        0       0  \n",
       "2           5         6.18        3.14           6         0        0       1  \n",
       "3           5         4.98        8.51          12         2        0       2  \n",
       "4          12         6.73       13.70          13         2        0       2  "
      ]
     },
     "execution_count": 17,
     "metadata": {},
     "output_type": "execute_result"
    }
   ],
   "source": [
    "test_df.head()"
   ]
  },
  {
   "cell_type": "code",
   "execution_count": 18,
   "id": "20a14c3e",
   "metadata": {
    "execution": {
     "iopub.execute_input": "2024-12-05T12:03:48.270336Z",
     "iopub.status.busy": "2024-12-05T12:03:48.269924Z",
     "iopub.status.idle": "2024-12-05T12:03:49.972885Z",
     "shell.execute_reply": "2024-12-05T12:03:49.971737Z"
    },
    "papermill": {
     "duration": 1.721756,
     "end_time": "2024-12-05T12:03:49.975254",
     "exception": false,
     "start_time": "2024-12-05T12:03:48.253498",
     "status": "completed"
    },
    "tags": []
   },
   "outputs": [
    {
     "data": {
      "text/html": [
       "<div>\n",
       "<style scoped>\n",
       "    .dataframe tbody tr th:only-of-type {\n",
       "        vertical-align: middle;\n",
       "    }\n",
       "\n",
       "    .dataframe tbody tr th {\n",
       "        vertical-align: top;\n",
       "    }\n",
       "\n",
       "    .dataframe thead th {\n",
       "        text-align: right;\n",
       "    }\n",
       "</style>\n",
       "<table border=\"1\" class=\"dataframe\">\n",
       "  <thead>\n",
       "    <tr style=\"text-align: right;\">\n",
       "      <th></th>\n",
       "      <th>id</th>\n",
       "      <th>class</th>\n",
       "      <th>cap-diameter</th>\n",
       "      <th>cap-shape</th>\n",
       "      <th>cap-color</th>\n",
       "      <th>does-bruise-or-bleed</th>\n",
       "      <th>gill-color</th>\n",
       "      <th>stem-height</th>\n",
       "      <th>stem-width</th>\n",
       "      <th>stem-color</th>\n",
       "      <th>has-ring</th>\n",
       "      <th>habitat</th>\n",
       "      <th>season</th>\n",
       "    </tr>\n",
       "  </thead>\n",
       "  <tbody>\n",
       "    <tr>\n",
       "      <th>id</th>\n",
       "      <td>1.000000</td>\n",
       "      <td>-0.000136</td>\n",
       "      <td>0.000291</td>\n",
       "      <td>0.000042</td>\n",
       "      <td>-0.000779</td>\n",
       "      <td>0.000723</td>\n",
       "      <td>-0.000188</td>\n",
       "      <td>0.000124</td>\n",
       "      <td>0.000396</td>\n",
       "      <td>-0.000783</td>\n",
       "      <td>-0.000613</td>\n",
       "      <td>0.000150</td>\n",
       "      <td>0.001095</td>\n",
       "    </tr>\n",
       "    <tr>\n",
       "      <th>class</th>\n",
       "      <td>-0.000136</td>\n",
       "      <td>1.000000</td>\n",
       "      <td>-0.162626</td>\n",
       "      <td>-0.101995</td>\n",
       "      <td>0.053140</td>\n",
       "      <td>-0.037554</td>\n",
       "      <td>-0.072455</td>\n",
       "      <td>-0.049740</td>\n",
       "      <td>-0.169807</td>\n",
       "      <td>-0.079961</td>\n",
       "      <td>0.049632</td>\n",
       "      <td>-0.024654</td>\n",
       "      <td>-0.063554</td>\n",
       "    </tr>\n",
       "    <tr>\n",
       "      <th>cap-diameter</th>\n",
       "      <td>0.000291</td>\n",
       "      <td>-0.162626</td>\n",
       "      <td>1.000000</td>\n",
       "      <td>0.112902</td>\n",
       "      <td>0.041557</td>\n",
       "      <td>0.239087</td>\n",
       "      <td>0.218221</td>\n",
       "      <td>0.364063</td>\n",
       "      <td>0.746316</td>\n",
       "      <td>0.038754</td>\n",
       "      <td>0.098923</td>\n",
       "      <td>-0.136582</td>\n",
       "      <td>0.019936</td>\n",
       "    </tr>\n",
       "    <tr>\n",
       "      <th>cap-shape</th>\n",
       "      <td>0.000042</td>\n",
       "      <td>-0.101995</td>\n",
       "      <td>0.112902</td>\n",
       "      <td>1.000000</td>\n",
       "      <td>0.009725</td>\n",
       "      <td>0.186963</td>\n",
       "      <td>0.113039</td>\n",
       "      <td>0.028539</td>\n",
       "      <td>0.158077</td>\n",
       "      <td>-0.010203</td>\n",
       "      <td>0.071004</td>\n",
       "      <td>-0.137261</td>\n",
       "      <td>-0.031301</td>\n",
       "    </tr>\n",
       "    <tr>\n",
       "      <th>cap-color</th>\n",
       "      <td>-0.000779</td>\n",
       "      <td>0.053140</td>\n",
       "      <td>0.041557</td>\n",
       "      <td>0.009725</td>\n",
       "      <td>1.000000</td>\n",
       "      <td>0.029827</td>\n",
       "      <td>0.130689</td>\n",
       "      <td>-0.023730</td>\n",
       "      <td>0.027574</td>\n",
       "      <td>0.272613</td>\n",
       "      <td>0.074297</td>\n",
       "      <td>0.043311</td>\n",
       "      <td>-0.006710</td>\n",
       "    </tr>\n",
       "    <tr>\n",
       "      <th>does-bruise-or-bleed</th>\n",
       "      <td>0.000723</td>\n",
       "      <td>-0.037554</td>\n",
       "      <td>0.239087</td>\n",
       "      <td>0.186963</td>\n",
       "      <td>0.029827</td>\n",
       "      <td>1.000000</td>\n",
       "      <td>0.026791</td>\n",
       "      <td>0.122227</td>\n",
       "      <td>0.271237</td>\n",
       "      <td>-0.042469</td>\n",
       "      <td>0.042160</td>\n",
       "      <td>-0.119139</td>\n",
       "      <td>-0.057611</td>\n",
       "    </tr>\n",
       "    <tr>\n",
       "      <th>gill-color</th>\n",
       "      <td>-0.000188</td>\n",
       "      <td>-0.072455</td>\n",
       "      <td>0.218221</td>\n",
       "      <td>0.113039</td>\n",
       "      <td>0.130689</td>\n",
       "      <td>0.026791</td>\n",
       "      <td>1.000000</td>\n",
       "      <td>0.128814</td>\n",
       "      <td>0.143781</td>\n",
       "      <td>0.149984</td>\n",
       "      <td>-0.032150</td>\n",
       "      <td>-0.060118</td>\n",
       "      <td>-0.005227</td>\n",
       "    </tr>\n",
       "    <tr>\n",
       "      <th>stem-height</th>\n",
       "      <td>0.000124</td>\n",
       "      <td>-0.049740</td>\n",
       "      <td>0.364063</td>\n",
       "      <td>0.028539</td>\n",
       "      <td>-0.023730</td>\n",
       "      <td>0.122227</td>\n",
       "      <td>0.128814</td>\n",
       "      <td>1.000000</td>\n",
       "      <td>0.356225</td>\n",
       "      <td>0.125384</td>\n",
       "      <td>0.301541</td>\n",
       "      <td>-0.066876</td>\n",
       "      <td>-0.029250</td>\n",
       "    </tr>\n",
       "    <tr>\n",
       "      <th>stem-width</th>\n",
       "      <td>0.000396</td>\n",
       "      <td>-0.169807</td>\n",
       "      <td>0.746316</td>\n",
       "      <td>0.158077</td>\n",
       "      <td>0.027574</td>\n",
       "      <td>0.271237</td>\n",
       "      <td>0.143781</td>\n",
       "      <td>0.356225</td>\n",
       "      <td>1.000000</td>\n",
       "      <td>0.093280</td>\n",
       "      <td>0.041101</td>\n",
       "      <td>-0.133317</td>\n",
       "      <td>-0.003686</td>\n",
       "    </tr>\n",
       "    <tr>\n",
       "      <th>stem-color</th>\n",
       "      <td>-0.000783</td>\n",
       "      <td>-0.079961</td>\n",
       "      <td>0.038754</td>\n",
       "      <td>-0.010203</td>\n",
       "      <td>0.272613</td>\n",
       "      <td>-0.042469</td>\n",
       "      <td>0.149984</td>\n",
       "      <td>0.125384</td>\n",
       "      <td>0.093280</td>\n",
       "      <td>1.000000</td>\n",
       "      <td>0.172847</td>\n",
       "      <td>0.030875</td>\n",
       "      <td>-0.015617</td>\n",
       "    </tr>\n",
       "    <tr>\n",
       "      <th>has-ring</th>\n",
       "      <td>-0.000613</td>\n",
       "      <td>0.049632</td>\n",
       "      <td>0.098923</td>\n",
       "      <td>0.071004</td>\n",
       "      <td>0.074297</td>\n",
       "      <td>0.042160</td>\n",
       "      <td>-0.032150</td>\n",
       "      <td>0.301541</td>\n",
       "      <td>0.041101</td>\n",
       "      <td>0.172847</td>\n",
       "      <td>1.000000</td>\n",
       "      <td>0.080378</td>\n",
       "      <td>0.030286</td>\n",
       "    </tr>\n",
       "    <tr>\n",
       "      <th>habitat</th>\n",
       "      <td>0.000150</td>\n",
       "      <td>-0.024654</td>\n",
       "      <td>-0.136582</td>\n",
       "      <td>-0.137261</td>\n",
       "      <td>0.043311</td>\n",
       "      <td>-0.119139</td>\n",
       "      <td>-0.060118</td>\n",
       "      <td>-0.066876</td>\n",
       "      <td>-0.133317</td>\n",
       "      <td>0.030875</td>\n",
       "      <td>0.080378</td>\n",
       "      <td>1.000000</td>\n",
       "      <td>0.016678</td>\n",
       "    </tr>\n",
       "    <tr>\n",
       "      <th>season</th>\n",
       "      <td>0.001095</td>\n",
       "      <td>-0.063554</td>\n",
       "      <td>0.019936</td>\n",
       "      <td>-0.031301</td>\n",
       "      <td>-0.006710</td>\n",
       "      <td>-0.057611</td>\n",
       "      <td>-0.005227</td>\n",
       "      <td>-0.029250</td>\n",
       "      <td>-0.003686</td>\n",
       "      <td>-0.015617</td>\n",
       "      <td>0.030286</td>\n",
       "      <td>0.016678</td>\n",
       "      <td>1.000000</td>\n",
       "    </tr>\n",
       "  </tbody>\n",
       "</table>\n",
       "</div>"
      ],
      "text/plain": [
       "                            id     class  cap-diameter  cap-shape  cap-color  \\\n",
       "id                    1.000000 -0.000136      0.000291   0.000042  -0.000779   \n",
       "class                -0.000136  1.000000     -0.162626  -0.101995   0.053140   \n",
       "cap-diameter          0.000291 -0.162626      1.000000   0.112902   0.041557   \n",
       "cap-shape             0.000042 -0.101995      0.112902   1.000000   0.009725   \n",
       "cap-color            -0.000779  0.053140      0.041557   0.009725   1.000000   \n",
       "does-bruise-or-bleed  0.000723 -0.037554      0.239087   0.186963   0.029827   \n",
       "gill-color           -0.000188 -0.072455      0.218221   0.113039   0.130689   \n",
       "stem-height           0.000124 -0.049740      0.364063   0.028539  -0.023730   \n",
       "stem-width            0.000396 -0.169807      0.746316   0.158077   0.027574   \n",
       "stem-color           -0.000783 -0.079961      0.038754  -0.010203   0.272613   \n",
       "has-ring             -0.000613  0.049632      0.098923   0.071004   0.074297   \n",
       "habitat               0.000150 -0.024654     -0.136582  -0.137261   0.043311   \n",
       "season                0.001095 -0.063554      0.019936  -0.031301  -0.006710   \n",
       "\n",
       "                      does-bruise-or-bleed  gill-color  stem-height  \\\n",
       "id                                0.000723   -0.000188     0.000124   \n",
       "class                            -0.037554   -0.072455    -0.049740   \n",
       "cap-diameter                      0.239087    0.218221     0.364063   \n",
       "cap-shape                         0.186963    0.113039     0.028539   \n",
       "cap-color                         0.029827    0.130689    -0.023730   \n",
       "does-bruise-or-bleed              1.000000    0.026791     0.122227   \n",
       "gill-color                        0.026791    1.000000     0.128814   \n",
       "stem-height                       0.122227    0.128814     1.000000   \n",
       "stem-width                        0.271237    0.143781     0.356225   \n",
       "stem-color                       -0.042469    0.149984     0.125384   \n",
       "has-ring                          0.042160   -0.032150     0.301541   \n",
       "habitat                          -0.119139   -0.060118    -0.066876   \n",
       "season                           -0.057611   -0.005227    -0.029250   \n",
       "\n",
       "                      stem-width  stem-color  has-ring   habitat    season  \n",
       "id                      0.000396   -0.000783 -0.000613  0.000150  0.001095  \n",
       "class                  -0.169807   -0.079961  0.049632 -0.024654 -0.063554  \n",
       "cap-diameter            0.746316    0.038754  0.098923 -0.136582  0.019936  \n",
       "cap-shape               0.158077   -0.010203  0.071004 -0.137261 -0.031301  \n",
       "cap-color               0.027574    0.272613  0.074297  0.043311 -0.006710  \n",
       "does-bruise-or-bleed    0.271237   -0.042469  0.042160 -0.119139 -0.057611  \n",
       "gill-color              0.143781    0.149984 -0.032150 -0.060118 -0.005227  \n",
       "stem-height             0.356225    0.125384  0.301541 -0.066876 -0.029250  \n",
       "stem-width              1.000000    0.093280  0.041101 -0.133317 -0.003686  \n",
       "stem-color              0.093280    1.000000  0.172847  0.030875 -0.015617  \n",
       "has-ring                0.041101    0.172847  1.000000  0.080378  0.030286  \n",
       "habitat                -0.133317    0.030875  0.080378  1.000000  0.016678  \n",
       "season                 -0.003686   -0.015617  0.030286  0.016678  1.000000  "
      ]
     },
     "execution_count": 18,
     "metadata": {},
     "output_type": "execute_result"
    }
   ],
   "source": [
    "train_df.corr()"
   ]
  },
  {
   "cell_type": "code",
   "execution_count": 19,
   "id": "33c89ccd",
   "metadata": {
    "execution": {
     "iopub.execute_input": "2024-12-05T12:03:50.008056Z",
     "iopub.status.busy": "2024-12-05T12:03:50.007622Z",
     "iopub.status.idle": "2024-12-05T12:03:50.145507Z",
     "shell.execute_reply": "2024-12-05T12:03:50.144572Z"
    },
    "papermill": {
     "duration": 0.157341,
     "end_time": "2024-12-05T12:03:50.148222",
     "exception": false,
     "start_time": "2024-12-05T12:03:49.990881",
     "status": "completed"
    },
    "tags": []
   },
   "outputs": [],
   "source": [
    "x=train_df[['cap-diameter','cap-shape','cap-color','does-bruise-or-bleed','gill-color','stem-height','stem-width','stem-color','has-ring','habitat','season']]\n",
    "y=train_df['class']"
   ]
  },
  {
   "cell_type": "code",
   "execution_count": 20,
   "id": "16b35db2",
   "metadata": {
    "execution": {
     "iopub.execute_input": "2024-12-05T12:03:50.181792Z",
     "iopub.status.busy": "2024-12-05T12:03:50.180575Z",
     "iopub.status.idle": "2024-12-05T12:03:52.119822Z",
     "shell.execute_reply": "2024-12-05T12:03:52.118823Z"
    },
    "papermill": {
     "duration": 1.958478,
     "end_time": "2024-12-05T12:03:52.122233",
     "exception": false,
     "start_time": "2024-12-05T12:03:50.163755",
     "status": "completed"
    },
    "tags": []
   },
   "outputs": [],
   "source": [
    "from sklearn.model_selection import train_test_split\n",
    "from sklearn.preprocessing import StandardScaler\n",
    "from imblearn.over_sampling import SMOTE\n",
    "\n",
    "scaler = StandardScaler()\n",
    "\n",
    "# Fit and transform the data\n",
    "x = scaler.fit_transform(x)\n",
    "\n",
    "x_train, x_test, y_train, y_test = train_test_split(x, y, test_size=0.33, random_state=42)\n",
    "y_train = y_train.values.reshape(-1, 1)  # Convert to NumPy array and reshape\n",
    "y_test = y_test.values.reshape(-1, 1)"
   ]
  },
  {
   "cell_type": "code",
   "execution_count": 21,
   "id": "8e5b97af",
   "metadata": {
    "execution": {
     "iopub.execute_input": "2024-12-05T12:03:52.155398Z",
     "iopub.status.busy": "2024-12-05T12:03:52.154063Z",
     "iopub.status.idle": "2024-12-05T12:03:52.160619Z",
     "shell.execute_reply": "2024-12-05T12:03:52.159491Z"
    },
    "papermill": {
     "duration": 0.025433,
     "end_time": "2024-12-05T12:03:52.163047",
     "exception": false,
     "start_time": "2024-12-05T12:03:52.137614",
     "status": "completed"
    },
    "tags": []
   },
   "outputs": [
    {
     "name": "stdout",
     "output_type": "stream",
     "text": [
      "x_train (2088353, 11)\n",
      "x_test (1028592, 11)\n",
      "y_train (2088353, 1)\n",
      "y_test (1028592, 1)\n"
     ]
    }
   ],
   "source": [
    "print('x_train',x_train.shape)\n",
    "print('x_test',x_test.shape)\n",
    "print('y_train',y_train.shape)\n",
    "print('y_test',y_test.shape)"
   ]
  },
  {
   "cell_type": "code",
   "execution_count": 22,
   "id": "fb8b644e",
   "metadata": {
    "execution": {
     "iopub.execute_input": "2024-12-05T12:03:52.195208Z",
     "iopub.status.busy": "2024-12-05T12:03:52.194843Z",
     "iopub.status.idle": "2024-12-05T12:04:05.232841Z",
     "shell.execute_reply": "2024-12-05T12:04:05.231812Z"
    },
    "papermill": {
     "duration": 13.056919,
     "end_time": "2024-12-05T12:04:05.235293",
     "exception": false,
     "start_time": "2024-12-05T12:03:52.178374",
     "status": "completed"
    },
    "tags": []
   },
   "outputs": [],
   "source": [
    "import tensorflow as tf\n",
    "from tensorflow.keras.layers import Dense\n",
    "from tensorflow.keras.regularizers import l2\n",
    "\n",
    "model=tf.keras.Sequential([\n",
    "    tf.keras.layers.Dense(64,activation='relu',input_shape=(x_train.shape[1],)),\n",
    "    tf.keras.layers.Dense(32,activation='relu'),\n",
    "    tf.keras.layers.Dense(1,activation='sigmoid')\n",
    "])"
   ]
  },
  {
   "cell_type": "code",
   "execution_count": 23,
   "id": "fa6f3e66",
   "metadata": {
    "execution": {
     "iopub.execute_input": "2024-12-05T12:04:05.268352Z",
     "iopub.status.busy": "2024-12-05T12:04:05.267682Z",
     "iopub.status.idle": "2024-12-05T12:04:05.288226Z",
     "shell.execute_reply": "2024-12-05T12:04:05.287079Z"
    },
    "papermill": {
     "duration": 0.039663,
     "end_time": "2024-12-05T12:04:05.290506",
     "exception": false,
     "start_time": "2024-12-05T12:04:05.250843",
     "status": "completed"
    },
    "tags": []
   },
   "outputs": [
    {
     "data": {
      "text/html": [
       "<pre style=\"white-space:pre;overflow-x:auto;line-height:normal;font-family:Menlo,'DejaVu Sans Mono',consolas,'Courier New',monospace\"><span style=\"font-weight: bold\">Model: \"sequential\"</span>\n",
       "</pre>\n"
      ],
      "text/plain": [
       "\u001b[1mModel: \"sequential\"\u001b[0m\n"
      ]
     },
     "metadata": {},
     "output_type": "display_data"
    },
    {
     "data": {
      "text/html": [
       "<pre style=\"white-space:pre;overflow-x:auto;line-height:normal;font-family:Menlo,'DejaVu Sans Mono',consolas,'Courier New',monospace\">┏━━━━━━━━━━━━━━━━━━━━━━━━━━━━━━━━━┳━━━━━━━━━━━━━━━━━━━━━━━━┳━━━━━━━━━━━━━━━┓\n",
       "┃<span style=\"font-weight: bold\"> Layer (type)                    </span>┃<span style=\"font-weight: bold\"> Output Shape           </span>┃<span style=\"font-weight: bold\">       Param # </span>┃\n",
       "┡━━━━━━━━━━━━━━━━━━━━━━━━━━━━━━━━━╇━━━━━━━━━━━━━━━━━━━━━━━━╇━━━━━━━━━━━━━━━┩\n",
       "│ dense (<span style=\"color: #0087ff; text-decoration-color: #0087ff\">Dense</span>)                   │ (<span style=\"color: #00d7ff; text-decoration-color: #00d7ff\">None</span>, <span style=\"color: #00af00; text-decoration-color: #00af00\">64</span>)             │           <span style=\"color: #00af00; text-decoration-color: #00af00\">768</span> │\n",
       "├─────────────────────────────────┼────────────────────────┼───────────────┤\n",
       "│ dense_1 (<span style=\"color: #0087ff; text-decoration-color: #0087ff\">Dense</span>)                 │ (<span style=\"color: #00d7ff; text-decoration-color: #00d7ff\">None</span>, <span style=\"color: #00af00; text-decoration-color: #00af00\">32</span>)             │         <span style=\"color: #00af00; text-decoration-color: #00af00\">2,080</span> │\n",
       "├─────────────────────────────────┼────────────────────────┼───────────────┤\n",
       "│ dense_2 (<span style=\"color: #0087ff; text-decoration-color: #0087ff\">Dense</span>)                 │ (<span style=\"color: #00d7ff; text-decoration-color: #00d7ff\">None</span>, <span style=\"color: #00af00; text-decoration-color: #00af00\">1</span>)              │            <span style=\"color: #00af00; text-decoration-color: #00af00\">33</span> │\n",
       "└─────────────────────────────────┴────────────────────────┴───────────────┘\n",
       "</pre>\n"
      ],
      "text/plain": [
       "┏━━━━━━━━━━━━━━━━━━━━━━━━━━━━━━━━━┳━━━━━━━━━━━━━━━━━━━━━━━━┳━━━━━━━━━━━━━━━┓\n",
       "┃\u001b[1m \u001b[0m\u001b[1mLayer (type)                   \u001b[0m\u001b[1m \u001b[0m┃\u001b[1m \u001b[0m\u001b[1mOutput Shape          \u001b[0m\u001b[1m \u001b[0m┃\u001b[1m \u001b[0m\u001b[1m      Param #\u001b[0m\u001b[1m \u001b[0m┃\n",
       "┡━━━━━━━━━━━━━━━━━━━━━━━━━━━━━━━━━╇━━━━━━━━━━━━━━━━━━━━━━━━╇━━━━━━━━━━━━━━━┩\n",
       "│ dense (\u001b[38;5;33mDense\u001b[0m)                   │ (\u001b[38;5;45mNone\u001b[0m, \u001b[38;5;34m64\u001b[0m)             │           \u001b[38;5;34m768\u001b[0m │\n",
       "├─────────────────────────────────┼────────────────────────┼───────────────┤\n",
       "│ dense_1 (\u001b[38;5;33mDense\u001b[0m)                 │ (\u001b[38;5;45mNone\u001b[0m, \u001b[38;5;34m32\u001b[0m)             │         \u001b[38;5;34m2,080\u001b[0m │\n",
       "├─────────────────────────────────┼────────────────────────┼───────────────┤\n",
       "│ dense_2 (\u001b[38;5;33mDense\u001b[0m)                 │ (\u001b[38;5;45mNone\u001b[0m, \u001b[38;5;34m1\u001b[0m)              │            \u001b[38;5;34m33\u001b[0m │\n",
       "└─────────────────────────────────┴────────────────────────┴───────────────┘\n"
      ]
     },
     "metadata": {},
     "output_type": "display_data"
    },
    {
     "data": {
      "text/html": [
       "<pre style=\"white-space:pre;overflow-x:auto;line-height:normal;font-family:Menlo,'DejaVu Sans Mono',consolas,'Courier New',monospace\"><span style=\"font-weight: bold\"> Total params: </span><span style=\"color: #00af00; text-decoration-color: #00af00\">2,881</span> (11.25 KB)\n",
       "</pre>\n"
      ],
      "text/plain": [
       "\u001b[1m Total params: \u001b[0m\u001b[38;5;34m2,881\u001b[0m (11.25 KB)\n"
      ]
     },
     "metadata": {},
     "output_type": "display_data"
    },
    {
     "data": {
      "text/html": [
       "<pre style=\"white-space:pre;overflow-x:auto;line-height:normal;font-family:Menlo,'DejaVu Sans Mono',consolas,'Courier New',monospace\"><span style=\"font-weight: bold\"> Trainable params: </span><span style=\"color: #00af00; text-decoration-color: #00af00\">2,881</span> (11.25 KB)\n",
       "</pre>\n"
      ],
      "text/plain": [
       "\u001b[1m Trainable params: \u001b[0m\u001b[38;5;34m2,881\u001b[0m (11.25 KB)\n"
      ]
     },
     "metadata": {},
     "output_type": "display_data"
    },
    {
     "data": {
      "text/html": [
       "<pre style=\"white-space:pre;overflow-x:auto;line-height:normal;font-family:Menlo,'DejaVu Sans Mono',consolas,'Courier New',monospace\"><span style=\"font-weight: bold\"> Non-trainable params: </span><span style=\"color: #00af00; text-decoration-color: #00af00\">0</span> (0.00 B)\n",
       "</pre>\n"
      ],
      "text/plain": [
       "\u001b[1m Non-trainable params: \u001b[0m\u001b[38;5;34m0\u001b[0m (0.00 B)\n"
      ]
     },
     "metadata": {},
     "output_type": "display_data"
    }
   ],
   "source": [
    "model.summary()"
   ]
  },
  {
   "cell_type": "code",
   "execution_count": 24,
   "id": "49caed60",
   "metadata": {
    "execution": {
     "iopub.execute_input": "2024-12-05T12:04:05.324574Z",
     "iopub.status.busy": "2024-12-05T12:04:05.324192Z",
     "iopub.status.idle": "2024-12-05T12:04:05.331638Z",
     "shell.execute_reply": "2024-12-05T12:04:05.330520Z"
    },
    "papermill": {
     "duration": 0.027136,
     "end_time": "2024-12-05T12:04:05.333871",
     "exception": false,
     "start_time": "2024-12-05T12:04:05.306735",
     "status": "completed"
    },
    "tags": []
   },
   "outputs": [],
   "source": [
    "from tensorflow.keras import backend as K\n",
    "from sklearn.metrics import matthews_corrcoef\n",
    "\n",
    "def mcc_metric(y_true, y_pred):\n",
    "\n",
    "    y_pred_pos = K.round(y_pred)  # Convert probabilities to 0 or 1\n",
    "    y_true = K.cast(y_true, dtype=tf.float32)\n",
    "    y_pred_pos = K.cast(y_pred_pos, dtype=tf.float32)\n",
    "    \n",
    "    # Calculate components\n",
    "    tp = K.sum(y_true * y_pred_pos)\n",
    "    tn = K.sum((1 - y_true) * (1 - y_pred_pos))\n",
    "    fp = K.sum((1 - y_true) * y_pred_pos)\n",
    "    fn = K.sum(y_true * (1 - y_pred_pos))\n",
    "    \n",
    "    # MCC calculation\n",
    "    numerator = tp * tn - fp * fn\n",
    "    denominator = K.sqrt((tp + fp) * (tp + fn) * (tn + fp) * (tn + fn) + K.epsilon())\n",
    "    mcc = numerator / (denominator + K.epsilon())\n",
    "    \n",
    "    return mcc"
   ]
  },
  {
   "cell_type": "code",
   "execution_count": 25,
   "id": "ffe26c53",
   "metadata": {
    "execution": {
     "iopub.execute_input": "2024-12-05T12:04:05.384523Z",
     "iopub.status.busy": "2024-12-05T12:04:05.383174Z",
     "iopub.status.idle": "2024-12-05T12:04:05.404733Z",
     "shell.execute_reply": "2024-12-05T12:04:05.403404Z"
    },
    "papermill": {
     "duration": 0.054705,
     "end_time": "2024-12-05T12:04:05.408092",
     "exception": false,
     "start_time": "2024-12-05T12:04:05.353387",
     "status": "completed"
    },
    "tags": []
   },
   "outputs": [],
   "source": [
    "model.compile(optimizer='adam',loss='binary_crossentropy',metrics=['accuracy',mcc_metric])"
   ]
  },
  {
   "cell_type": "code",
   "execution_count": 26,
   "id": "ec9f098c",
   "metadata": {
    "execution": {
     "iopub.execute_input": "2024-12-05T12:04:05.453086Z",
     "iopub.status.busy": "2024-12-05T12:04:05.452201Z",
     "iopub.status.idle": "2024-12-05T12:16:29.689074Z",
     "shell.execute_reply": "2024-12-05T12:16:29.687789Z"
    },
    "papermill": {
     "duration": 744.964345,
     "end_time": "2024-12-05T12:16:30.396754",
     "exception": false,
     "start_time": "2024-12-05T12:04:05.432409",
     "status": "completed"
    },
    "tags": []
   },
   "outputs": [
    {
     "name": "stdout",
     "output_type": "stream",
     "text": [
      "Epoch 1/5\n",
      "\u001b[1m73093/73093\u001b[0m \u001b[32m━━━━━━━━━━━━━━━━━━━━\u001b[0m\u001b[37m\u001b[0m \u001b[1m151s\u001b[0m 2ms/step - accuracy: 0.9016 - loss: 0.2508 - mcc_metric: 0.8015 - val_accuracy: 0.9556 - val_loss: 0.1413 - val_mcc_metric: 0.9106\n",
      "Epoch 2/5\n",
      "\u001b[1m73093/73093\u001b[0m \u001b[32m━━━━━━━━━━━━━━━━━━━━\u001b[0m\u001b[37m\u001b[0m \u001b[1m149s\u001b[0m 2ms/step - accuracy: 0.9596 - loss: 0.1322 - mcc_metric: 0.9183 - val_accuracy: 0.9614 - val_loss: 0.1249 - val_mcc_metric: 0.9220\n",
      "Epoch 3/5\n",
      "\u001b[1m73093/73093\u001b[0m \u001b[32m━━━━━━━━━━━━━━━━━━━━\u001b[0m\u001b[37m\u001b[0m \u001b[1m149s\u001b[0m 2ms/step - accuracy: 0.9643 - loss: 0.1183 - mcc_metric: 0.9279 - val_accuracy: 0.9656 - val_loss: 0.1131 - val_mcc_metric: 0.9304\n",
      "Epoch 4/5\n",
      "\u001b[1m73093/73093\u001b[0m \u001b[32m━━━━━━━━━━━━━━━━━━━━\u001b[0m\u001b[37m\u001b[0m \u001b[1m147s\u001b[0m 2ms/step - accuracy: 0.9661 - loss: 0.1124 - mcc_metric: 0.9315 - val_accuracy: 0.9665 - val_loss: 0.1107 - val_mcc_metric: 0.9320\n",
      "Epoch 5/5\n",
      "\u001b[1m73093/73093\u001b[0m \u001b[32m━━━━━━━━━━━━━━━━━━━━\u001b[0m\u001b[37m\u001b[0m \u001b[1m148s\u001b[0m 2ms/step - accuracy: 0.9673 - loss: 0.1078 - mcc_metric: 0.9338 - val_accuracy: 0.9671 - val_loss: 0.1090 - val_mcc_metric: 0.9334\n"
     ]
    }
   ],
   "source": [
    "history=model.fit(x_train,y_train,validation_split=0.3,epochs=5,batch_size=20,verbose=1)"
   ]
  },
  {
   "cell_type": "code",
   "execution_count": 27,
   "id": "674f562a",
   "metadata": {
    "execution": {
     "iopub.execute_input": "2024-12-05T12:16:31.750906Z",
     "iopub.status.busy": "2024-12-05T12:16:31.750468Z",
     "iopub.status.idle": "2024-12-05T12:16:32.033057Z",
     "shell.execute_reply": "2024-12-05T12:16:32.031799Z"
    },
    "papermill": {
     "duration": 0.988992,
     "end_time": "2024-12-05T12:16:32.035757",
     "exception": false,
     "start_time": "2024-12-05T12:16:31.046765",
     "status": "completed"
    },
    "tags": []
   },
   "outputs": [
    {
     "data": {
      "image/png": "[encoded data removed]",
      "text/plain": [
       "<Figure size 800x600 with 1 Axes>"
      ]
     },
     "metadata": {},
     "output_type": "display_data"
    }
   ],
   "source": [
    "loss = history.history['loss']\n",
    "val_loss = history.history['val_loss']\n",
    "epochs = range(1, len(loss) + 1)\n",
    "\n",
    "# Plot\n",
    "plt.figure(figsize=(8, 6))\n",
    "plt.plot(epochs, loss, label='Training Loss', marker='o')\n",
    "plt.plot(epochs, val_loss, label='Validation Loss', marker='x')\n",
    "plt.title('Training and Validation Loss', fontsize=14)\n",
    "plt.xlabel('Epochs', fontsize=12)\n",
    "plt.ylabel('Loss', fontsize=12)\n",
    "plt.legend()\n",
    "plt.grid()\n",
    "plt.show()"
   ]
  },
  {
   "cell_type": "code",
   "execution_count": 28,
   "id": "7245a479",
   "metadata": {
    "execution": {
     "iopub.execute_input": "2024-12-05T12:16:33.424996Z",
     "iopub.status.busy": "2024-12-05T12:16:33.424575Z",
     "iopub.status.idle": "2024-12-05T12:16:33.744062Z",
     "shell.execute_reply": "2024-12-05T12:16:33.742940Z"
    },
    "papermill": {
     "duration": 1.032799,
     "end_time": "2024-12-05T12:16:33.746053",
     "exception": false,
     "start_time": "2024-12-05T12:16:32.713254",
     "status": "completed"
    },
    "tags": []
   },
   "outputs": [
    {
     "data": {
      "image/png": "[encoded data removed]",
      "text/plain": [
       "<Figure size 800x600 with 1 Axes>"
      ]
     },
     "metadata": {},
     "output_type": "display_data"
    }
   ],
   "source": [
    "accuracy = history.history['accuracy']\n",
    "val_accuracy = history.history['mcc_metric']\n",
    "val_accuracy1 = history.history['val_accuracy']\n",
    "\n",
    "epochs = range(1, len(accuracy) + 1)\n",
    "\n",
    "plt.figure(figsize=(8, 6))\n",
    "plt.plot(epochs, accuracy, label='Training Accuracy', marker='o')\n",
    "plt.plot(epochs, val_accuracy, label='mcc_metric Accuracy', marker='x')\n",
    "plt.plot(epochs, val_accuracy1,color='red', label='val_accuracy Accuracy')\n",
    "\n",
    "plt.title('Training and mcc_metric Accuracy', fontsize=14)\n",
    "plt.xlabel('Epochs', fontsize=12)\n",
    "plt.ylabel('Accuracy', fontsize=12)\n",
    "plt.legend()\n",
    "plt.grid()\n",
    "plt.show()"
   ]
  },
  {
   "cell_type": "code",
   "execution_count": 29,
   "id": "551920ff",
   "metadata": {
    "execution": {
     "iopub.execute_input": "2024-12-05T12:16:35.129625Z",
     "iopub.status.busy": "2024-12-05T12:16:35.129137Z",
     "iopub.status.idle": "2024-12-05T12:17:25.024689Z",
     "shell.execute_reply": "2024-12-05T12:17:25.023476Z"
    },
    "papermill": {
     "duration": 50.609213,
     "end_time": "2024-12-05T12:17:25.027258",
     "exception": false,
     "start_time": "2024-12-05T12:16:34.418045",
     "status": "completed"
    },
    "tags": []
   },
   "outputs": [
    {
     "name": "stdout",
     "output_type": "stream",
     "text": [
      "\u001b[1m32144/32144\u001b[0m \u001b[32m━━━━━━━━━━━━━━━━━━━━\u001b[0m\u001b[37m\u001b[0m \u001b[1m34s\u001b[0m 1ms/step\n"
     ]
    },
    {
     "data": {
      "image/png": "[encoded data removed]",
      "text/plain": [
       "<Figure size 600x600 with 2 Axes>"
      ]
     },
     "metadata": {},
     "output_type": "display_data"
    }
   ],
   "source": [
    "from sklearn.metrics import confusion_matrix\n",
    "import seaborn as sns\n",
    "y_pred = model.predict(x_test)  # Make predictions on the test set\n",
    "\n",
    "# Step 2: Convert predictions to binary class labels (0 or 1)\n",
    "y_pred_binary = (y_pred > 0.5).astype(int)  # Convert probabilities to binary labels (0 or 1)\n",
    "\n",
    "# Step 3: Generate confusion matrix\n",
    "cm = confusion_matrix(y_test, y_pred_binary)\n",
    "\n",
    "# Step 4: Plot the confusion matrix\n",
    "plt.figure(figsize=(6, 6))\n",
    "sns.heatmap(cm, annot=True, fmt='d', cmap='Blues', xticklabels=['Predicted 0', 'Predicted 1'], yticklabels=['True 0', 'True 1'])\n",
    "plt.title('Confusion Matrix')\n",
    "plt.xlabel('Predicted Labels')\n",
    "plt.ylabel('True Labels')\n",
    "plt.show()"
   ]
  },
  {
   "cell_type": "code",
   "execution_count": 30,
   "id": "bbfedda0",
   "metadata": {
    "execution": {
     "iopub.execute_input": "2024-12-05T12:17:26.540560Z",
     "iopub.status.busy": "2024-12-05T12:17:26.540166Z",
     "iopub.status.idle": "2024-12-05T12:18:04.251323Z",
     "shell.execute_reply": "2024-12-05T12:18:04.250158Z"
    },
    "papermill": {
     "duration": 38.465855,
     "end_time": "2024-12-05T12:18:04.253784",
     "exception": false,
     "start_time": "2024-12-05T12:17:25.787929",
     "status": "completed"
    },
    "tags": []
   },
   "outputs": [
    {
     "name": "stdout",
     "output_type": "stream",
     "text": [
      "\u001b[1m32144/32144\u001b[0m \u001b[32m━━━━━━━━━━━━━━━━━━━━\u001b[0m\u001b[37m\u001b[0m \u001b[1m38s\u001b[0m 1ms/step - accuracy: 0.9675 - loss: 0.1079 - mcc_metric: 0.9345\n"
     ]
    },
    {
     "data": {
      "text/plain": [
       "[0.10857003927230835, 0.9672532677650452, 0.933934211730957]"
      ]
     },
     "execution_count": 30,
     "metadata": {},
     "output_type": "execute_result"
    }
   ],
   "source": [
    "model.evaluate(x_test,y_test)"
   ]
  },
  {
   "cell_type": "code",
   "execution_count": 31,
   "id": "87fba2a4",
   "metadata": {
    "execution": {
     "iopub.execute_input": "2024-12-05T12:18:05.797005Z",
     "iopub.status.busy": "2024-12-05T12:18:05.795904Z",
     "iopub.status.idle": "2024-12-05T12:18:06.423520Z",
     "shell.execute_reply": "2024-12-05T12:18:06.422321Z"
    },
    "papermill": {
     "duration": 1.372726,
     "end_time": "2024-12-05T12:18:06.425789",
     "exception": false,
     "start_time": "2024-12-05T12:18:05.053063",
     "status": "completed"
    },
    "tags": []
   },
   "outputs": [
    {
     "data": {
      "text/plain": [
       "array([[ 0.49809685,  0.87736177, -0.39117569, ...,  1.77700214,\n",
       "        -0.50686838, -0.95374086],\n",
       "       [ 0.12673472, -0.63067205, -0.10437928, ..., -0.56278036,\n",
       "        -0.50686838, -0.95374086],\n",
       "       [-0.91905518, -1.7616974 , -0.39117569, ..., -0.56278036,\n",
       "        -0.50686838, -0.04841776],\n",
       "       ...,\n",
       "       [-0.12297429,  0.87736177, -1.53836133, ...,  1.77700214,\n",
       "        -0.50686838, -0.95374086],\n",
       "       [-0.27237285, -1.7616974 , -0.39117569, ..., -0.56278036,\n",
       "        -0.50686838, -0.95374086],\n",
       "       [ 1.96433699, -1.0076805 ,  1.32960277, ..., -0.56278036,\n",
       "        -0.50686838,  1.76222843]])"
      ]
     },
     "execution_count": 31,
     "metadata": {},
     "output_type": "execute_result"
    }
   ],
   "source": [
    "x_test_df=test_df[['cap-diameter','cap-shape','cap-color','does-bruise-or-bleed','gill-color','stem-height','stem-width','stem-color','has-ring','habitat','season']]\n",
    "# Fit and transform the data\n",
    "x_test_df = scaler.fit_transform(x_test_df)\n",
    "\n",
    "x_test_df"
   ]
  },
  {
   "cell_type": "code",
   "execution_count": 32,
   "id": "12ab76d9",
   "metadata": {
    "execution": {
     "iopub.execute_input": "2024-12-05T12:18:07.939580Z",
     "iopub.status.busy": "2024-12-05T12:18:07.939192Z",
     "iopub.status.idle": "2024-12-05T12:19:46.825696Z",
     "shell.execute_reply": "2024-12-05T12:19:46.824734Z"
    },
    "papermill": {
     "duration": 99.609291,
     "end_time": "2024-12-05T12:19:46.828287",
     "exception": false,
     "start_time": "2024-12-05T12:18:07.218996",
     "status": "completed"
    },
    "tags": []
   },
   "outputs": [
    {
     "name": "stdout",
     "output_type": "stream",
     "text": [
      "\u001b[1m64937/64937\u001b[0m \u001b[32m━━━━━━━━━━━━━━━━━━━━\u001b[0m\u001b[37m\u001b[0m \u001b[1m67s\u001b[0m 1ms/step\n"
     ]
    }
   ],
   "source": [
    "y_pred_test_df = model.predict(x_test_df)  # Make predictions on the test set\n"
   ]
  },
  {
   "cell_type": "code",
   "execution_count": 33,
   "id": "c22b0e9b",
   "metadata": {
    "execution": {
     "iopub.execute_input": "2024-12-05T12:19:48.511479Z",
     "iopub.status.busy": "2024-12-05T12:19:48.511084Z",
     "iopub.status.idle": "2024-12-05T12:19:48.523196Z",
     "shell.execute_reply": "2024-12-05T12:19:48.522120Z"
    },
    "papermill": {
     "duration": 0.881473,
     "end_time": "2024-12-05T12:19:48.525610",
     "exception": false,
     "start_time": "2024-12-05T12:19:47.644137",
     "status": "completed"
    },
    "tags": []
   },
   "outputs": [],
   "source": [
    "y_test_pred_binary = (y_pred_test_df > 0.5).astype(int)"
   ]
  },
  {
   "cell_type": "code",
   "execution_count": 34,
   "id": "b51f85ef",
   "metadata": {
    "execution": {
     "iopub.execute_input": "2024-12-05T12:19:50.222911Z",
     "iopub.status.busy": "2024-12-05T12:19:50.222495Z",
     "iopub.status.idle": "2024-12-05T12:19:50.255910Z",
     "shell.execute_reply": "2024-12-05T12:19:50.254804Z"
    },
    "papermill": {
     "duration": 0.936674,
     "end_time": "2024-12-05T12:19:50.258137",
     "exception": false,
     "start_time": "2024-12-05T12:19:49.321463",
     "status": "completed"
    },
    "tags": []
   },
   "outputs": [
    {
     "data": {
      "text/html": [
       "<div>\n",
       "<style scoped>\n",
       "    .dataframe tbody tr th:only-of-type {\n",
       "        vertical-align: middle;\n",
       "    }\n",
       "\n",
       "    .dataframe tbody tr th {\n",
       "        vertical-align: top;\n",
       "    }\n",
       "\n",
       "    .dataframe thead th {\n",
       "        text-align: right;\n",
       "    }\n",
       "</style>\n",
       "<table border=\"1\" class=\"dataframe\">\n",
       "  <thead>\n",
       "    <tr style=\"text-align: right;\">\n",
       "      <th></th>\n",
       "      <th>id</th>\n",
       "      <th>Prediction</th>\n",
       "    </tr>\n",
       "  </thead>\n",
       "  <tbody>\n",
       "    <tr>\n",
       "      <th>0</th>\n",
       "      <td>3116945</td>\n",
       "      <td>0</td>\n",
       "    </tr>\n",
       "    <tr>\n",
       "      <th>1</th>\n",
       "      <td>3116946</td>\n",
       "      <td>1</td>\n",
       "    </tr>\n",
       "    <tr>\n",
       "      <th>2</th>\n",
       "      <td>3116947</td>\n",
       "      <td>1</td>\n",
       "    </tr>\n",
       "    <tr>\n",
       "      <th>3</th>\n",
       "      <td>3116948</td>\n",
       "      <td>1</td>\n",
       "    </tr>\n",
       "    <tr>\n",
       "      <th>4</th>\n",
       "      <td>3116949</td>\n",
       "      <td>0</td>\n",
       "    </tr>\n",
       "  </tbody>\n",
       "</table>\n",
       "</div>"
      ],
      "text/plain": [
       "        id  Prediction\n",
       "0  3116945           0\n",
       "1  3116946           1\n",
       "2  3116947           1\n",
       "3  3116948           1\n",
       "4  3116949           0"
      ]
     },
     "execution_count": 34,
     "metadata": {},
     "output_type": "execute_result"
    }
   ],
   "source": [
    "submission = pd.DataFrame({\n",
    "    'id': test_df['id'].values,  \n",
    "    'Prediction': y_test_pred_binary.flatten() \n",
    "})\n",
    "submission.head()"
   ]
  },
  {
   "cell_type": "code",
   "execution_count": 35,
   "id": "d3597f9d",
   "metadata": {
    "execution": {
     "iopub.execute_input": "2024-12-05T12:19:51.919200Z",
     "iopub.status.busy": "2024-12-05T12:19:51.918792Z",
     "iopub.status.idle": "2024-12-05T12:19:52.281865Z",
     "shell.execute_reply": "2024-12-05T12:19:52.280668Z"
    },
    "papermill": {
     "duration": 1.164024,
     "end_time": "2024-12-05T12:19:52.284333",
     "exception": false,
     "start_time": "2024-12-05T12:19:51.120309",
     "status": "completed"
    },
    "tags": []
   },
   "outputs": [
    {
     "data": {
      "text/html": [
       "<div>\n",
       "<style scoped>\n",
       "    .dataframe tbody tr th:only-of-type {\n",
       "        vertical-align: middle;\n",
       "    }\n",
       "\n",
       "    .dataframe tbody tr th {\n",
       "        vertical-align: top;\n",
       "    }\n",
       "\n",
       "    .dataframe thead th {\n",
       "        text-align: right;\n",
       "    }\n",
       "</style>\n",
       "<table border=\"1\" class=\"dataframe\">\n",
       "  <thead>\n",
       "    <tr style=\"text-align: right;\">\n",
       "      <th></th>\n",
       "      <th>id</th>\n",
       "      <th>Prediction</th>\n",
       "      <th>class</th>\n",
       "    </tr>\n",
       "  </thead>\n",
       "  <tbody>\n",
       "    <tr>\n",
       "      <th>0</th>\n",
       "      <td>3116945</td>\n",
       "      <td>0</td>\n",
       "      <td>e</td>\n",
       "    </tr>\n",
       "    <tr>\n",
       "      <th>1</th>\n",
       "      <td>3116946</td>\n",
       "      <td>1</td>\n",
       "      <td>p</td>\n",
       "    </tr>\n",
       "    <tr>\n",
       "      <th>2</th>\n",
       "      <td>3116947</td>\n",
       "      <td>1</td>\n",
       "      <td>p</td>\n",
       "    </tr>\n",
       "    <tr>\n",
       "      <th>3</th>\n",
       "      <td>3116948</td>\n",
       "      <td>1</td>\n",
       "      <td>p</td>\n",
       "    </tr>\n",
       "    <tr>\n",
       "      <th>4</th>\n",
       "      <td>3116949</td>\n",
       "      <td>0</td>\n",
       "      <td>e</td>\n",
       "    </tr>\n",
       "  </tbody>\n",
       "</table>\n",
       "</div>"
      ],
      "text/plain": [
       "        id  Prediction class\n",
       "0  3116945           0     e\n",
       "1  3116946           1     p\n",
       "2  3116947           1     p\n",
       "3  3116948           1     p\n",
       "4  3116949           0     e"
      ]
     },
     "execution_count": 35,
     "metadata": {},
     "output_type": "execute_result"
    }
   ],
   "source": [
    "submission['class']=submission['Prediction'].apply(lambda x: 'p' if x else 'e')\n",
    "submission.head()"
   ]
  },
  {
   "cell_type": "code",
   "execution_count": 36,
   "id": "5af04d90",
   "metadata": {
    "execution": {
     "iopub.execute_input": "2024-12-05T12:19:53.953637Z",
     "iopub.status.busy": "2024-12-05T12:19:53.953244Z",
     "iopub.status.idle": "2024-12-05T12:19:53.991551Z",
     "shell.execute_reply": "2024-12-05T12:19:53.990454Z"
    },
    "papermill": {
     "duration": 0.843827,
     "end_time": "2024-12-05T12:19:53.994019",
     "exception": false,
     "start_time": "2024-12-05T12:19:53.150192",
     "status": "completed"
    },
    "tags": []
   },
   "outputs": [
    {
     "data": {
      "text/html": [
       "<div>\n",
       "<style scoped>\n",
       "    .dataframe tbody tr th:only-of-type {\n",
       "        vertical-align: middle;\n",
       "    }\n",
       "\n",
       "    .dataframe tbody tr th {\n",
       "        vertical-align: top;\n",
       "    }\n",
       "\n",
       "    .dataframe thead th {\n",
       "        text-align: right;\n",
       "    }\n",
       "</style>\n",
       "<table border=\"1\" class=\"dataframe\">\n",
       "  <thead>\n",
       "    <tr style=\"text-align: right;\">\n",
       "      <th></th>\n",
       "      <th>id</th>\n",
       "      <th>class</th>\n",
       "    </tr>\n",
       "  </thead>\n",
       "  <tbody>\n",
       "    <tr>\n",
       "      <th>0</th>\n",
       "      <td>3116945</td>\n",
       "      <td>e</td>\n",
       "    </tr>\n",
       "    <tr>\n",
       "      <th>1</th>\n",
       "      <td>3116946</td>\n",
       "      <td>p</td>\n",
       "    </tr>\n",
       "    <tr>\n",
       "      <th>2</th>\n",
       "      <td>3116947</td>\n",
       "      <td>p</td>\n",
       "    </tr>\n",
       "    <tr>\n",
       "      <th>3</th>\n",
       "      <td>3116948</td>\n",
       "      <td>p</td>\n",
       "    </tr>\n",
       "    <tr>\n",
       "      <th>4</th>\n",
       "      <td>3116949</td>\n",
       "      <td>e</td>\n",
       "    </tr>\n",
       "  </tbody>\n",
       "</table>\n",
       "</div>"
      ],
      "text/plain": [
       "        id class\n",
       "0  3116945     e\n",
       "1  3116946     p\n",
       "2  3116947     p\n",
       "3  3116948     p\n",
       "4  3116949     e"
      ]
     },
     "execution_count": 36,
     "metadata": {},
     "output_type": "execute_result"
    }
   ],
   "source": [
    "submission=submission.drop(['Prediction'],axis=1)\n",
    "submission.head()"
   ]
  },
  {
   "cell_type": "code",
   "execution_count": 37,
   "id": "82dd37aa",
   "metadata": {
    "execution": {
     "iopub.execute_input": "2024-12-05T12:19:55.720205Z",
     "iopub.status.busy": "2024-12-05T12:19:55.719795Z",
     "iopub.status.idle": "2024-12-05T12:19:57.190828Z",
     "shell.execute_reply": "2024-12-05T12:19:57.189824Z"
    },
    "papermill": {
     "duration": 2.337198,
     "end_time": "2024-12-05T12:19:57.193324",
     "exception": false,
     "start_time": "2024-12-05T12:19:54.856126",
     "status": "completed"
    },
    "tags": []
   },
   "outputs": [],
   "source": [
    "submission.to_csv('submission.csv', index = False)\n"
   ]
  },
  {
   "cell_type": "code",
   "execution_count": null,
   "id": "b67dc109",
   "metadata": {
    "papermill": {
     "duration": 0.871678,
     "end_time": "2024-12-05T12:19:58.867281",
     "exception": false,
     "start_time": "2024-12-05T12:19:57.995603",
     "status": "completed"
    },
    "tags": []
   },
   "outputs": [],
   "source": []
  }
 ],
 "metadata": {
  "kaggle": {
   "accelerator": "none",
   "dataSources": [
    {
     "databundleVersionId": 9045607,
     "sourceId": 76727,
     "sourceType": "competition"
    }
   ],
   "dockerImageVersionId": 30786,
   "isGpuEnabled": false,
   "isInternetEnabled": true,
   "language": "python",
   "sourceType": "notebook"
  },
  "kernelspec": {
   "display_name": "Python 3",
   "language": "python",
   "name": "python3"
  },
  "language_info": {
   "codemirror_mode": {
    "name": "ipython",
    "version": 3
   },
   "file_extension": ".py",
   "mimetype": "text/x-python",
   "name": "python",
   "nbconvert_exporter": "python",
   "pygments_lexer": "ipython3",
   "version": "3.10.14"
  },
  "papermill": {
   "default_parameters": {},
   "duration": 1361.617319,
   "end_time": "2024-12-05T12:20:03.283758",
   "environment_variables": {},
   "exception": null,
   "input_path": "__notebook__.ipynb",
   "output_path": "__notebook__.ipynb",
   "parameters": {},
   "start_time": "2024-12-05T11:57:21.666439",
   "version": "2.6.0"
  }
 },
 "nbformat": 4,
 "nbformat_minor": 5
}
