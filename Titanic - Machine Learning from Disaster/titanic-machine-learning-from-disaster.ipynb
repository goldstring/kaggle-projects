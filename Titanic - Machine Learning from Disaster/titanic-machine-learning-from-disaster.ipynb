{
 "cells": [
  {
   "cell_type": "code",
   "execution_count": 1,
   "id": "622c5a2c",
   "metadata": {
    "_cell_guid": "b1076dfc-b9ad-4769-8c92-a6c4dae69d19",
    "_uuid": "8f2839f25d086af736a60e9eeb907d3b93b6e0e5",
    "execution": {
     "iopub.execute_input": "2024-10-16T12:37:45.918069Z",
     "iopub.status.busy": "2024-10-16T12:37:45.917655Z",
     "iopub.status.idle": "2024-10-16T12:37:45.930822Z",
     "shell.execute_reply": "2024-10-16T12:37:45.929599Z"
    },
    "papermill": {
     "duration": 0.034196,
     "end_time": "2024-10-16T12:37:45.933203",
     "exception": false,
     "start_time": "2024-10-16T12:37:45.899007",
     "status": "completed"
    },
    "tags": []
   },
   "outputs": [
    {
     "name": "stdout",
     "output_type": "stream",
     "text": [
      "/kaggle/input/titanic/train.csv\n",
      "/kaggle/input/titanic/test.csv\n",
      "/kaggle/input/titanic/gender_submission.csv\n"
     ]
    }
   ],
   "source": [
    "# This Python 3 environment comes with many helpful analytics libraries installed\n",
    "# It is defined by the kaggle/python Docker image: https://github.com/kaggle/docker-python\n",
    "# For example, here's several helpful packages to load\n",
    "\n",
    "\n",
    "\n",
    "# Input data files are available in the read-only \"../input/\" directory\n",
    "# For example, running this (by clicking run or pressing Shift+Enter) will list all files under the input directory\n",
    "\n",
    "import os\n",
    "for dirname, _, filenames in os.walk('/kaggle/input'):\n",
    "    for filename in filenames:\n",
    "        print(os.path.join(dirname, filename))\n",
    "\n",
    "# You can write up to 20GB to the current directory (/kaggle/working/) that gets preserved as output when you create a version using \"Save & Run All\" \n",
    "# You can also write temporary files to /kaggle/temp/, but they won't be saved outside of the current session"
   ]
  },
  {
   "cell_type": "code",
   "execution_count": 2,
   "id": "cee8b3fb",
   "metadata": {
    "execution": {
     "iopub.execute_input": "2024-10-16T12:37:45.972181Z",
     "iopub.status.busy": "2024-10-16T12:37:45.971795Z",
     "iopub.status.idle": "2024-10-16T12:37:48.886302Z",
     "shell.execute_reply": "2024-10-16T12:37:48.885241Z"
    },
    "papermill": {
     "duration": 2.937208,
     "end_time": "2024-10-16T12:37:48.888936",
     "exception": false,
     "start_time": "2024-10-16T12:37:45.951728",
     "status": "completed"
    },
    "tags": []
   },
   "outputs": [],
   "source": [
    "import numpy as np\n",
    "import pandas as pd\n",
    "import matplotlib.pyplot as plt\n",
    "import seaborn as sns\n",
    "import warnings\n",
    "pd.set_option('display.max_columns', None)  # Show all columns\n",
    "pd.set_option('display.width', 1000)  \n",
    "# Ignore all DeprecationWarnings\n",
    "warnings.filterwarnings(\"ignore\", category=DeprecationWarning)\n",
    "from scipy.stats import chi2_contingency\n"
   ]
  },
  {
   "cell_type": "code",
   "execution_count": 3,
   "id": "af6a468e",
   "metadata": {
    "execution": {
     "iopub.execute_input": "2024-10-16T12:37:48.923402Z",
     "iopub.status.busy": "2024-10-16T12:37:48.922131Z",
     "iopub.status.idle": "2024-10-16T12:37:48.952480Z",
     "shell.execute_reply": "2024-10-16T12:37:48.951572Z"
    },
    "papermill": {
     "duration": 0.050095,
     "end_time": "2024-10-16T12:37:48.955061",
     "exception": false,
     "start_time": "2024-10-16T12:37:48.904966",
     "status": "completed"
    },
    "tags": []
   },
   "outputs": [],
   "source": [
    "train_df=pd.read_csv('/kaggle/input/titanic/train.csv')\n",
    "test_df=pd.read_csv('/kaggle/input/titanic/test.csv')"
   ]
  },
  {
   "cell_type": "code",
   "execution_count": 4,
   "id": "e12dff51",
   "metadata": {
    "execution": {
     "iopub.execute_input": "2024-10-16T12:37:48.988796Z",
     "iopub.status.busy": "2024-10-16T12:37:48.988106Z",
     "iopub.status.idle": "2024-10-16T12:37:49.015753Z",
     "shell.execute_reply": "2024-10-16T12:37:49.014696Z"
    },
    "papermill": {
     "duration": 0.046889,
     "end_time": "2024-10-16T12:37:49.017901",
     "exception": false,
     "start_time": "2024-10-16T12:37:48.971012",
     "status": "completed"
    },
    "tags": []
   },
   "outputs": [
    {
     "data": {
      "text/html": [
       "<div>\n",
       "<style scoped>\n",
       "    .dataframe tbody tr th:only-of-type {\n",
       "        vertical-align: middle;\n",
       "    }\n",
       "\n",
       "    .dataframe tbody tr th {\n",
       "        vertical-align: top;\n",
       "    }\n",
       "\n",
       "    .dataframe thead th {\n",
       "        text-align: right;\n",
       "    }\n",
       "</style>\n",
       "<table border=\"1\" class=\"dataframe\">\n",
       "  <thead>\n",
       "    <tr style=\"text-align: right;\">\n",
       "      <th></th>\n",
       "      <th>PassengerId</th>\n",
       "      <th>Survived</th>\n",
       "      <th>Pclass</th>\n",
       "      <th>Name</th>\n",
       "      <th>Sex</th>\n",
       "      <th>Age</th>\n",
       "      <th>SibSp</th>\n",
       "      <th>Parch</th>\n",
       "      <th>Ticket</th>\n",
       "      <th>Fare</th>\n",
       "      <th>Cabin</th>\n",
       "      <th>Embarked</th>\n",
       "    </tr>\n",
       "  </thead>\n",
       "  <tbody>\n",
       "    <tr>\n",
       "      <th>0</th>\n",
       "      <td>1</td>\n",
       "      <td>0</td>\n",
       "      <td>3</td>\n",
       "      <td>Braund, Mr. Owen Harris</td>\n",
       "      <td>male</td>\n",
       "      <td>22.0</td>\n",
       "      <td>1</td>\n",
       "      <td>0</td>\n",
       "      <td>A/5 21171</td>\n",
       "      <td>7.2500</td>\n",
       "      <td>NaN</td>\n",
       "      <td>S</td>\n",
       "    </tr>\n",
       "    <tr>\n",
       "      <th>1</th>\n",
       "      <td>2</td>\n",
       "      <td>1</td>\n",
       "      <td>1</td>\n",
       "      <td>Cumings, Mrs. John Bradley (Florence Briggs Th...</td>\n",
       "      <td>female</td>\n",
       "      <td>38.0</td>\n",
       "      <td>1</td>\n",
       "      <td>0</td>\n",
       "      <td>PC 17599</td>\n",
       "      <td>71.2833</td>\n",
       "      <td>C85</td>\n",
       "      <td>C</td>\n",
       "    </tr>\n",
       "    <tr>\n",
       "      <th>2</th>\n",
       "      <td>3</td>\n",
       "      <td>1</td>\n",
       "      <td>3</td>\n",
       "      <td>Heikkinen, Miss. Laina</td>\n",
       "      <td>female</td>\n",
       "      <td>26.0</td>\n",
       "      <td>0</td>\n",
       "      <td>0</td>\n",
       "      <td>STON/O2. 3101282</td>\n",
       "      <td>7.9250</td>\n",
       "      <td>NaN</td>\n",
       "      <td>S</td>\n",
       "    </tr>\n",
       "    <tr>\n",
       "      <th>3</th>\n",
       "      <td>4</td>\n",
       "      <td>1</td>\n",
       "      <td>1</td>\n",
       "      <td>Futrelle, Mrs. Jacques Heath (Lily May Peel)</td>\n",
       "      <td>female</td>\n",
       "      <td>35.0</td>\n",
       "      <td>1</td>\n",
       "      <td>0</td>\n",
       "      <td>113803</td>\n",
       "      <td>53.1000</td>\n",
       "      <td>C123</td>\n",
       "      <td>S</td>\n",
       "    </tr>\n",
       "    <tr>\n",
       "      <th>4</th>\n",
       "      <td>5</td>\n",
       "      <td>0</td>\n",
       "      <td>3</td>\n",
       "      <td>Allen, Mr. William Henry</td>\n",
       "      <td>male</td>\n",
       "      <td>35.0</td>\n",
       "      <td>0</td>\n",
       "      <td>0</td>\n",
       "      <td>373450</td>\n",
       "      <td>8.0500</td>\n",
       "      <td>NaN</td>\n",
       "      <td>S</td>\n",
       "    </tr>\n",
       "  </tbody>\n",
       "</table>\n",
       "</div>"
      ],
      "text/plain": [
       "   PassengerId  Survived  Pclass                                               Name     Sex   Age  SibSp  Parch            Ticket     Fare Cabin Embarked\n",
       "0            1         0       3                            Braund, Mr. Owen Harris    male  22.0      1      0         A/5 21171   7.2500   NaN        S\n",
       "1            2         1       1  Cumings, Mrs. John Bradley (Florence Briggs Th...  female  38.0      1      0          PC 17599  71.2833   C85        C\n",
       "2            3         1       3                             Heikkinen, Miss. Laina  female  26.0      0      0  STON/O2. 3101282   7.9250   NaN        S\n",
       "3            4         1       1       Futrelle, Mrs. Jacques Heath (Lily May Peel)  female  35.0      1      0            113803  53.1000  C123        S\n",
       "4            5         0       3                           Allen, Mr. William Henry    male  35.0      0      0            373450   8.0500   NaN        S"
      ]
     },
     "execution_count": 4,
     "metadata": {},
     "output_type": "execute_result"
    }
   ],
   "source": [
    "train_df.head()"
   ]
  },
  {
   "cell_type": "code",
   "execution_count": 5,
   "id": "9b93315e",
   "metadata": {
    "execution": {
     "iopub.execute_input": "2024-10-16T12:37:49.053275Z",
     "iopub.status.busy": "2024-10-16T12:37:49.052856Z",
     "iopub.status.idle": "2024-10-16T12:37:49.068599Z",
     "shell.execute_reply": "2024-10-16T12:37:49.067365Z"
    },
    "papermill": {
     "duration": 0.036269,
     "end_time": "2024-10-16T12:37:49.070868",
     "exception": false,
     "start_time": "2024-10-16T12:37:49.034599",
     "status": "completed"
    },
    "tags": []
   },
   "outputs": [
    {
     "data": {
      "text/html": [
       "<div>\n",
       "<style scoped>\n",
       "    .dataframe tbody tr th:only-of-type {\n",
       "        vertical-align: middle;\n",
       "    }\n",
       "\n",
       "    .dataframe tbody tr th {\n",
       "        vertical-align: top;\n",
       "    }\n",
       "\n",
       "    .dataframe thead th {\n",
       "        text-align: right;\n",
       "    }\n",
       "</style>\n",
       "<table border=\"1\" class=\"dataframe\">\n",
       "  <thead>\n",
       "    <tr style=\"text-align: right;\">\n",
       "      <th></th>\n",
       "      <th>PassengerId</th>\n",
       "      <th>Pclass</th>\n",
       "      <th>Name</th>\n",
       "      <th>Sex</th>\n",
       "      <th>Age</th>\n",
       "      <th>SibSp</th>\n",
       "      <th>Parch</th>\n",
       "      <th>Ticket</th>\n",
       "      <th>Fare</th>\n",
       "      <th>Cabin</th>\n",
       "      <th>Embarked</th>\n",
       "    </tr>\n",
       "  </thead>\n",
       "  <tbody>\n",
       "    <tr>\n",
       "      <th>0</th>\n",
       "      <td>892</td>\n",
       "      <td>3</td>\n",
       "      <td>Kelly, Mr. James</td>\n",
       "      <td>male</td>\n",
       "      <td>34.5</td>\n",
       "      <td>0</td>\n",
       "      <td>0</td>\n",
       "      <td>330911</td>\n",
       "      <td>7.8292</td>\n",
       "      <td>NaN</td>\n",
       "      <td>Q</td>\n",
       "    </tr>\n",
       "    <tr>\n",
       "      <th>1</th>\n",
       "      <td>893</td>\n",
       "      <td>3</td>\n",
       "      <td>Wilkes, Mrs. James (Ellen Needs)</td>\n",
       "      <td>female</td>\n",
       "      <td>47.0</td>\n",
       "      <td>1</td>\n",
       "      <td>0</td>\n",
       "      <td>363272</td>\n",
       "      <td>7.0000</td>\n",
       "      <td>NaN</td>\n",
       "      <td>S</td>\n",
       "    </tr>\n",
       "    <tr>\n",
       "      <th>2</th>\n",
       "      <td>894</td>\n",
       "      <td>2</td>\n",
       "      <td>Myles, Mr. Thomas Francis</td>\n",
       "      <td>male</td>\n",
       "      <td>62.0</td>\n",
       "      <td>0</td>\n",
       "      <td>0</td>\n",
       "      <td>240276</td>\n",
       "      <td>9.6875</td>\n",
       "      <td>NaN</td>\n",
       "      <td>Q</td>\n",
       "    </tr>\n",
       "    <tr>\n",
       "      <th>3</th>\n",
       "      <td>895</td>\n",
       "      <td>3</td>\n",
       "      <td>Wirz, Mr. Albert</td>\n",
       "      <td>male</td>\n",
       "      <td>27.0</td>\n",
       "      <td>0</td>\n",
       "      <td>0</td>\n",
       "      <td>315154</td>\n",
       "      <td>8.6625</td>\n",
       "      <td>NaN</td>\n",
       "      <td>S</td>\n",
       "    </tr>\n",
       "    <tr>\n",
       "      <th>4</th>\n",
       "      <td>896</td>\n",
       "      <td>3</td>\n",
       "      <td>Hirvonen, Mrs. Alexander (Helga E Lindqvist)</td>\n",
       "      <td>female</td>\n",
       "      <td>22.0</td>\n",
       "      <td>1</td>\n",
       "      <td>1</td>\n",
       "      <td>3101298</td>\n",
       "      <td>12.2875</td>\n",
       "      <td>NaN</td>\n",
       "      <td>S</td>\n",
       "    </tr>\n",
       "  </tbody>\n",
       "</table>\n",
       "</div>"
      ],
      "text/plain": [
       "   PassengerId  Pclass                                          Name     Sex   Age  SibSp  Parch   Ticket     Fare Cabin Embarked\n",
       "0          892       3                              Kelly, Mr. James    male  34.5      0      0   330911   7.8292   NaN        Q\n",
       "1          893       3              Wilkes, Mrs. James (Ellen Needs)  female  47.0      1      0   363272   7.0000   NaN        S\n",
       "2          894       2                     Myles, Mr. Thomas Francis    male  62.0      0      0   240276   9.6875   NaN        Q\n",
       "3          895       3                              Wirz, Mr. Albert    male  27.0      0      0   315154   8.6625   NaN        S\n",
       "4          896       3  Hirvonen, Mrs. Alexander (Helga E Lindqvist)  female  22.0      1      1  3101298  12.2875   NaN        S"
      ]
     },
     "execution_count": 5,
     "metadata": {},
     "output_type": "execute_result"
    }
   ],
   "source": [
    "test_df.head()"
   ]
  },
  {
   "cell_type": "markdown",
   "id": "90759adf",
   "metadata": {
    "papermill": {
     "duration": 0.015971,
     "end_time": "2024-10-16T12:37:49.103233",
     "exception": false,
     "start_time": "2024-10-16T12:37:49.087262",
     "status": "completed"
    },
    "tags": []
   },
   "source": [
    "<h3>Data Preprocessing</h3>"
   ]
  },
  {
   "cell_type": "code",
   "execution_count": 6,
   "id": "015e207a",
   "metadata": {
    "execution": {
     "iopub.execute_input": "2024-10-16T12:37:49.139433Z",
     "iopub.status.busy": "2024-10-16T12:37:49.138977Z",
     "iopub.status.idle": "2024-10-16T12:37:49.145008Z",
     "shell.execute_reply": "2024-10-16T12:37:49.143998Z"
    },
    "papermill": {
     "duration": 0.02775,
     "end_time": "2024-10-16T12:37:49.147156",
     "exception": false,
     "start_time": "2024-10-16T12:37:49.119406",
     "status": "completed"
    },
    "tags": []
   },
   "outputs": [
    {
     "name": "stdout",
     "output_type": "stream",
     "text": [
      "Train Dataset Shape (891, 12)\n",
      "------------------------------------\n",
      "Test Dataset Shape (418, 11)\n"
     ]
    }
   ],
   "source": [
    "print('Train Dataset Shape',train_df.shape)\n",
    "print('------------------------------------')\n",
    "print('Test Dataset Shape',test_df.shape)"
   ]
  },
  {
   "cell_type": "code",
   "execution_count": 7,
   "id": "3f15f775",
   "metadata": {
    "execution": {
     "iopub.execute_input": "2024-10-16T12:37:49.181735Z",
     "iopub.status.busy": "2024-10-16T12:37:49.181299Z",
     "iopub.status.idle": "2024-10-16T12:37:49.206413Z",
     "shell.execute_reply": "2024-10-16T12:37:49.205360Z"
    },
    "papermill": {
     "duration": 0.044851,
     "end_time": "2024-10-16T12:37:49.208743",
     "exception": false,
     "start_time": "2024-10-16T12:37:49.163892",
     "status": "completed"
    },
    "tags": []
   },
   "outputs": [
    {
     "data": {
      "text/html": [
       "<div>\n",
       "<style scoped>\n",
       "    .dataframe tbody tr th:only-of-type {\n",
       "        vertical-align: middle;\n",
       "    }\n",
       "\n",
       "    .dataframe tbody tr th {\n",
       "        vertical-align: top;\n",
       "    }\n",
       "\n",
       "    .dataframe thead th {\n",
       "        text-align: right;\n",
       "    }\n",
       "</style>\n",
       "<table border=\"1\" class=\"dataframe\">\n",
       "  <thead>\n",
       "    <tr style=\"text-align: right;\">\n",
       "      <th></th>\n",
       "      <th>PassengerId</th>\n",
       "      <th>Survived</th>\n",
       "      <th>Pclass</th>\n",
       "      <th>Name</th>\n",
       "      <th>Sex</th>\n",
       "      <th>Age</th>\n",
       "      <th>SibSp</th>\n",
       "      <th>Parch</th>\n",
       "      <th>Ticket</th>\n",
       "      <th>Fare</th>\n",
       "      <th>Cabin</th>\n",
       "      <th>Embarked</th>\n",
       "      <th>dataset_type</th>\n",
       "    </tr>\n",
       "  </thead>\n",
       "  <tbody>\n",
       "    <tr>\n",
       "      <th>0</th>\n",
       "      <td>1</td>\n",
       "      <td>0.0</td>\n",
       "      <td>3</td>\n",
       "      <td>Braund, Mr. Owen Harris</td>\n",
       "      <td>male</td>\n",
       "      <td>22.0</td>\n",
       "      <td>1</td>\n",
       "      <td>0</td>\n",
       "      <td>A/5 21171</td>\n",
       "      <td>7.2500</td>\n",
       "      <td>NaN</td>\n",
       "      <td>S</td>\n",
       "      <td>train</td>\n",
       "    </tr>\n",
       "    <tr>\n",
       "      <th>1</th>\n",
       "      <td>2</td>\n",
       "      <td>1.0</td>\n",
       "      <td>1</td>\n",
       "      <td>Cumings, Mrs. John Bradley (Florence Briggs Th...</td>\n",
       "      <td>female</td>\n",
       "      <td>38.0</td>\n",
       "      <td>1</td>\n",
       "      <td>0</td>\n",
       "      <td>PC 17599</td>\n",
       "      <td>71.2833</td>\n",
       "      <td>C85</td>\n",
       "      <td>C</td>\n",
       "      <td>train</td>\n",
       "    </tr>\n",
       "    <tr>\n",
       "      <th>2</th>\n",
       "      <td>3</td>\n",
       "      <td>1.0</td>\n",
       "      <td>3</td>\n",
       "      <td>Heikkinen, Miss. Laina</td>\n",
       "      <td>female</td>\n",
       "      <td>26.0</td>\n",
       "      <td>0</td>\n",
       "      <td>0</td>\n",
       "      <td>STON/O2. 3101282</td>\n",
       "      <td>7.9250</td>\n",
       "      <td>NaN</td>\n",
       "      <td>S</td>\n",
       "      <td>train</td>\n",
       "    </tr>\n",
       "    <tr>\n",
       "      <th>3</th>\n",
       "      <td>4</td>\n",
       "      <td>1.0</td>\n",
       "      <td>1</td>\n",
       "      <td>Futrelle, Mrs. Jacques Heath (Lily May Peel)</td>\n",
       "      <td>female</td>\n",
       "      <td>35.0</td>\n",
       "      <td>1</td>\n",
       "      <td>0</td>\n",
       "      <td>113803</td>\n",
       "      <td>53.1000</td>\n",
       "      <td>C123</td>\n",
       "      <td>S</td>\n",
       "      <td>train</td>\n",
       "    </tr>\n",
       "    <tr>\n",
       "      <th>4</th>\n",
       "      <td>5</td>\n",
       "      <td>0.0</td>\n",
       "      <td>3</td>\n",
       "      <td>Allen, Mr. William Henry</td>\n",
       "      <td>male</td>\n",
       "      <td>35.0</td>\n",
       "      <td>0</td>\n",
       "      <td>0</td>\n",
       "      <td>373450</td>\n",
       "      <td>8.0500</td>\n",
       "      <td>NaN</td>\n",
       "      <td>S</td>\n",
       "      <td>train</td>\n",
       "    </tr>\n",
       "  </tbody>\n",
       "</table>\n",
       "</div>"
      ],
      "text/plain": [
       "   PassengerId  Survived  Pclass                                               Name     Sex   Age  SibSp  Parch            Ticket     Fare Cabin Embarked dataset_type\n",
       "0            1       0.0       3                            Braund, Mr. Owen Harris    male  22.0      1      0         A/5 21171   7.2500   NaN        S        train\n",
       "1            2       1.0       1  Cumings, Mrs. John Bradley (Florence Briggs Th...  female  38.0      1      0          PC 17599  71.2833   C85        C        train\n",
       "2            3       1.0       3                             Heikkinen, Miss. Laina  female  26.0      0      0  STON/O2. 3101282   7.9250   NaN        S        train\n",
       "3            4       1.0       1       Futrelle, Mrs. Jacques Heath (Lily May Peel)  female  35.0      1      0            113803  53.1000  C123        S        train\n",
       "4            5       0.0       3                           Allen, Mr. William Henry    male  35.0      0      0            373450   8.0500   NaN        S        train"
      ]
     },
     "execution_count": 7,
     "metadata": {},
     "output_type": "execute_result"
    }
   ],
   "source": [
    "train_df['dataset_type']='train'\n",
    "test_df['dataset_type']='test'\n",
    "df=pd.concat([train_df,test_df])\n",
    "df.head()"
   ]
  },
  {
   "cell_type": "code",
   "execution_count": 8,
   "id": "20350805",
   "metadata": {
    "execution": {
     "iopub.execute_input": "2024-10-16T12:37:49.243675Z",
     "iopub.status.busy": "2024-10-16T12:37:49.243222Z",
     "iopub.status.idle": "2024-10-16T12:37:49.258458Z",
     "shell.execute_reply": "2024-10-16T12:37:49.257381Z"
    },
    "papermill": {
     "duration": 0.03531,
     "end_time": "2024-10-16T12:37:49.260703",
     "exception": false,
     "start_time": "2024-10-16T12:37:49.225393",
     "status": "completed"
    },
    "tags": []
   },
   "outputs": [
    {
     "name": "stdout",
     "output_type": "stream",
     "text": [
      "Combine Dataset Shape (1309, 13)\n"
     ]
    },
    {
     "data": {
      "text/plain": [
       "dataset_type\n",
       "train    891\n",
       "test     418\n",
       "Name: count, dtype: int64"
      ]
     },
     "execution_count": 8,
     "metadata": {},
     "output_type": "execute_result"
    }
   ],
   "source": [
    "print('Combine Dataset Shape',df.shape)\n",
    "df['dataset_type'].value_counts()"
   ]
  },
  {
   "cell_type": "code",
   "execution_count": 9,
   "id": "3efc2887",
   "metadata": {
    "execution": {
     "iopub.execute_input": "2024-10-16T12:37:49.296341Z",
     "iopub.status.busy": "2024-10-16T12:37:49.295579Z",
     "iopub.status.idle": "2024-10-16T12:37:49.309069Z",
     "shell.execute_reply": "2024-10-16T12:37:49.307989Z"
    },
    "papermill": {
     "duration": 0.033714,
     "end_time": "2024-10-16T12:37:49.311221",
     "exception": false,
     "start_time": "2024-10-16T12:37:49.277507",
     "status": "completed"
    },
    "tags": []
   },
   "outputs": [
    {
     "data": {
      "text/plain": [
       "0"
      ]
     },
     "execution_count": 9,
     "metadata": {},
     "output_type": "execute_result"
    }
   ],
   "source": [
    "#Check For Duplicate Records\n",
    "df.duplicated().sum()"
   ]
  },
  {
   "cell_type": "code",
   "execution_count": 10,
   "id": "1daacccb",
   "metadata": {
    "execution": {
     "iopub.execute_input": "2024-10-16T12:37:49.346882Z",
     "iopub.status.busy": "2024-10-16T12:37:49.346117Z",
     "iopub.status.idle": "2024-10-16T12:37:49.365383Z",
     "shell.execute_reply": "2024-10-16T12:37:49.364222Z"
    },
    "papermill": {
     "duration": 0.039503,
     "end_time": "2024-10-16T12:37:49.367721",
     "exception": false,
     "start_time": "2024-10-16T12:37:49.328218",
     "status": "completed"
    },
    "tags": []
   },
   "outputs": [
    {
     "name": "stdout",
     "output_type": "stream",
     "text": [
      "<class 'pandas.core.frame.DataFrame'>\n",
      "Index: 1309 entries, 0 to 417\n",
      "Data columns (total 13 columns):\n",
      " #   Column        Non-Null Count  Dtype  \n",
      "---  ------        --------------  -----  \n",
      " 0   PassengerId   1309 non-null   int64  \n",
      " 1   Survived      891 non-null    float64\n",
      " 2   Pclass        1309 non-null   int64  \n",
      " 3   Name          1309 non-null   object \n",
      " 4   Sex           1309 non-null   object \n",
      " 5   Age           1046 non-null   float64\n",
      " 6   SibSp         1309 non-null   int64  \n",
      " 7   Parch         1309 non-null   int64  \n",
      " 8   Ticket        1309 non-null   object \n",
      " 9   Fare          1308 non-null   float64\n",
      " 10  Cabin         295 non-null    object \n",
      " 11  Embarked      1307 non-null   object \n",
      " 12  dataset_type  1309 non-null   object \n",
      "dtypes: float64(3), int64(4), object(6)\n",
      "memory usage: 143.2+ KB\n"
     ]
    }
   ],
   "source": [
    "df.info()"
   ]
  },
  {
   "cell_type": "code",
   "execution_count": 11,
   "id": "d1da7239",
   "metadata": {
    "execution": {
     "iopub.execute_input": "2024-10-16T12:37:49.403372Z",
     "iopub.status.busy": "2024-10-16T12:37:49.402983Z",
     "iopub.status.idle": "2024-10-16T12:37:49.817195Z",
     "shell.execute_reply": "2024-10-16T12:37:49.816078Z"
    },
    "papermill": {
     "duration": 0.435037,
     "end_time": "2024-10-16T12:37:49.819747",
     "exception": false,
     "start_time": "2024-10-16T12:37:49.384710",
     "status": "completed"
    },
    "tags": []
   },
   "outputs": [
    {
     "data": {
      "image/png": "[encoded data removed]",
      "text/plain": [
       "<Figure size 1000x500 with 1 Axes>"
      ]
     },
     "metadata": {},
     "output_type": "display_data"
    }
   ],
   "source": [
    "plt.figure(figsize=(10,5))\n",
    "records=df.isnull().mean()*100\n",
    "plt.xlabel('Features')\n",
    "plt.ylabel('Percentage Of Missing Values')\n",
    "plt.title('Missing Value Plot')\n",
    "ax = records.plot(kind='bar')\n",
    "\n",
    "for i, value in enumerate(records):\n",
    "    plt.text(i, value + 0.5, f'{value:.2f}%', ha='center', va='bottom')\n",
    "\n",
    "plt.show()"
   ]
  },
  {
   "cell_type": "markdown",
   "id": "df894e48",
   "metadata": {
    "execution": {
     "iopub.execute_input": "2024-10-16T09:22:24.403718Z",
     "iopub.status.busy": "2024-10-16T09:22:24.403213Z",
     "iopub.status.idle": "2024-10-16T09:22:24.413864Z",
     "shell.execute_reply": "2024-10-16T09:22:24.411630Z",
     "shell.execute_reply.started": "2024-10-16T09:22:24.403671Z"
    },
    "papermill": {
     "duration": 0.017227,
     "end_time": "2024-10-16T12:37:49.854709",
     "exception": false,
     "start_time": "2024-10-16T12:37:49.837482",
     "status": "completed"
    },
    "tags": []
   },
   "source": [
    "<h4>Based on the null value analysis, we observe that the Cabin feature has approximately 77% missing values.\n",
    "Due to the high percentage of missing data, it's impractical to address this through imputation techniques. \n",
    "Therefore, we recommend removing the Cabin column from the dataset to ensure data quality</h4>"
   ]
  },
  {
   "cell_type": "markdown",
   "id": "7101b86c",
   "metadata": {
    "execution": {
     "iopub.execute_input": "2024-10-16T09:30:27.193730Z",
     "iopub.status.busy": "2024-10-16T09:30:27.193210Z",
     "iopub.status.idle": "2024-10-16T09:30:27.203631Z",
     "shell.execute_reply": "2024-10-16T09:30:27.201607Z",
     "shell.execute_reply.started": "2024-10-16T09:30:27.193682Z"
    },
    "papermill": {
     "duration": 0.017343,
     "end_time": "2024-10-16T12:37:49.889626",
     "exception": false,
     "start_time": "2024-10-16T12:37:49.872283",
     "status": "completed"
    },
    "tags": []
   },
   "source": [
    "<h3>Ticket Feature have Most featue value which least proabibility or impacted feature of prediction of survival\n",
    "Hence We reomve Ticket Column from datasets\n",
    "</h3>"
   ]
  },
  {
   "cell_type": "code",
   "execution_count": 12,
   "id": "4abdab75",
   "metadata": {
    "execution": {
     "iopub.execute_input": "2024-10-16T12:37:49.926400Z",
     "iopub.status.busy": "2024-10-16T12:37:49.926002Z",
     "iopub.status.idle": "2024-10-16T12:37:49.936644Z",
     "shell.execute_reply": "2024-10-16T12:37:49.935543Z"
    },
    "papermill": {
     "duration": 0.031719,
     "end_time": "2024-10-16T12:37:49.938903",
     "exception": false,
     "start_time": "2024-10-16T12:37:49.907184",
     "status": "completed"
    },
    "tags": []
   },
   "outputs": [],
   "source": [
    "df.drop(['Cabin', 'Ticket'], axis=1, inplace=True)\n"
   ]
  },
  {
   "cell_type": "code",
   "execution_count": 13,
   "id": "721e56e5",
   "metadata": {
    "execution": {
     "iopub.execute_input": "2024-10-16T12:37:49.975988Z",
     "iopub.status.busy": "2024-10-16T12:37:49.975213Z",
     "iopub.status.idle": "2024-10-16T12:37:49.990911Z",
     "shell.execute_reply": "2024-10-16T12:37:49.989872Z"
    },
    "papermill": {
     "duration": 0.036478,
     "end_time": "2024-10-16T12:37:49.993033",
     "exception": false,
     "start_time": "2024-10-16T12:37:49.956555",
     "status": "completed"
    },
    "tags": []
   },
   "outputs": [
    {
     "data": {
      "text/html": [
       "<div>\n",
       "<style scoped>\n",
       "    .dataframe tbody tr th:only-of-type {\n",
       "        vertical-align: middle;\n",
       "    }\n",
       "\n",
       "    .dataframe tbody tr th {\n",
       "        vertical-align: top;\n",
       "    }\n",
       "\n",
       "    .dataframe thead th {\n",
       "        text-align: right;\n",
       "    }\n",
       "</style>\n",
       "<table border=\"1\" class=\"dataframe\">\n",
       "  <thead>\n",
       "    <tr style=\"text-align: right;\">\n",
       "      <th></th>\n",
       "      <th>PassengerId</th>\n",
       "      <th>Survived</th>\n",
       "      <th>Pclass</th>\n",
       "      <th>Name</th>\n",
       "      <th>Sex</th>\n",
       "      <th>Age</th>\n",
       "      <th>SibSp</th>\n",
       "      <th>Parch</th>\n",
       "      <th>Fare</th>\n",
       "      <th>Embarked</th>\n",
       "      <th>dataset_type</th>\n",
       "    </tr>\n",
       "  </thead>\n",
       "  <tbody>\n",
       "    <tr>\n",
       "      <th>0</th>\n",
       "      <td>1</td>\n",
       "      <td>0.0</td>\n",
       "      <td>3</td>\n",
       "      <td>Braund, Mr. Owen Harris</td>\n",
       "      <td>male</td>\n",
       "      <td>22.0</td>\n",
       "      <td>1</td>\n",
       "      <td>0</td>\n",
       "      <td>7.2500</td>\n",
       "      <td>S</td>\n",
       "      <td>train</td>\n",
       "    </tr>\n",
       "    <tr>\n",
       "      <th>1</th>\n",
       "      <td>2</td>\n",
       "      <td>1.0</td>\n",
       "      <td>1</td>\n",
       "      <td>Cumings, Mrs. John Bradley (Florence Briggs Th...</td>\n",
       "      <td>female</td>\n",
       "      <td>38.0</td>\n",
       "      <td>1</td>\n",
       "      <td>0</td>\n",
       "      <td>71.2833</td>\n",
       "      <td>C</td>\n",
       "      <td>train</td>\n",
       "    </tr>\n",
       "    <tr>\n",
       "      <th>2</th>\n",
       "      <td>3</td>\n",
       "      <td>1.0</td>\n",
       "      <td>3</td>\n",
       "      <td>Heikkinen, Miss. Laina</td>\n",
       "      <td>female</td>\n",
       "      <td>26.0</td>\n",
       "      <td>0</td>\n",
       "      <td>0</td>\n",
       "      <td>7.9250</td>\n",
       "      <td>S</td>\n",
       "      <td>train</td>\n",
       "    </tr>\n",
       "    <tr>\n",
       "      <th>3</th>\n",
       "      <td>4</td>\n",
       "      <td>1.0</td>\n",
       "      <td>1</td>\n",
       "      <td>Futrelle, Mrs. Jacques Heath (Lily May Peel)</td>\n",
       "      <td>female</td>\n",
       "      <td>35.0</td>\n",
       "      <td>1</td>\n",
       "      <td>0</td>\n",
       "      <td>53.1000</td>\n",
       "      <td>S</td>\n",
       "      <td>train</td>\n",
       "    </tr>\n",
       "    <tr>\n",
       "      <th>4</th>\n",
       "      <td>5</td>\n",
       "      <td>0.0</td>\n",
       "      <td>3</td>\n",
       "      <td>Allen, Mr. William Henry</td>\n",
       "      <td>male</td>\n",
       "      <td>35.0</td>\n",
       "      <td>0</td>\n",
       "      <td>0</td>\n",
       "      <td>8.0500</td>\n",
       "      <td>S</td>\n",
       "      <td>train</td>\n",
       "    </tr>\n",
       "  </tbody>\n",
       "</table>\n",
       "</div>"
      ],
      "text/plain": [
       "   PassengerId  Survived  Pclass                                               Name     Sex   Age  SibSp  Parch     Fare Embarked dataset_type\n",
       "0            1       0.0       3                            Braund, Mr. Owen Harris    male  22.0      1      0   7.2500        S        train\n",
       "1            2       1.0       1  Cumings, Mrs. John Bradley (Florence Briggs Th...  female  38.0      1      0  71.2833        C        train\n",
       "2            3       1.0       3                             Heikkinen, Miss. Laina  female  26.0      0      0   7.9250        S        train\n",
       "3            4       1.0       1       Futrelle, Mrs. Jacques Heath (Lily May Peel)  female  35.0      1      0  53.1000        S        train\n",
       "4            5       0.0       3                           Allen, Mr. William Henry    male  35.0      0      0   8.0500        S        train"
      ]
     },
     "execution_count": 13,
     "metadata": {},
     "output_type": "execute_result"
    }
   ],
   "source": [
    "df.head()"
   ]
  },
  {
   "cell_type": "code",
   "execution_count": 14,
   "id": "90095454",
   "metadata": {
    "execution": {
     "iopub.execute_input": "2024-10-16T12:37:50.030223Z",
     "iopub.status.busy": "2024-10-16T12:37:50.029825Z",
     "iopub.status.idle": "2024-10-16T12:37:50.043207Z",
     "shell.execute_reply": "2024-10-16T12:37:50.041874Z"
    },
    "papermill": {
     "duration": 0.03448,
     "end_time": "2024-10-16T12:37:50.045387",
     "exception": false,
     "start_time": "2024-10-16T12:37:50.010907",
     "status": "completed"
    },
    "tags": []
   },
   "outputs": [
    {
     "name": "stdout",
     "output_type": "stream",
     "text": [
      "<class 'pandas.core.frame.DataFrame'>\n",
      "Index: 1309 entries, 0 to 417\n",
      "Data columns (total 11 columns):\n",
      " #   Column        Non-Null Count  Dtype  \n",
      "---  ------        --------------  -----  \n",
      " 0   PassengerId   1309 non-null   int64  \n",
      " 1   Survived      891 non-null    float64\n",
      " 2   Pclass        1309 non-null   int64  \n",
      " 3   Name          1309 non-null   object \n",
      " 4   Sex           1309 non-null   object \n",
      " 5   Age           1046 non-null   float64\n",
      " 6   SibSp         1309 non-null   int64  \n",
      " 7   Parch         1309 non-null   int64  \n",
      " 8   Fare          1308 non-null   float64\n",
      " 9   Embarked      1307 non-null   object \n",
      " 10  dataset_type  1309 non-null   object \n",
      "dtypes: float64(3), int64(4), object(4)\n",
      "memory usage: 122.7+ KB\n"
     ]
    }
   ],
   "source": [
    "df.info()"
   ]
  },
  {
   "cell_type": "code",
   "execution_count": 15,
   "id": "e7bf6c78",
   "metadata": {
    "execution": {
     "iopub.execute_input": "2024-10-16T12:37:50.083297Z",
     "iopub.status.busy": "2024-10-16T12:37:50.082385Z",
     "iopub.status.idle": "2024-10-16T12:37:50.123439Z",
     "shell.execute_reply": "2024-10-16T12:37:50.122350Z"
    },
    "papermill": {
     "duration": 0.062431,
     "end_time": "2024-10-16T12:37:50.125797",
     "exception": false,
     "start_time": "2024-10-16T12:37:50.063366",
     "status": "completed"
    },
    "tags": []
   },
   "outputs": [
    {
     "data": {
      "text/html": [
       "<div>\n",
       "<style scoped>\n",
       "    .dataframe tbody tr th:only-of-type {\n",
       "        vertical-align: middle;\n",
       "    }\n",
       "\n",
       "    .dataframe tbody tr th {\n",
       "        vertical-align: top;\n",
       "    }\n",
       "\n",
       "    .dataframe thead th {\n",
       "        text-align: right;\n",
       "    }\n",
       "</style>\n",
       "<table border=\"1\" class=\"dataframe\">\n",
       "  <thead>\n",
       "    <tr style=\"text-align: right;\">\n",
       "      <th></th>\n",
       "      <th>PassengerId</th>\n",
       "      <th>Survived</th>\n",
       "      <th>Pclass</th>\n",
       "      <th>Name</th>\n",
       "      <th>Sex</th>\n",
       "      <th>Age</th>\n",
       "      <th>SibSp</th>\n",
       "      <th>Parch</th>\n",
       "      <th>Fare</th>\n",
       "      <th>Embarked</th>\n",
       "      <th>dataset_type</th>\n",
       "    </tr>\n",
       "  </thead>\n",
       "  <tbody>\n",
       "    <tr>\n",
       "      <th>count</th>\n",
       "      <td>1309.000000</td>\n",
       "      <td>891.000000</td>\n",
       "      <td>1309.000000</td>\n",
       "      <td>1309</td>\n",
       "      <td>1309</td>\n",
       "      <td>1046.000000</td>\n",
       "      <td>1309.000000</td>\n",
       "      <td>1309.000000</td>\n",
       "      <td>1308.000000</td>\n",
       "      <td>1307</td>\n",
       "      <td>1309</td>\n",
       "    </tr>\n",
       "    <tr>\n",
       "      <th>unique</th>\n",
       "      <td>NaN</td>\n",
       "      <td>NaN</td>\n",
       "      <td>NaN</td>\n",
       "      <td>1307</td>\n",
       "      <td>2</td>\n",
       "      <td>NaN</td>\n",
       "      <td>NaN</td>\n",
       "      <td>NaN</td>\n",
       "      <td>NaN</td>\n",
       "      <td>3</td>\n",
       "      <td>2</td>\n",
       "    </tr>\n",
       "    <tr>\n",
       "      <th>top</th>\n",
       "      <td>NaN</td>\n",
       "      <td>NaN</td>\n",
       "      <td>NaN</td>\n",
       "      <td>Connolly, Miss. Kate</td>\n",
       "      <td>male</td>\n",
       "      <td>NaN</td>\n",
       "      <td>NaN</td>\n",
       "      <td>NaN</td>\n",
       "      <td>NaN</td>\n",
       "      <td>S</td>\n",
       "      <td>train</td>\n",
       "    </tr>\n",
       "    <tr>\n",
       "      <th>freq</th>\n",
       "      <td>NaN</td>\n",
       "      <td>NaN</td>\n",
       "      <td>NaN</td>\n",
       "      <td>2</td>\n",
       "      <td>843</td>\n",
       "      <td>NaN</td>\n",
       "      <td>NaN</td>\n",
       "      <td>NaN</td>\n",
       "      <td>NaN</td>\n",
       "      <td>914</td>\n",
       "      <td>891</td>\n",
       "    </tr>\n",
       "    <tr>\n",
       "      <th>mean</th>\n",
       "      <td>655.000000</td>\n",
       "      <td>0.383838</td>\n",
       "      <td>2.294882</td>\n",
       "      <td>NaN</td>\n",
       "      <td>NaN</td>\n",
       "      <td>29.881138</td>\n",
       "      <td>0.498854</td>\n",
       "      <td>0.385027</td>\n",
       "      <td>33.295479</td>\n",
       "      <td>NaN</td>\n",
       "      <td>NaN</td>\n",
       "    </tr>\n",
       "    <tr>\n",
       "      <th>std</th>\n",
       "      <td>378.020061</td>\n",
       "      <td>0.486592</td>\n",
       "      <td>0.837836</td>\n",
       "      <td>NaN</td>\n",
       "      <td>NaN</td>\n",
       "      <td>14.413493</td>\n",
       "      <td>1.041658</td>\n",
       "      <td>0.865560</td>\n",
       "      <td>51.758668</td>\n",
       "      <td>NaN</td>\n",
       "      <td>NaN</td>\n",
       "    </tr>\n",
       "    <tr>\n",
       "      <th>min</th>\n",
       "      <td>1.000000</td>\n",
       "      <td>0.000000</td>\n",
       "      <td>1.000000</td>\n",
       "      <td>NaN</td>\n",
       "      <td>NaN</td>\n",
       "      <td>0.170000</td>\n",
       "      <td>0.000000</td>\n",
       "      <td>0.000000</td>\n",
       "      <td>0.000000</td>\n",
       "      <td>NaN</td>\n",
       "      <td>NaN</td>\n",
       "    </tr>\n",
       "    <tr>\n",
       "      <th>25%</th>\n",
       "      <td>328.000000</td>\n",
       "      <td>0.000000</td>\n",
       "      <td>2.000000</td>\n",
       "      <td>NaN</td>\n",
       "      <td>NaN</td>\n",
       "      <td>21.000000</td>\n",
       "      <td>0.000000</td>\n",
       "      <td>0.000000</td>\n",
       "      <td>7.895800</td>\n",
       "      <td>NaN</td>\n",
       "      <td>NaN</td>\n",
       "    </tr>\n",
       "    <tr>\n",
       "      <th>50%</th>\n",
       "      <td>655.000000</td>\n",
       "      <td>0.000000</td>\n",
       "      <td>3.000000</td>\n",
       "      <td>NaN</td>\n",
       "      <td>NaN</td>\n",
       "      <td>28.000000</td>\n",
       "      <td>0.000000</td>\n",
       "      <td>0.000000</td>\n",
       "      <td>14.454200</td>\n",
       "      <td>NaN</td>\n",
       "      <td>NaN</td>\n",
       "    </tr>\n",
       "    <tr>\n",
       "      <th>75%</th>\n",
       "      <td>982.000000</td>\n",
       "      <td>1.000000</td>\n",
       "      <td>3.000000</td>\n",
       "      <td>NaN</td>\n",
       "      <td>NaN</td>\n",
       "      <td>39.000000</td>\n",
       "      <td>1.000000</td>\n",
       "      <td>0.000000</td>\n",
       "      <td>31.275000</td>\n",
       "      <td>NaN</td>\n",
       "      <td>NaN</td>\n",
       "    </tr>\n",
       "    <tr>\n",
       "      <th>max</th>\n",
       "      <td>1309.000000</td>\n",
       "      <td>1.000000</td>\n",
       "      <td>3.000000</td>\n",
       "      <td>NaN</td>\n",
       "      <td>NaN</td>\n",
       "      <td>80.000000</td>\n",
       "      <td>8.000000</td>\n",
       "      <td>9.000000</td>\n",
       "      <td>512.329200</td>\n",
       "      <td>NaN</td>\n",
       "      <td>NaN</td>\n",
       "    </tr>\n",
       "  </tbody>\n",
       "</table>\n",
       "</div>"
      ],
      "text/plain": [
       "        PassengerId    Survived       Pclass                  Name   Sex          Age        SibSp        Parch         Fare Embarked dataset_type\n",
       "count   1309.000000  891.000000  1309.000000                  1309  1309  1046.000000  1309.000000  1309.000000  1308.000000     1307         1309\n",
       "unique          NaN         NaN          NaN                  1307     2          NaN          NaN          NaN          NaN        3            2\n",
       "top             NaN         NaN          NaN  Connolly, Miss. Kate  male          NaN          NaN          NaN          NaN        S        train\n",
       "freq            NaN         NaN          NaN                     2   843          NaN          NaN          NaN          NaN      914          891\n",
       "mean     655.000000    0.383838     2.294882                   NaN   NaN    29.881138     0.498854     0.385027    33.295479      NaN          NaN\n",
       "std      378.020061    0.486592     0.837836                   NaN   NaN    14.413493     1.041658     0.865560    51.758668      NaN          NaN\n",
       "min        1.000000    0.000000     1.000000                   NaN   NaN     0.170000     0.000000     0.000000     0.000000      NaN          NaN\n",
       "25%      328.000000    0.000000     2.000000                   NaN   NaN    21.000000     0.000000     0.000000     7.895800      NaN          NaN\n",
       "50%      655.000000    0.000000     3.000000                   NaN   NaN    28.000000     0.000000     0.000000    14.454200      NaN          NaN\n",
       "75%      982.000000    1.000000     3.000000                   NaN   NaN    39.000000     1.000000     0.000000    31.275000      NaN          NaN\n",
       "max     1309.000000    1.000000     3.000000                   NaN   NaN    80.000000     8.000000     9.000000   512.329200      NaN          NaN"
      ]
     },
     "execution_count": 15,
     "metadata": {},
     "output_type": "execute_result"
    }
   ],
   "source": [
    "df.describe(include='all')"
   ]
  },
  {
   "cell_type": "code",
   "execution_count": 16,
   "id": "7c0588d0",
   "metadata": {
    "execution": {
     "iopub.execute_input": "2024-10-16T12:37:50.164364Z",
     "iopub.status.busy": "2024-10-16T12:37:50.163544Z",
     "iopub.status.idle": "2024-10-16T12:37:50.882486Z",
     "shell.execute_reply": "2024-10-16T12:37:50.881369Z"
    },
    "papermill": {
     "duration": 0.740717,
     "end_time": "2024-10-16T12:37:50.884837",
     "exception": false,
     "start_time": "2024-10-16T12:37:50.144120",
     "status": "completed"
    },
    "tags": []
   },
   "outputs": [
    {
     "data": {
      "image/png": "[encoded data removed]",
      "text/plain": [
       "<Figure size 1000x500 with 4 Axes>"
      ]
     },
     "metadata": {},
     "output_type": "display_data"
    }
   ],
   "source": [
    "plt.figure(figsize=(10,5))\n",
    "\n",
    "plt.subplot(2,2,1)\n",
    "df['Age'].plot(kind='box')\n",
    "plt.subplot(2,2,2)\n",
    "df['Age'].plot(kind='hist')\n",
    "\n",
    "\n",
    "plt.subplot(2,2,3)\n",
    "df['Fare'].plot(kind='box')\n",
    "plt.subplot(2,2,4)\n",
    "df['Fare'].plot(kind='kde')\n",
    "\n",
    "\n",
    "\n",
    "plt.tight_layout()\n",
    "\n",
    "plt.show()\n"
   ]
  },
  {
   "cell_type": "code",
   "execution_count": 17,
   "id": "aded7d77",
   "metadata": {
    "execution": {
     "iopub.execute_input": "2024-10-16T12:37:50.925332Z",
     "iopub.status.busy": "2024-10-16T12:37:50.924533Z",
     "iopub.status.idle": "2024-10-16T12:37:50.935090Z",
     "shell.execute_reply": "2024-10-16T12:37:50.934079Z"
    },
    "papermill": {
     "duration": 0.033211,
     "end_time": "2024-10-16T12:37:50.937196",
     "exception": false,
     "start_time": "2024-10-16T12:37:50.903985",
     "status": "completed"
    },
    "tags": []
   },
   "outputs": [
    {
     "data": {
      "text/plain": [
       "Age     0.407675\n",
       "Fare    4.367709\n",
       "dtype: float64"
      ]
     },
     "execution_count": 17,
     "metadata": {},
     "output_type": "execute_result"
    }
   ],
   "source": [
    "#Fare Column Have 512 Fare Is Extreme Outier hender we remove that records\n",
    "#Fare Columns Have Skew right which might affeteced model performance ,Hence to overcome the skew effect we convert them into bins \n",
    "df[['Age','Fare']].skew()"
   ]
  },
  {
   "cell_type": "code",
   "execution_count": 18,
   "id": "f372aeac",
   "metadata": {
    "execution": {
     "iopub.execute_input": "2024-10-16T12:37:50.978746Z",
     "iopub.status.busy": "2024-10-16T12:37:50.977844Z",
     "iopub.status.idle": "2024-10-16T12:37:50.986647Z",
     "shell.execute_reply": "2024-10-16T12:37:50.985527Z"
    },
    "papermill": {
     "duration": 0.032062,
     "end_time": "2024-10-16T12:37:50.988744",
     "exception": false,
     "start_time": "2024-10-16T12:37:50.956682",
     "status": "completed"
    },
    "tags": []
   },
   "outputs": [
    {
     "data": {
      "text/plain": [
       "Embarked\n",
       "S    914\n",
       "C    270\n",
       "Q    123\n",
       "Name: count, dtype: int64"
      ]
     },
     "execution_count": 18,
     "metadata": {},
     "output_type": "execute_result"
    }
   ],
   "source": [
    "df['Embarked'].value_counts()"
   ]
  },
  {
   "cell_type": "code",
   "execution_count": 19,
   "id": "6a70422a",
   "metadata": {
    "execution": {
     "iopub.execute_input": "2024-10-16T12:37:51.029577Z",
     "iopub.status.busy": "2024-10-16T12:37:51.028364Z",
     "iopub.status.idle": "2024-10-16T12:37:51.040309Z",
     "shell.execute_reply": "2024-10-16T12:37:51.039205Z"
    },
    "papermill": {
     "duration": 0.034551,
     "end_time": "2024-10-16T12:37:51.042642",
     "exception": false,
     "start_time": "2024-10-16T12:37:51.008091",
     "status": "completed"
    },
    "tags": []
   },
   "outputs": [
    {
     "name": "stdout",
     "output_type": "stream",
     "text": [
      "Avg Fare 159.1646\n",
      "Avg Age 28.0\n"
     ]
    },
    {
     "data": {
      "text/plain": [
       "Embarked\n",
       "S    914\n",
       "C    270\n",
       "Q    123\n",
       "Name: count, dtype: int64"
      ]
     },
     "execution_count": 19,
     "metadata": {},
     "output_type": "execute_result"
    }
   ],
   "source": [
    "print('Avg Fare',df[df['Fare']>100]['Fare'].median())\n",
    "print('Avg Age',df['Age'].median())\n",
    "df['Embarked'].value_counts()"
   ]
  },
  {
   "cell_type": "markdown",
   "id": "fd05ddd5",
   "metadata": {
    "papermill": {
     "duration": 0.019797,
     "end_time": "2024-10-16T12:37:51.081985",
     "exception": false,
     "start_time": "2024-10-16T12:37:51.062188",
     "status": "completed"
    },
    "tags": []
   },
   "source": [
    "<h3>Missing Or Null Value Imputation</h3>"
   ]
  },
  {
   "cell_type": "code",
   "execution_count": 20,
   "id": "258f0408",
   "metadata": {
    "execution": {
     "iopub.execute_input": "2024-10-16T12:37:51.122785Z",
     "iopub.status.busy": "2024-10-16T12:37:51.122355Z",
     "iopub.status.idle": "2024-10-16T12:37:51.131846Z",
     "shell.execute_reply": "2024-10-16T12:37:51.130955Z"
    },
    "papermill": {
     "duration": 0.032479,
     "end_time": "2024-10-16T12:37:51.134120",
     "exception": false,
     "start_time": "2024-10-16T12:37:51.101641",
     "status": "completed"
    },
    "tags": []
   },
   "outputs": [],
   "source": [
    "df['Age']=df['Age'].fillna(df['Age'].median())\n",
    "\n",
    "df['Fare']=df['Fare'].fillna(df[df['Fare']>100]['Fare'].median())\n",
    "\n",
    "df['Embarked']=df['Embarked'].fillna('S')\n"
   ]
  },
  {
   "cell_type": "code",
   "execution_count": 21,
   "id": "ed021fc7",
   "metadata": {
    "execution": {
     "iopub.execute_input": "2024-10-16T12:37:51.175180Z",
     "iopub.status.busy": "2024-10-16T12:37:51.174776Z",
     "iopub.status.idle": "2024-10-16T12:37:51.189236Z",
     "shell.execute_reply": "2024-10-16T12:37:51.188306Z"
    },
    "papermill": {
     "duration": 0.037833,
     "end_time": "2024-10-16T12:37:51.191665",
     "exception": false,
     "start_time": "2024-10-16T12:37:51.153832",
     "status": "completed"
    },
    "tags": []
   },
   "outputs": [],
   "source": [
    "fare_bins = [0, 7.89, 14.45, 31.07, 100, 263]\n",
    "# Define professional labels for each bin\n",
    "fare_labels = ['Very Low Fare', 'Low Fare', 'Moderate Fare', 'High Fare', 'Very High Fare']\n",
    "# Create a new column 'Fare_bin' by binning the 'Fare' column\n",
    "df['Fare_bin'] = pd.cut(df['Fare'], bins=fare_bins, labels=fare_labels, include_lowest=True)\n",
    "\n",
    "age_bins = [0, 12, 21, 28, 39, 80]\n",
    "\n",
    "# Define professional labels for each bin\n",
    "age_labels = ['Child', 'Teenager', 'Young Adult', 'Adult', 'Senior']\n",
    "\n",
    "# Create a new column 'Age_bin' by binning the 'Age' column\n",
    "df['Age_bin'] = pd.cut(df['Age'], bins=age_bins, labels=age_labels, include_lowest=True)"
   ]
  },
  {
   "cell_type": "markdown",
   "id": "aeed1e2d",
   "metadata": {
    "papermill": {
     "duration": 0.019722,
     "end_time": "2024-10-16T12:37:51.230836",
     "exception": false,
     "start_time": "2024-10-16T12:37:51.211114",
     "status": "completed"
    },
    "tags": []
   },
   "source": [
    "<ul>\n",
    "    <li>\n",
    "        <strong>Age Bins:</strong>\n",
    "    </li>\n",
    "    <ul>\n",
    "        <li>Child: (0 - 12)</li>\n",
    "        <li>Teenager: (12 - 21)</li>\n",
    "        <li>Young Adult: (21 - 28)</li>\n",
    "        <li>Adult: (28 - 39)</li>\n",
    "        <li>Senior: (39 - 80)</li>\n",
    "    </ul>\n",
    "</ul>\n",
    "\n",
    "<ul>\n",
    "    <li>\n",
    "        <strong>Fare Bins:</strong>\n",
    "    </li>\n",
    "    <ul>\n",
    "        <li>Very Low Fare: (0 - 7.89)</li>\n",
    "        <li>Low Fare: (7.89 - 14.45)</li>\n",
    "        <li>Moderate Fare: (14.45 - 31.07)</li>\n",
    "        <li>High Fare: (31.07 - 100)</li>\n",
    "        <li>Very High Fare: (100 - 263)</li>\n",
    "    </ul>\n",
    "</ul>\n"
   ]
  },
  {
   "cell_type": "code",
   "execution_count": 22,
   "id": "cd957735",
   "metadata": {
    "execution": {
     "iopub.execute_input": "2024-10-16T12:37:51.271893Z",
     "iopub.status.busy": "2024-10-16T12:37:51.271045Z",
     "iopub.status.idle": "2024-10-16T12:37:51.288976Z",
     "shell.execute_reply": "2024-10-16T12:37:51.287929Z"
    },
    "papermill": {
     "duration": 0.040921,
     "end_time": "2024-10-16T12:37:51.291258",
     "exception": false,
     "start_time": "2024-10-16T12:37:51.250337",
     "status": "completed"
    },
    "tags": []
   },
   "outputs": [
    {
     "data": {
      "text/html": [
       "<div>\n",
       "<style scoped>\n",
       "    .dataframe tbody tr th:only-of-type {\n",
       "        vertical-align: middle;\n",
       "    }\n",
       "\n",
       "    .dataframe tbody tr th {\n",
       "        vertical-align: top;\n",
       "    }\n",
       "\n",
       "    .dataframe thead th {\n",
       "        text-align: right;\n",
       "    }\n",
       "</style>\n",
       "<table border=\"1\" class=\"dataframe\">\n",
       "  <thead>\n",
       "    <tr style=\"text-align: right;\">\n",
       "      <th></th>\n",
       "      <th>PassengerId</th>\n",
       "      <th>Survived</th>\n",
       "      <th>Pclass</th>\n",
       "      <th>Name</th>\n",
       "      <th>Sex</th>\n",
       "      <th>Age</th>\n",
       "      <th>SibSp</th>\n",
       "      <th>Parch</th>\n",
       "      <th>Fare</th>\n",
       "      <th>Embarked</th>\n",
       "      <th>dataset_type</th>\n",
       "      <th>Fare_bin</th>\n",
       "      <th>Age_bin</th>\n",
       "    </tr>\n",
       "  </thead>\n",
       "  <tbody>\n",
       "    <tr>\n",
       "      <th>0</th>\n",
       "      <td>1</td>\n",
       "      <td>0.0</td>\n",
       "      <td>3</td>\n",
       "      <td>Braund, Mr. Owen Harris</td>\n",
       "      <td>male</td>\n",
       "      <td>22.0</td>\n",
       "      <td>1</td>\n",
       "      <td>0</td>\n",
       "      <td>7.2500</td>\n",
       "      <td>S</td>\n",
       "      <td>train</td>\n",
       "      <td>Very Low Fare</td>\n",
       "      <td>Young Adult</td>\n",
       "    </tr>\n",
       "    <tr>\n",
       "      <th>1</th>\n",
       "      <td>2</td>\n",
       "      <td>1.0</td>\n",
       "      <td>1</td>\n",
       "      <td>Cumings, Mrs. John Bradley (Florence Briggs Th...</td>\n",
       "      <td>female</td>\n",
       "      <td>38.0</td>\n",
       "      <td>1</td>\n",
       "      <td>0</td>\n",
       "      <td>71.2833</td>\n",
       "      <td>C</td>\n",
       "      <td>train</td>\n",
       "      <td>High Fare</td>\n",
       "      <td>Adult</td>\n",
       "    </tr>\n",
       "    <tr>\n",
       "      <th>2</th>\n",
       "      <td>3</td>\n",
       "      <td>1.0</td>\n",
       "      <td>3</td>\n",
       "      <td>Heikkinen, Miss. Laina</td>\n",
       "      <td>female</td>\n",
       "      <td>26.0</td>\n",
       "      <td>0</td>\n",
       "      <td>0</td>\n",
       "      <td>7.9250</td>\n",
       "      <td>S</td>\n",
       "      <td>train</td>\n",
       "      <td>Low Fare</td>\n",
       "      <td>Young Adult</td>\n",
       "    </tr>\n",
       "    <tr>\n",
       "      <th>3</th>\n",
       "      <td>4</td>\n",
       "      <td>1.0</td>\n",
       "      <td>1</td>\n",
       "      <td>Futrelle, Mrs. Jacques Heath (Lily May Peel)</td>\n",
       "      <td>female</td>\n",
       "      <td>35.0</td>\n",
       "      <td>1</td>\n",
       "      <td>0</td>\n",
       "      <td>53.1000</td>\n",
       "      <td>S</td>\n",
       "      <td>train</td>\n",
       "      <td>High Fare</td>\n",
       "      <td>Adult</td>\n",
       "    </tr>\n",
       "    <tr>\n",
       "      <th>4</th>\n",
       "      <td>5</td>\n",
       "      <td>0.0</td>\n",
       "      <td>3</td>\n",
       "      <td>Allen, Mr. William Henry</td>\n",
       "      <td>male</td>\n",
       "      <td>35.0</td>\n",
       "      <td>0</td>\n",
       "      <td>0</td>\n",
       "      <td>8.0500</td>\n",
       "      <td>S</td>\n",
       "      <td>train</td>\n",
       "      <td>Low Fare</td>\n",
       "      <td>Adult</td>\n",
       "    </tr>\n",
       "  </tbody>\n",
       "</table>\n",
       "</div>"
      ],
      "text/plain": [
       "   PassengerId  Survived  Pclass                                               Name     Sex   Age  SibSp  Parch     Fare Embarked dataset_type       Fare_bin      Age_bin\n",
       "0            1       0.0       3                            Braund, Mr. Owen Harris    male  22.0      1      0   7.2500        S        train  Very Low Fare  Young Adult\n",
       "1            2       1.0       1  Cumings, Mrs. John Bradley (Florence Briggs Th...  female  38.0      1      0  71.2833        C        train      High Fare        Adult\n",
       "2            3       1.0       3                             Heikkinen, Miss. Laina  female  26.0      0      0   7.9250        S        train       Low Fare  Young Adult\n",
       "3            4       1.0       1       Futrelle, Mrs. Jacques Heath (Lily May Peel)  female  35.0      1      0  53.1000        S        train      High Fare        Adult\n",
       "4            5       0.0       3                           Allen, Mr. William Henry    male  35.0      0      0   8.0500        S        train       Low Fare        Adult"
      ]
     },
     "execution_count": 22,
     "metadata": {},
     "output_type": "execute_result"
    }
   ],
   "source": [
    "df.head()"
   ]
  },
  {
   "cell_type": "code",
   "execution_count": 23,
   "id": "af7e77f7",
   "metadata": {
    "execution": {
     "iopub.execute_input": "2024-10-16T12:37:51.333294Z",
     "iopub.status.busy": "2024-10-16T12:37:51.332869Z",
     "iopub.status.idle": "2024-10-16T12:37:51.339475Z",
     "shell.execute_reply": "2024-10-16T12:37:51.338396Z"
    },
    "papermill": {
     "duration": 0.030224,
     "end_time": "2024-10-16T12:37:51.341769",
     "exception": false,
     "start_time": "2024-10-16T12:37:51.311545",
     "status": "completed"
    },
    "tags": []
   },
   "outputs": [],
   "source": [
    "#remove unwanted columns from datasets\n",
    "df.drop(['Fare',\"Age\"],axis=1,inplace=True)"
   ]
  },
  {
   "cell_type": "code",
   "execution_count": 24,
   "id": "657bbe64",
   "metadata": {
    "execution": {
     "iopub.execute_input": "2024-10-16T12:37:51.383351Z",
     "iopub.status.busy": "2024-10-16T12:37:51.382953Z",
     "iopub.status.idle": "2024-10-16T12:37:51.398774Z",
     "shell.execute_reply": "2024-10-16T12:37:51.397698Z"
    },
    "papermill": {
     "duration": 0.039147,
     "end_time": "2024-10-16T12:37:51.400951",
     "exception": false,
     "start_time": "2024-10-16T12:37:51.361804",
     "status": "completed"
    },
    "tags": []
   },
   "outputs": [
    {
     "data": {
      "text/html": [
       "<div>\n",
       "<style scoped>\n",
       "    .dataframe tbody tr th:only-of-type {\n",
       "        vertical-align: middle;\n",
       "    }\n",
       "\n",
       "    .dataframe tbody tr th {\n",
       "        vertical-align: top;\n",
       "    }\n",
       "\n",
       "    .dataframe thead th {\n",
       "        text-align: right;\n",
       "    }\n",
       "</style>\n",
       "<table border=\"1\" class=\"dataframe\">\n",
       "  <thead>\n",
       "    <tr style=\"text-align: right;\">\n",
       "      <th></th>\n",
       "      <th>PassengerId</th>\n",
       "      <th>Survived</th>\n",
       "      <th>Pclass</th>\n",
       "      <th>Name</th>\n",
       "      <th>Sex</th>\n",
       "      <th>SibSp</th>\n",
       "      <th>Parch</th>\n",
       "      <th>Embarked</th>\n",
       "      <th>dataset_type</th>\n",
       "      <th>Fare_bin</th>\n",
       "      <th>Age_bin</th>\n",
       "    </tr>\n",
       "  </thead>\n",
       "  <tbody>\n",
       "    <tr>\n",
       "      <th>0</th>\n",
       "      <td>1</td>\n",
       "      <td>0.0</td>\n",
       "      <td>3</td>\n",
       "      <td>Braund, Mr. Owen Harris</td>\n",
       "      <td>male</td>\n",
       "      <td>1</td>\n",
       "      <td>0</td>\n",
       "      <td>S</td>\n",
       "      <td>train</td>\n",
       "      <td>Very Low Fare</td>\n",
       "      <td>Young Adult</td>\n",
       "    </tr>\n",
       "    <tr>\n",
       "      <th>1</th>\n",
       "      <td>2</td>\n",
       "      <td>1.0</td>\n",
       "      <td>1</td>\n",
       "      <td>Cumings, Mrs. John Bradley (Florence Briggs Th...</td>\n",
       "      <td>female</td>\n",
       "      <td>1</td>\n",
       "      <td>0</td>\n",
       "      <td>C</td>\n",
       "      <td>train</td>\n",
       "      <td>High Fare</td>\n",
       "      <td>Adult</td>\n",
       "    </tr>\n",
       "    <tr>\n",
       "      <th>2</th>\n",
       "      <td>3</td>\n",
       "      <td>1.0</td>\n",
       "      <td>3</td>\n",
       "      <td>Heikkinen, Miss. Laina</td>\n",
       "      <td>female</td>\n",
       "      <td>0</td>\n",
       "      <td>0</td>\n",
       "      <td>S</td>\n",
       "      <td>train</td>\n",
       "      <td>Low Fare</td>\n",
       "      <td>Young Adult</td>\n",
       "    </tr>\n",
       "    <tr>\n",
       "      <th>3</th>\n",
       "      <td>4</td>\n",
       "      <td>1.0</td>\n",
       "      <td>1</td>\n",
       "      <td>Futrelle, Mrs. Jacques Heath (Lily May Peel)</td>\n",
       "      <td>female</td>\n",
       "      <td>1</td>\n",
       "      <td>0</td>\n",
       "      <td>S</td>\n",
       "      <td>train</td>\n",
       "      <td>High Fare</td>\n",
       "      <td>Adult</td>\n",
       "    </tr>\n",
       "    <tr>\n",
       "      <th>4</th>\n",
       "      <td>5</td>\n",
       "      <td>0.0</td>\n",
       "      <td>3</td>\n",
       "      <td>Allen, Mr. William Henry</td>\n",
       "      <td>male</td>\n",
       "      <td>0</td>\n",
       "      <td>0</td>\n",
       "      <td>S</td>\n",
       "      <td>train</td>\n",
       "      <td>Low Fare</td>\n",
       "      <td>Adult</td>\n",
       "    </tr>\n",
       "  </tbody>\n",
       "</table>\n",
       "</div>"
      ],
      "text/plain": [
       "   PassengerId  Survived  Pclass                                               Name     Sex  SibSp  Parch Embarked dataset_type       Fare_bin      Age_bin\n",
       "0            1       0.0       3                            Braund, Mr. Owen Harris    male      1      0        S        train  Very Low Fare  Young Adult\n",
       "1            2       1.0       1  Cumings, Mrs. John Bradley (Florence Briggs Th...  female      1      0        C        train      High Fare        Adult\n",
       "2            3       1.0       3                             Heikkinen, Miss. Laina  female      0      0        S        train       Low Fare  Young Adult\n",
       "3            4       1.0       1       Futrelle, Mrs. Jacques Heath (Lily May Peel)  female      1      0        S        train      High Fare        Adult\n",
       "4            5       0.0       3                           Allen, Mr. William Henry    male      0      0        S        train       Low Fare        Adult"
      ]
     },
     "execution_count": 24,
     "metadata": {},
     "output_type": "execute_result"
    }
   ],
   "source": [
    "df.head()"
   ]
  },
  {
   "cell_type": "code",
   "execution_count": 25,
   "id": "c52aed15",
   "metadata": {
    "execution": {
     "iopub.execute_input": "2024-10-16T12:37:51.442765Z",
     "iopub.status.busy": "2024-10-16T12:37:51.442342Z",
     "iopub.status.idle": "2024-10-16T12:37:51.452527Z",
     "shell.execute_reply": "2024-10-16T12:37:51.451328Z"
    },
    "papermill": {
     "duration": 0.033713,
     "end_time": "2024-10-16T12:37:51.455014",
     "exception": false,
     "start_time": "2024-10-16T12:37:51.421301",
     "status": "completed"
    },
    "tags": []
   },
   "outputs": [
    {
     "data": {
      "text/plain": [
       "0                                Braund, Mr. Owen Harris\n",
       "1      Cumings, Mrs. John Bradley (Florence Briggs Th...\n",
       "2                                 Heikkinen, Miss. Laina\n",
       "3           Futrelle, Mrs. Jacques Heath (Lily May Peel)\n",
       "4                               Allen, Mr. William Henry\n",
       "                             ...                        \n",
       "413                                   Spector, Mr. Woolf\n",
       "414                         Oliva y Ocana, Dona. Fermina\n",
       "415                         Saether, Mr. Simon Sivertsen\n",
       "416                                  Ware, Mr. Frederick\n",
       "417                             Peter, Master. Michael J\n",
       "Name: Name, Length: 1309, dtype: object"
      ]
     },
     "execution_count": 25,
     "metadata": {},
     "output_type": "execute_result"
    }
   ],
   "source": [
    "df['Name']"
   ]
  },
  {
   "cell_type": "code",
   "execution_count": 26,
   "id": "4daca955",
   "metadata": {
    "execution": {
     "iopub.execute_input": "2024-10-16T12:37:51.510705Z",
     "iopub.status.busy": "2024-10-16T12:37:51.509723Z",
     "iopub.status.idle": "2024-10-16T12:37:51.515660Z",
     "shell.execute_reply": "2024-10-16T12:37:51.514505Z"
    },
    "papermill": {
     "duration": 0.036489,
     "end_time": "2024-10-16T12:37:51.517851",
     "exception": false,
     "start_time": "2024-10-16T12:37:51.481362",
     "status": "completed"
    },
    "tags": []
   },
   "outputs": [],
   "source": [
    "def get_unique_titles(names_list):\n",
    "    parts = names_list.split(',')\n",
    "    if len(parts) > 1:\n",
    "        title = parts[1].split('.')[0].strip()  \n",
    "        return title  \n",
    "    else:\n",
    "        return 'Unknown' \n",
    "\n",
    "\n"
   ]
  },
  {
   "cell_type": "code",
   "execution_count": 27,
   "id": "c8b46fa0",
   "metadata": {
    "execution": {
     "iopub.execute_input": "2024-10-16T12:37:51.560026Z",
     "iopub.status.busy": "2024-10-16T12:37:51.559623Z",
     "iopub.status.idle": "2024-10-16T12:37:51.567194Z",
     "shell.execute_reply": "2024-10-16T12:37:51.566078Z"
    },
    "papermill": {
     "duration": 0.031231,
     "end_time": "2024-10-16T12:37:51.569343",
     "exception": false,
     "start_time": "2024-10-16T12:37:51.538112",
     "status": "completed"
    },
    "tags": []
   },
   "outputs": [],
   "source": [
    "df['Title'] = df['Name'].apply(get_unique_titles)\n"
   ]
  },
  {
   "cell_type": "code",
   "execution_count": 28,
   "id": "747ffce0",
   "metadata": {
    "execution": {
     "iopub.execute_input": "2024-10-16T12:37:51.621750Z",
     "iopub.status.busy": "2024-10-16T12:37:51.620422Z",
     "iopub.status.idle": "2024-10-16T12:37:51.631687Z",
     "shell.execute_reply": "2024-10-16T12:37:51.630486Z"
    },
    "papermill": {
     "duration": 0.041669,
     "end_time": "2024-10-16T12:37:51.633961",
     "exception": false,
     "start_time": "2024-10-16T12:37:51.592292",
     "status": "completed"
    },
    "tags": []
   },
   "outputs": [
    {
     "data": {
      "text/plain": [
       "Title\n",
       "Mr              757\n",
       "Miss            260\n",
       "Mrs             197\n",
       "Master           61\n",
       "Rev               8\n",
       "Dr                8\n",
       "Col               4\n",
       "Mlle              2\n",
       "Major             2\n",
       "Ms                2\n",
       "Lady              1\n",
       "Sir               1\n",
       "Mme               1\n",
       "Don               1\n",
       "Capt              1\n",
       "the Countess      1\n",
       "Jonkheer          1\n",
       "Dona              1\n",
       "Name: count, dtype: int64"
      ]
     },
     "execution_count": 28,
     "metadata": {},
     "output_type": "execute_result"
    }
   ],
   "source": [
    "#We can seet that After Master There few title which are less than 10 records hence we convert them into Others\n",
    "df['Title'].value_counts()"
   ]
  },
  {
   "cell_type": "code",
   "execution_count": 29,
   "id": "535f84e3",
   "metadata": {
    "execution": {
     "iopub.execute_input": "2024-10-16T12:37:51.692312Z",
     "iopub.status.busy": "2024-10-16T12:37:51.691946Z",
     "iopub.status.idle": "2024-10-16T12:37:51.708080Z",
     "shell.execute_reply": "2024-10-16T12:37:51.706850Z"
    },
    "papermill": {
     "duration": 0.048689,
     "end_time": "2024-10-16T12:37:51.710923",
     "exception": false,
     "start_time": "2024-10-16T12:37:51.662234",
     "status": "completed"
    },
    "tags": []
   },
   "outputs": [
    {
     "data": {
      "text/plain": [
       "Title\n",
       "Mr        757\n",
       "Miss      260\n",
       "Mrs       197\n",
       "Master     61\n",
       "Others     34\n",
       "Name: count, dtype: int64"
      ]
     },
     "execution_count": 29,
     "metadata": {},
     "output_type": "execute_result"
    }
   ],
   "source": [
    "titles_to_keep = ['Mr', 'Miss', 'Mrs', 'Master']\n",
    "\n",
    "df['Title'] = df['Title'].apply(lambda x: x if x in titles_to_keep else 'Others')\n",
    "\n",
    "df['Title'].value_counts()"
   ]
  },
  {
   "cell_type": "code",
   "execution_count": 30,
   "id": "42174838",
   "metadata": {
    "execution": {
     "iopub.execute_input": "2024-10-16T12:37:51.753692Z",
     "iopub.status.busy": "2024-10-16T12:37:51.753211Z",
     "iopub.status.idle": "2024-10-16T12:37:51.759816Z",
     "shell.execute_reply": "2024-10-16T12:37:51.758746Z"
    },
    "papermill": {
     "duration": 0.030459,
     "end_time": "2024-10-16T12:37:51.762099",
     "exception": false,
     "start_time": "2024-10-16T12:37:51.731640",
     "status": "completed"
    },
    "tags": []
   },
   "outputs": [],
   "source": [
    "df.drop(['Name'],axis=1,inplace=True)"
   ]
  },
  {
   "cell_type": "code",
   "execution_count": 31,
   "id": "00e05993",
   "metadata": {
    "execution": {
     "iopub.execute_input": "2024-10-16T12:37:51.811507Z",
     "iopub.status.busy": "2024-10-16T12:37:51.811105Z",
     "iopub.status.idle": "2024-10-16T12:37:51.829810Z",
     "shell.execute_reply": "2024-10-16T12:37:51.828608Z"
    },
    "papermill": {
     "duration": 0.049661,
     "end_time": "2024-10-16T12:37:51.832103",
     "exception": false,
     "start_time": "2024-10-16T12:37:51.782442",
     "status": "completed"
    },
    "tags": []
   },
   "outputs": [
    {
     "data": {
      "text/html": [
       "<div>\n",
       "<style scoped>\n",
       "    .dataframe tbody tr th:only-of-type {\n",
       "        vertical-align: middle;\n",
       "    }\n",
       "\n",
       "    .dataframe tbody tr th {\n",
       "        vertical-align: top;\n",
       "    }\n",
       "\n",
       "    .dataframe thead th {\n",
       "        text-align: right;\n",
       "    }\n",
       "</style>\n",
       "<table border=\"1\" class=\"dataframe\">\n",
       "  <thead>\n",
       "    <tr style=\"text-align: right;\">\n",
       "      <th></th>\n",
       "      <th>PassengerId</th>\n",
       "      <th>Survived</th>\n",
       "      <th>Pclass</th>\n",
       "      <th>Sex</th>\n",
       "      <th>SibSp</th>\n",
       "      <th>Parch</th>\n",
       "      <th>Embarked</th>\n",
       "      <th>dataset_type</th>\n",
       "      <th>Fare_bin</th>\n",
       "      <th>Age_bin</th>\n",
       "      <th>Title</th>\n",
       "    </tr>\n",
       "  </thead>\n",
       "  <tbody>\n",
       "    <tr>\n",
       "      <th>0</th>\n",
       "      <td>1</td>\n",
       "      <td>0.0</td>\n",
       "      <td>3</td>\n",
       "      <td>male</td>\n",
       "      <td>1</td>\n",
       "      <td>0</td>\n",
       "      <td>S</td>\n",
       "      <td>train</td>\n",
       "      <td>Very Low Fare</td>\n",
       "      <td>Young Adult</td>\n",
       "      <td>Mr</td>\n",
       "    </tr>\n",
       "    <tr>\n",
       "      <th>1</th>\n",
       "      <td>2</td>\n",
       "      <td>1.0</td>\n",
       "      <td>1</td>\n",
       "      <td>female</td>\n",
       "      <td>1</td>\n",
       "      <td>0</td>\n",
       "      <td>C</td>\n",
       "      <td>train</td>\n",
       "      <td>High Fare</td>\n",
       "      <td>Adult</td>\n",
       "      <td>Mrs</td>\n",
       "    </tr>\n",
       "    <tr>\n",
       "      <th>2</th>\n",
       "      <td>3</td>\n",
       "      <td>1.0</td>\n",
       "      <td>3</td>\n",
       "      <td>female</td>\n",
       "      <td>0</td>\n",
       "      <td>0</td>\n",
       "      <td>S</td>\n",
       "      <td>train</td>\n",
       "      <td>Low Fare</td>\n",
       "      <td>Young Adult</td>\n",
       "      <td>Miss</td>\n",
       "    </tr>\n",
       "    <tr>\n",
       "      <th>3</th>\n",
       "      <td>4</td>\n",
       "      <td>1.0</td>\n",
       "      <td>1</td>\n",
       "      <td>female</td>\n",
       "      <td>1</td>\n",
       "      <td>0</td>\n",
       "      <td>S</td>\n",
       "      <td>train</td>\n",
       "      <td>High Fare</td>\n",
       "      <td>Adult</td>\n",
       "      <td>Mrs</td>\n",
       "    </tr>\n",
       "    <tr>\n",
       "      <th>4</th>\n",
       "      <td>5</td>\n",
       "      <td>0.0</td>\n",
       "      <td>3</td>\n",
       "      <td>male</td>\n",
       "      <td>0</td>\n",
       "      <td>0</td>\n",
       "      <td>S</td>\n",
       "      <td>train</td>\n",
       "      <td>Low Fare</td>\n",
       "      <td>Adult</td>\n",
       "      <td>Mr</td>\n",
       "    </tr>\n",
       "  </tbody>\n",
       "</table>\n",
       "</div>"
      ],
      "text/plain": [
       "   PassengerId  Survived  Pclass     Sex  SibSp  Parch Embarked dataset_type       Fare_bin      Age_bin Title\n",
       "0            1       0.0       3    male      1      0        S        train  Very Low Fare  Young Adult    Mr\n",
       "1            2       1.0       1  female      1      0        C        train      High Fare        Adult   Mrs\n",
       "2            3       1.0       3  female      0      0        S        train       Low Fare  Young Adult  Miss\n",
       "3            4       1.0       1  female      1      0        S        train      High Fare        Adult   Mrs\n",
       "4            5       0.0       3    male      0      0        S        train       Low Fare        Adult    Mr"
      ]
     },
     "execution_count": 31,
     "metadata": {},
     "output_type": "execute_result"
    }
   ],
   "source": [
    "df.head()"
   ]
  },
  {
   "cell_type": "markdown",
   "id": "dad455e7",
   "metadata": {
    "papermill": {
     "duration": 0.02239,
     "end_time": "2024-10-16T12:37:51.875355",
     "exception": false,
     "start_time": "2024-10-16T12:37:51.852965",
     "status": "completed"
    },
    "tags": []
   },
   "source": [
    "<p>SibSp: Number of siblings and spouses aboard.</p>\n",
    "<p>Parch: Number of parents and children aboard.</p>\n",
    "<p>So we create a new feature called FamilySize.</p>\n"
   ]
  },
  {
   "cell_type": "code",
   "execution_count": 32,
   "id": "2b27dec5",
   "metadata": {
    "execution": {
     "iopub.execute_input": "2024-10-16T12:37:51.918542Z",
     "iopub.status.busy": "2024-10-16T12:37:51.917623Z",
     "iopub.status.idle": "2024-10-16T12:37:51.934666Z",
     "shell.execute_reply": "2024-10-16T12:37:51.933622Z"
    },
    "papermill": {
     "duration": 0.04092,
     "end_time": "2024-10-16T12:37:51.936763",
     "exception": false,
     "start_time": "2024-10-16T12:37:51.895843",
     "status": "completed"
    },
    "tags": []
   },
   "outputs": [
    {
     "data": {
      "text/html": [
       "<div>\n",
       "<style scoped>\n",
       "    .dataframe tbody tr th:only-of-type {\n",
       "        vertical-align: middle;\n",
       "    }\n",
       "\n",
       "    .dataframe tbody tr th {\n",
       "        vertical-align: top;\n",
       "    }\n",
       "\n",
       "    .dataframe thead th {\n",
       "        text-align: right;\n",
       "    }\n",
       "</style>\n",
       "<table border=\"1\" class=\"dataframe\">\n",
       "  <thead>\n",
       "    <tr style=\"text-align: right;\">\n",
       "      <th></th>\n",
       "      <th>PassengerId</th>\n",
       "      <th>Survived</th>\n",
       "      <th>Pclass</th>\n",
       "      <th>Sex</th>\n",
       "      <th>SibSp</th>\n",
       "      <th>Parch</th>\n",
       "      <th>Embarked</th>\n",
       "      <th>dataset_type</th>\n",
       "      <th>Fare_bin</th>\n",
       "      <th>Age_bin</th>\n",
       "      <th>Title</th>\n",
       "      <th>FamilySize</th>\n",
       "    </tr>\n",
       "  </thead>\n",
       "  <tbody>\n",
       "    <tr>\n",
       "      <th>0</th>\n",
       "      <td>1</td>\n",
       "      <td>0.0</td>\n",
       "      <td>3</td>\n",
       "      <td>male</td>\n",
       "      <td>1</td>\n",
       "      <td>0</td>\n",
       "      <td>S</td>\n",
       "      <td>train</td>\n",
       "      <td>Very Low Fare</td>\n",
       "      <td>Young Adult</td>\n",
       "      <td>Mr</td>\n",
       "      <td>1</td>\n",
       "    </tr>\n",
       "    <tr>\n",
       "      <th>1</th>\n",
       "      <td>2</td>\n",
       "      <td>1.0</td>\n",
       "      <td>1</td>\n",
       "      <td>female</td>\n",
       "      <td>1</td>\n",
       "      <td>0</td>\n",
       "      <td>C</td>\n",
       "      <td>train</td>\n",
       "      <td>High Fare</td>\n",
       "      <td>Adult</td>\n",
       "      <td>Mrs</td>\n",
       "      <td>1</td>\n",
       "    </tr>\n",
       "    <tr>\n",
       "      <th>2</th>\n",
       "      <td>3</td>\n",
       "      <td>1.0</td>\n",
       "      <td>3</td>\n",
       "      <td>female</td>\n",
       "      <td>0</td>\n",
       "      <td>0</td>\n",
       "      <td>S</td>\n",
       "      <td>train</td>\n",
       "      <td>Low Fare</td>\n",
       "      <td>Young Adult</td>\n",
       "      <td>Miss</td>\n",
       "      <td>0</td>\n",
       "    </tr>\n",
       "    <tr>\n",
       "      <th>3</th>\n",
       "      <td>4</td>\n",
       "      <td>1.0</td>\n",
       "      <td>1</td>\n",
       "      <td>female</td>\n",
       "      <td>1</td>\n",
       "      <td>0</td>\n",
       "      <td>S</td>\n",
       "      <td>train</td>\n",
       "      <td>High Fare</td>\n",
       "      <td>Adult</td>\n",
       "      <td>Mrs</td>\n",
       "      <td>1</td>\n",
       "    </tr>\n",
       "    <tr>\n",
       "      <th>4</th>\n",
       "      <td>5</td>\n",
       "      <td>0.0</td>\n",
       "      <td>3</td>\n",
       "      <td>male</td>\n",
       "      <td>0</td>\n",
       "      <td>0</td>\n",
       "      <td>S</td>\n",
       "      <td>train</td>\n",
       "      <td>Low Fare</td>\n",
       "      <td>Adult</td>\n",
       "      <td>Mr</td>\n",
       "      <td>0</td>\n",
       "    </tr>\n",
       "  </tbody>\n",
       "</table>\n",
       "</div>"
      ],
      "text/plain": [
       "   PassengerId  Survived  Pclass     Sex  SibSp  Parch Embarked dataset_type       Fare_bin      Age_bin Title  FamilySize\n",
       "0            1       0.0       3    male      1      0        S        train  Very Low Fare  Young Adult    Mr           1\n",
       "1            2       1.0       1  female      1      0        C        train      High Fare        Adult   Mrs           1\n",
       "2            3       1.0       3  female      0      0        S        train       Low Fare  Young Adult  Miss           0\n",
       "3            4       1.0       1  female      1      0        S        train      High Fare        Adult   Mrs           1\n",
       "4            5       0.0       3    male      0      0        S        train       Low Fare        Adult    Mr           0"
      ]
     },
     "execution_count": 32,
     "metadata": {},
     "output_type": "execute_result"
    }
   ],
   "source": [
    "df['FamilySize']=df['SibSp']+df['Parch']\n",
    "df.head()"
   ]
  },
  {
   "cell_type": "code",
   "execution_count": 33,
   "id": "682ce729",
   "metadata": {
    "execution": {
     "iopub.execute_input": "2024-10-16T12:37:51.980126Z",
     "iopub.status.busy": "2024-10-16T12:37:51.979726Z",
     "iopub.status.idle": "2024-10-16T12:37:52.200963Z",
     "shell.execute_reply": "2024-10-16T12:37:52.199825Z"
    },
    "papermill": {
     "duration": 0.245682,
     "end_time": "2024-10-16T12:37:52.203373",
     "exception": false,
     "start_time": "2024-10-16T12:37:51.957691",
     "status": "completed"
    },
    "tags": []
   },
   "outputs": [
    {
     "data": {
      "text/plain": [
       "<Axes: ylabel='Frequency'>"
      ]
     },
     "execution_count": 33,
     "metadata": {},
     "output_type": "execute_result"
    },
    {
     "data": {
      "image/png": "[encoded data removed]",
      "text/plain": [
       "<Figure size 640x480 with 1 Axes>"
      ]
     },
     "metadata": {},
     "output_type": "display_data"
    }
   ],
   "source": [
    "df['FamilySize'].plot(kind='hist')"
   ]
  },
  {
   "cell_type": "markdown",
   "id": "f777e2a7",
   "metadata": {
    "papermill": {
     "duration": 0.021514,
     "end_time": "2024-10-16T12:37:52.246655",
     "exception": false,
     "start_time": "2024-10-16T12:37:52.225141",
     "status": "completed"
    },
    "tags": []
   },
   "source": [
    "<p>Here’s how you can categorize family sizes into bins:</p>\n",
    "<ul>\n",
    "    <li><strong>Single (0)</strong>: No family members aboard.</li>\n",
    "    <li><strong>Small Family (1-2)</strong>: 1 or 2 family members aboard.</li>\n",
    "    <li><strong>Medium Family (3-4)</strong>: 3 or 4 family members aboard.</li>\n",
    "    <li><strong>Large Family (5-6)</strong>: 5 or 6 family members aboard.</li>\n",
    "    <li><strong>Very Large Family (7+)</strong>: 7 or more family members aboard.</li>\n",
    "</ul>\n"
   ]
  },
  {
   "cell_type": "code",
   "execution_count": 34,
   "id": "3c3538f3",
   "metadata": {
    "execution": {
     "iopub.execute_input": "2024-10-16T12:37:52.291392Z",
     "iopub.status.busy": "2024-10-16T12:37:52.290979Z",
     "iopub.status.idle": "2024-10-16T12:37:52.304405Z",
     "shell.execute_reply": "2024-10-16T12:37:52.303148Z"
    },
    "papermill": {
     "duration": 0.038931,
     "end_time": "2024-10-16T12:37:52.306693",
     "exception": false,
     "start_time": "2024-10-16T12:37:52.267762",
     "status": "completed"
    },
    "tags": []
   },
   "outputs": [
    {
     "data": {
      "text/plain": [
       "FamilySizeCategory\n",
       "Single               790\n",
       "Small Family         394\n",
       "Medium Family         65\n",
       "Large Family          41\n",
       "Very Large Family     19\n",
       "Name: count, dtype: int64"
      ]
     },
     "execution_count": 34,
     "metadata": {},
     "output_type": "execute_result"
    }
   ],
   "source": [
    "bins = [-1, 0, 2, 4, 6, 10]  # -1 is included to capture 0\n",
    "labels = ['Single', 'Small Family', 'Medium Family', 'Large Family', 'Very Large Family']\n",
    "\n",
    "# Create the FamilySize bin feature\n",
    "df['FamilySizeCategory'] = pd.cut(df['FamilySize'], bins=bins, labels=labels)\n",
    "df['FamilySizeCategory'].value_counts()"
   ]
  },
  {
   "cell_type": "code",
   "execution_count": 35,
   "id": "6940cc7f",
   "metadata": {
    "execution": {
     "iopub.execute_input": "2024-10-16T12:37:52.351474Z",
     "iopub.status.busy": "2024-10-16T12:37:52.350705Z",
     "iopub.status.idle": "2024-10-16T12:37:52.357581Z",
     "shell.execute_reply": "2024-10-16T12:37:52.356530Z"
    },
    "papermill": {
     "duration": 0.031718,
     "end_time": "2024-10-16T12:37:52.359915",
     "exception": false,
     "start_time": "2024-10-16T12:37:52.328197",
     "status": "completed"
    },
    "tags": []
   },
   "outputs": [],
   "source": [
    "df.drop(['FamilySize','SibSp','Parch'],axis=1,inplace=True)"
   ]
  },
  {
   "cell_type": "code",
   "execution_count": 36,
   "id": "7f46eb6f",
   "metadata": {
    "execution": {
     "iopub.execute_input": "2024-10-16T12:37:52.404199Z",
     "iopub.status.busy": "2024-10-16T12:37:52.403802Z",
     "iopub.status.idle": "2024-10-16T12:37:52.418946Z",
     "shell.execute_reply": "2024-10-16T12:37:52.417907Z"
    },
    "papermill": {
     "duration": 0.039833,
     "end_time": "2024-10-16T12:37:52.421141",
     "exception": false,
     "start_time": "2024-10-16T12:37:52.381308",
     "status": "completed"
    },
    "tags": []
   },
   "outputs": [
    {
     "data": {
      "text/html": [
       "<div>\n",
       "<style scoped>\n",
       "    .dataframe tbody tr th:only-of-type {\n",
       "        vertical-align: middle;\n",
       "    }\n",
       "\n",
       "    .dataframe tbody tr th {\n",
       "        vertical-align: top;\n",
       "    }\n",
       "\n",
       "    .dataframe thead th {\n",
       "        text-align: right;\n",
       "    }\n",
       "</style>\n",
       "<table border=\"1\" class=\"dataframe\">\n",
       "  <thead>\n",
       "    <tr style=\"text-align: right;\">\n",
       "      <th></th>\n",
       "      <th>PassengerId</th>\n",
       "      <th>Survived</th>\n",
       "      <th>Pclass</th>\n",
       "      <th>Sex</th>\n",
       "      <th>Embarked</th>\n",
       "      <th>dataset_type</th>\n",
       "      <th>Fare_bin</th>\n",
       "      <th>Age_bin</th>\n",
       "      <th>Title</th>\n",
       "      <th>FamilySizeCategory</th>\n",
       "    </tr>\n",
       "  </thead>\n",
       "  <tbody>\n",
       "    <tr>\n",
       "      <th>0</th>\n",
       "      <td>1</td>\n",
       "      <td>0.0</td>\n",
       "      <td>3</td>\n",
       "      <td>male</td>\n",
       "      <td>S</td>\n",
       "      <td>train</td>\n",
       "      <td>Very Low Fare</td>\n",
       "      <td>Young Adult</td>\n",
       "      <td>Mr</td>\n",
       "      <td>Small Family</td>\n",
       "    </tr>\n",
       "    <tr>\n",
       "      <th>1</th>\n",
       "      <td>2</td>\n",
       "      <td>1.0</td>\n",
       "      <td>1</td>\n",
       "      <td>female</td>\n",
       "      <td>C</td>\n",
       "      <td>train</td>\n",
       "      <td>High Fare</td>\n",
       "      <td>Adult</td>\n",
       "      <td>Mrs</td>\n",
       "      <td>Small Family</td>\n",
       "    </tr>\n",
       "    <tr>\n",
       "      <th>2</th>\n",
       "      <td>3</td>\n",
       "      <td>1.0</td>\n",
       "      <td>3</td>\n",
       "      <td>female</td>\n",
       "      <td>S</td>\n",
       "      <td>train</td>\n",
       "      <td>Low Fare</td>\n",
       "      <td>Young Adult</td>\n",
       "      <td>Miss</td>\n",
       "      <td>Single</td>\n",
       "    </tr>\n",
       "    <tr>\n",
       "      <th>3</th>\n",
       "      <td>4</td>\n",
       "      <td>1.0</td>\n",
       "      <td>1</td>\n",
       "      <td>female</td>\n",
       "      <td>S</td>\n",
       "      <td>train</td>\n",
       "      <td>High Fare</td>\n",
       "      <td>Adult</td>\n",
       "      <td>Mrs</td>\n",
       "      <td>Small Family</td>\n",
       "    </tr>\n",
       "    <tr>\n",
       "      <th>4</th>\n",
       "      <td>5</td>\n",
       "      <td>0.0</td>\n",
       "      <td>3</td>\n",
       "      <td>male</td>\n",
       "      <td>S</td>\n",
       "      <td>train</td>\n",
       "      <td>Low Fare</td>\n",
       "      <td>Adult</td>\n",
       "      <td>Mr</td>\n",
       "      <td>Single</td>\n",
       "    </tr>\n",
       "  </tbody>\n",
       "</table>\n",
       "</div>"
      ],
      "text/plain": [
       "   PassengerId  Survived  Pclass     Sex Embarked dataset_type       Fare_bin      Age_bin Title FamilySizeCategory\n",
       "0            1       0.0       3    male        S        train  Very Low Fare  Young Adult    Mr       Small Family\n",
       "1            2       1.0       1  female        C        train      High Fare        Adult   Mrs       Small Family\n",
       "2            3       1.0       3  female        S        train       Low Fare  Young Adult  Miss             Single\n",
       "3            4       1.0       1  female        S        train      High Fare        Adult   Mrs       Small Family\n",
       "4            5       0.0       3    male        S        train       Low Fare        Adult    Mr             Single"
      ]
     },
     "execution_count": 36,
     "metadata": {},
     "output_type": "execute_result"
    }
   ],
   "source": [
    "df.head()"
   ]
  },
  {
   "cell_type": "code",
   "execution_count": 37,
   "id": "81b789c6",
   "metadata": {
    "execution": {
     "iopub.execute_input": "2024-10-16T12:37:52.466761Z",
     "iopub.status.busy": "2024-10-16T12:37:52.466302Z",
     "iopub.status.idle": "2024-10-16T12:37:52.485620Z",
     "shell.execute_reply": "2024-10-16T12:37:52.484433Z"
    },
    "papermill": {
     "duration": 0.044644,
     "end_time": "2024-10-16T12:37:52.487927",
     "exception": false,
     "start_time": "2024-10-16T12:37:52.443283",
     "status": "completed"
    },
    "tags": []
   },
   "outputs": [
    {
     "name": "stdout",
     "output_type": "stream",
     "text": [
      "<class 'pandas.core.frame.DataFrame'>\n",
      "Index: 1309 entries, 0 to 417\n",
      "Data columns (total 10 columns):\n",
      " #   Column              Non-Null Count  Dtype   \n",
      "---  ------              --------------  -----   \n",
      " 0   PassengerId         1309 non-null   int64   \n",
      " 1   Survived            891 non-null    float64 \n",
      " 2   Pclass              1309 non-null   int64   \n",
      " 3   Sex                 1309 non-null   object  \n",
      " 4   Embarked            1309 non-null   object  \n",
      " 5   dataset_type        1309 non-null   object  \n",
      " 6   Fare_bin            1305 non-null   category\n",
      " 7   Age_bin             1309 non-null   category\n",
      " 8   Title               1309 non-null   object  \n",
      " 9   FamilySizeCategory  1309 non-null   category\n",
      "dtypes: category(3), float64(1), int64(2), object(4)\n",
      "memory usage: 86.3+ KB\n"
     ]
    }
   ],
   "source": [
    "df.info()"
   ]
  },
  {
   "cell_type": "markdown",
   "id": "9745139c",
   "metadata": {
    "papermill": {
     "duration": 0.021321,
     "end_time": "2024-10-16T12:37:52.583662",
     "exception": false,
     "start_time": "2024-10-16T12:37:52.562341",
     "status": "completed"
    },
    "tags": []
   },
   "source": [
    "<h3>Chi-Squared Test & Contingency Table </h3>"
   ]
  },
  {
   "cell_type": "code",
   "execution_count": 38,
   "id": "32d3a846",
   "metadata": {
    "execution": {
     "iopub.execute_input": "2024-10-16T12:37:52.629425Z",
     "iopub.status.busy": "2024-10-16T12:37:52.628677Z",
     "iopub.status.idle": "2024-10-16T12:37:52.707687Z",
     "shell.execute_reply": "2024-10-16T12:37:52.705889Z"
    },
    "papermill": {
     "duration": 0.104605,
     "end_time": "2024-10-16T12:37:52.710084",
     "exception": false,
     "start_time": "2024-10-16T12:37:52.605479",
     "status": "completed"
    },
    "tags": []
   },
   "outputs": [
    {
     "name": "stdout",
     "output_type": "stream",
     "text": [
      "Variable: Pclass\n",
      "Chi-Squared Statistic: 102.8890\n",
      "p-value: 0.0000\n",
      "Contingency Table:\n",
      "Survived  0.0  1.0\n",
      "Pclass            \n",
      "1          80  136\n",
      "2          97   87\n",
      "3         372  119\n",
      "\n",
      "----------------------------------------\n",
      "\n",
      "Variable: Sex\n",
      "Chi-Squared Statistic: 260.7170\n",
      "p-value: 0.0000\n",
      "Contingency Table:\n",
      "Survived  0.0  1.0\n",
      "Sex               \n",
      "female     81  233\n",
      "male      468  109\n",
      "\n",
      "----------------------------------------\n",
      "\n",
      "Variable: Embarked\n",
      "Chi-Squared Statistic: 25.9645\n",
      "p-value: 0.0000\n",
      "Contingency Table:\n",
      "Survived  0.0  1.0\n",
      "Embarked          \n",
      "C          75   93\n",
      "Q          47   30\n",
      "S         427  219\n",
      "\n",
      "----------------------------------------\n",
      "\n",
      "Variable: Fare_bin\n",
      "Chi-Squared Statistic: 76.2385\n",
      "p-value: 0.0000\n",
      "Contingency Table:\n",
      "Survived        0.0  1.0\n",
      "Fare_bin                \n",
      "Very Low Fare   142   43\n",
      "Low Fare        187   68\n",
      "Moderate Fare   127  102\n",
      "High Fare        79   90\n",
      "Very High Fare   14   36\n",
      "\n",
      "----------------------------------------\n",
      "\n",
      "Variable: Age_bin\n",
      "Chi-Squared Statistic: 16.6489\n",
      "p-value: 0.0023\n",
      "Contingency Table:\n",
      "Survived     0.0  1.0\n",
      "Age_bin              \n",
      "Child         29   40\n",
      "Teenager      88   47\n",
      "Young Adult  222  113\n",
      "Adult        108   81\n",
      "Senior       102   61\n",
      "\n",
      "----------------------------------------\n",
      "\n",
      "Variable: Title\n",
      "Chi-Squared Statistic: 283.3115\n",
      "p-value: 0.0000\n",
      "Contingency Table:\n",
      "Survived  0.0  1.0\n",
      "Title             \n",
      "Master     17   23\n",
      "Miss       55  127\n",
      "Mr        436   81\n",
      "Mrs        26   99\n",
      "Others     15   12\n",
      "\n",
      "----------------------------------------\n",
      "\n",
      "Variable: FamilySizeCategory\n",
      "Chi-Squared Statistic: 67.7413\n",
      "p-value: 0.0000\n",
      "Contingency Table:\n",
      "Survived            0.0  1.0\n",
      "FamilySizeCategory          \n",
      "Single              374  163\n",
      "Small Family        115  148\n",
      "Medium Family        20   24\n",
      "Large Family         27    7\n",
      "Very Large Family    13    0\n",
      "\n",
      "----------------------------------------\n",
      "\n"
     ]
    }
   ],
   "source": [
    "def chi_squared_test(df, categorical_variable):\n",
    "    # Create a contingency table\n",
    "    contingency_table = pd.crosstab(df[categorical_variable], df['Survived'])\n",
    "    \n",
    "    # Perform Chi-Squared test\n",
    "    chi2, p, dof, expected = chi2_contingency(contingency_table)\n",
    "    \n",
    "    return chi2, p, contingency_table\n",
    "\n",
    "# List of categorical variables to test\n",
    "categorical_variables = ['Pclass','Sex','Embarked','Fare_bin', 'Age_bin', 'Title', 'FamilySizeCategory']\n",
    "\n",
    "# Perform Chi-Squared test for each variable and store results\n",
    "results = {}\n",
    "for variable in categorical_variables:\n",
    "    chi2_stat, p_value, contingency = chi_squared_test(df, variable)\n",
    "    results[variable] = {\n",
    "        'Chi-Squared Statistic': chi2_stat,\n",
    "        'p-value': p_value,\n",
    "        'Contingency Table': contingency\n",
    "    }\n",
    "\n",
    "# Display results\n",
    "for variable, result in results.items():\n",
    "    print(f\"Variable: {variable}\")\n",
    "    print(f\"Chi-Squared Statistic: {result['Chi-Squared Statistic']:.4f}\")\n",
    "    print(f\"p-value: {result['p-value']:.4f}\")\n",
    "    print(\"Contingency Table:\")\n",
    "    print(result['Contingency Table'])\n",
    "    print(\"\\n\" + \"-\"*40 + \"\\n\")"
   ]
  },
  {
   "cell_type": "markdown",
   "id": "89b9c41a",
   "metadata": {
    "execution": {
     "iopub.execute_input": "2024-10-16T10:40:22.555402Z",
     "iopub.status.busy": "2024-10-16T10:40:22.554946Z",
     "iopub.status.idle": "2024-10-16T10:40:22.565416Z",
     "shell.execute_reply": "2024-10-16T10:40:22.563689Z",
     "shell.execute_reply.started": "2024-10-16T10:40:22.555359Z"
    },
    "papermill": {
     "duration": 0.021682,
     "end_time": "2024-10-16T12:37:52.753667",
     "exception": false,
     "start_time": "2024-10-16T12:37:52.731985",
     "status": "completed"
    },
    "tags": []
   },
   "source": [
    "<h3>Interpreting Results</h3>\n",
    "Chi-Squared Statistic: A larger value indicates a stronger association between the categorical variable and survival.\n",
    "\n",
    "p-value: Typically, a p-value less than 0.05 suggests that there is a statistically significant association between the categorical variable and survival.\n",
    "\n",
    "By following Above process, you can analyze how different categorical factors relate to survival on the Titanic."
   ]
  },
  {
   "cell_type": "markdown",
   "id": "ed831cdd",
   "metadata": {
    "papermill": {
     "duration": 0.021533,
     "end_time": "2024-10-16T12:37:52.797035",
     "exception": false,
     "start_time": "2024-10-16T12:37:52.775502",
     "status": "completed"
    },
    "tags": []
   },
   "source": [
    "<div>\n",
    "  <h2>The features most significantly associated with survival on the Titanic are as follows:</h2>\n",
    "  <ul>\n",
    "    <li><strong>Sex:</strong> Females had the highest survival rates.</li>\n",
    "    <li><strong>Title:</strong> Titles reflect gender and social status, correlating strongly with survival chances.</li>\n",
    "    <li><strong>Pclass:</strong> Higher-class passengers (1st class) had much better survival rates compared to lower classes.</li>\n",
    "    <li><strong>Fare_bin:</strong> Passengers paying higher fares had better survival chances, consistent with class associations.</li>\n",
    "    <li><strong>Embarked:</strong> The port of embarkation also plays a role, with certain ports having higher survival rates.</li>\n",
    "    <li><strong>FamilySizeCategory:</strong> While significant, family size was less impactful than the above features.</li>\n",
    "    <li><strong>Age_bin:</strong> Although significant, age had the weakest association among these features, with children having the highest survival rates.</li>\n",
    "  </ul>\n",
    "  <h3>In summary, Sex and Pclass emerge as the most impactful features regarding survival on the Titanic, closely followed by Title.</h3>\n",
    "</div>\n"
   ]
  },
  {
   "cell_type": "markdown",
   "id": "561cffcd",
   "metadata": {
    "papermill": {
     "duration": 0.021902,
     "end_time": "2024-10-16T12:37:52.840874",
     "exception": false,
     "start_time": "2024-10-16T12:37:52.818972",
     "status": "completed"
    },
    "tags": []
   },
   "source": [
    "<h2>Data Visulization</h2>"
   ]
  },
  {
   "cell_type": "markdown",
   "id": "fa82bc18",
   "metadata": {
    "papermill": {
     "duration": 0.021596,
     "end_time": "2024-10-16T12:37:52.884362",
     "exception": false,
     "start_time": "2024-10-16T12:37:52.862766",
     "status": "completed"
    },
    "tags": []
   },
   "source": [
    "<h4>Univarite Analysis</h4>"
   ]
  },
  {
   "cell_type": "code",
   "execution_count": 39,
   "id": "c537d278",
   "metadata": {
    "execution": {
     "iopub.execute_input": "2024-10-16T12:37:52.930680Z",
     "iopub.status.busy": "2024-10-16T12:37:52.930254Z",
     "iopub.status.idle": "2024-10-16T12:37:54.807788Z",
     "shell.execute_reply": "2024-10-16T12:37:54.806625Z"
    },
    "papermill": {
     "duration": 1.904742,
     "end_time": "2024-10-16T12:37:54.811440",
     "exception": false,
     "start_time": "2024-10-16T12:37:52.906698",
     "status": "completed"
    },
    "tags": []
   },
   "outputs": [
    {
     "name": "stderr",
     "output_type": "stream",
     "text": [
      "/opt/conda/lib/python3.10/site-packages/seaborn/categorical.py:641: FutureWarning: The default of observed=False is deprecated and will be changed to True in a future version of pandas. Pass observed=False to retain current behavior or observed=True to adopt the future default and silence this warning.\n",
      "  grouped_vals = vals.groupby(grouper)\n",
      "/opt/conda/lib/python3.10/site-packages/seaborn/categorical.py:641: FutureWarning: The default of observed=False is deprecated and will be changed to True in a future version of pandas. Pass observed=False to retain current behavior or observed=True to adopt the future default and silence this warning.\n",
      "  grouped_vals = vals.groupby(grouper)\n",
      "/opt/conda/lib/python3.10/site-packages/seaborn/categorical.py:641: FutureWarning: The default of observed=False is deprecated and will be changed to True in a future version of pandas. Pass observed=False to retain current behavior or observed=True to adopt the future default and silence this warning.\n",
      "  grouped_vals = vals.groupby(grouper)\n"
     ]
    },
    {
     "data": {
      "image/png": "[encoded data removed]",
      "text/plain": [
       "<Figure size 1200x1600 with 8 Axes>"
      ]
     },
     "metadata": {},
     "output_type": "display_data"
    }
   ],
   "source": [
    "categorical_cols = ['Survived', 'Pclass', 'Sex', 'Embarked', \n",
    "                    'Fare_bin', 'Age_bin', 'Title', 'FamilySizeCategory']\n",
    "\n",
    "# Set up the subplot grid\n",
    "n_cols = 2\n",
    "n_rows = (len(categorical_cols) + n_cols - 1) // n_cols\n",
    "\n",
    "fig, axes = plt.subplots(n_rows, n_cols, figsize=(12, n_rows * 4))\n",
    "axes = axes.flatten()  # Flatten to easily index\n",
    "\n",
    "# Create bar plots for each categorical column using sns.barplot\n",
    "for idx, col in enumerate(categorical_cols):\n",
    "    # Calculate counts\n",
    "    counts = df[col].value_counts().reset_index()\n",
    "    counts.columns = [col, 'Count']  # Rename columns for clarity\n",
    "\n",
    "    # Create the bar plot\n",
    "    sns.barplot(data=counts, x=col, y='Count', ax=axes[idx], palette='coolwarm')\n",
    "\n",
    "    axes[idx].set_title(f'Count of {col}')\n",
    "    axes[idx].set_ylabel('Count')\n",
    "    axes[idx].set_xlabel(col)\n",
    "\n",
    "    # Annotate the bars with their values\n",
    "    for p in axes[idx].patches:\n",
    "        axes[idx].annotate(f'{int(p.get_height())}', \n",
    "                           (p.get_x() + p.get_width() / 2., p.get_height()), \n",
    "                           ha='center', va='bottom', \n",
    "                           fontsize=10, color='black', \n",
    "                           xytext=(0, 5),  # 5 points vertical offset\n",
    "                           textcoords='offset points')\n",
    "\n",
    "# Remove any empty subplots\n",
    "for j in range(idx + 1, len(axes)):\n",
    "    fig.delaxes(axes[j])\n",
    "\n",
    "plt.tight_layout()\n",
    "plt.show()"
   ]
  },
  {
   "cell_type": "markdown",
   "id": "3c069876",
   "metadata": {
    "papermill": {
     "duration": 0.024549,
     "end_time": "2024-10-16T12:37:54.861101",
     "exception": false,
     "start_time": "2024-10-16T12:37:54.836552",
     "status": "completed"
    },
    "tags": []
   },
   "source": [
    "<h4>Bivarite Analysis</h4>"
   ]
  },
  {
   "cell_type": "markdown",
   "id": "208c8e74",
   "metadata": {
    "papermill": {
     "duration": 0.023804,
     "end_time": "2024-10-16T12:37:54.909073",
     "exception": false,
     "start_time": "2024-10-16T12:37:54.885269",
     "status": "completed"
    },
    "tags": []
   },
   "source": [
    "<h3>\n",
    "Now we analyze features with respect to survival to gain additional knowledge. We have the \"Survived\" column in the training data with 888 records. In univariate analysis, we consider the total count from both the training and test datasets. However, in bivariate analysis, we only work with the training data to identify patterns.\n",
    "</h3>"
   ]
  },
  {
   "cell_type": "code",
   "execution_count": 40,
   "id": "16f52a3e",
   "metadata": {
    "execution": {
     "iopub.execute_input": "2024-10-16T12:37:54.959028Z",
     "iopub.status.busy": "2024-10-16T12:37:54.958623Z",
     "iopub.status.idle": "2024-10-16T12:37:55.546973Z",
     "shell.execute_reply": "2024-10-16T12:37:55.545896Z"
    },
    "papermill": {
     "duration": 0.616076,
     "end_time": "2024-10-16T12:37:55.549243",
     "exception": false,
     "start_time": "2024-10-16T12:37:54.933167",
     "status": "completed"
    },
    "tags": []
   },
   "outputs": [
    {
     "data": {
      "image/png": "[encoded data removed]",
      "text/plain": [
       "<Figure size 1400x600 with 2 Axes>"
      ]
     },
     "metadata": {},
     "output_type": "display_data"
    }
   ],
   "source": [
    "#Survival Analysis by Demographics:\n",
    "#Investigate survival rates across different age groups and genders.\n",
    "Demographics_crosstab=pd.crosstab(index=df['Pclass'],columns=[df['Sex'],df['Age_bin'],df['Survived']])\n",
    "plt.figure(figsize=(14, 6))\n",
    "sns.heatmap(Demographics_crosstab, annot=True, fmt='d', cmap='viridis', cbar_kws={'label': 'Count'})\n",
    "plt.title('Survival Count by Age and Sex')\n",
    "plt.ylabel('Pclass')\n",
    "plt.xlabel('Sex and Survival Status')\n",
    "plt.xticks(rotation=45)\n",
    "plt.tight_layout()\n",
    "plt.show()"
   ]
  },
  {
   "cell_type": "markdown",
   "id": "daf86a60",
   "metadata": {
    "papermill": {
     "duration": 0.025595,
     "end_time": "2024-10-16T12:37:55.600637",
     "exception": false,
     "start_time": "2024-10-16T12:37:55.575042",
     "status": "completed"
    },
    "tags": []
   },
   "source": [
    "**From the above chart, it is evident that male passengers in Pclass 3 who fall into the Teenager age category were the least likely to have survived.**"
   ]
  },
  {
   "cell_type": "code",
   "execution_count": 41,
   "id": "d3555e2d",
   "metadata": {
    "execution": {
     "iopub.execute_input": "2024-10-16T12:37:55.654912Z",
     "iopub.status.busy": "2024-10-16T12:37:55.653823Z",
     "iopub.status.idle": "2024-10-16T12:37:56.085579Z",
     "shell.execute_reply": "2024-10-16T12:37:56.084518Z"
    },
    "papermill": {
     "duration": 0.461644,
     "end_time": "2024-10-16T12:37:56.088194",
     "exception": false,
     "start_time": "2024-10-16T12:37:55.626550",
     "status": "completed"
    },
    "tags": []
   },
   "outputs": [
    {
     "data": {
      "image/png": "[encoded data removed]",
      "text/plain": [
       "<Figure size 1400x600 with 2 Axes>"
      ]
     },
     "metadata": {},
     "output_type": "display_data"
    }
   ],
   "source": [
    "#Socioeconomic Impact:\n",
    "#Analyze how class and fare influence survival rates.\n",
    "Socioeconomic_crosstab=pd.crosstab(index=df['Pclass'],columns=[df['Fare_bin'],df['Survived']])\n",
    "plt.figure(figsize=(14, 6))\n",
    "sns.heatmap(Socioeconomic_crosstab, annot=True, fmt='d', cmap='viridis', cbar_kws={'label': 'Count'})\n",
    "plt.title('Survival Count by Age and Sex')\n",
    "plt.ylabel('Pclass')\n",
    "plt.xlabel('Fare and Survival Status')\n",
    "plt.xticks(rotation=45)\n",
    "plt.tight_layout()\n",
    "plt.show()"
   ]
  },
  {
   "cell_type": "markdown",
   "id": "8631a269",
   "metadata": {
    "papermill": {
     "duration": 0.027215,
     "end_time": "2024-10-16T12:37:56.142634",
     "exception": false,
     "start_time": "2024-10-16T12:37:56.115419",
     "status": "completed"
    },
    "tags": []
   },
   "source": [
    "**From the above chart, it is evident that out of a total of 888 passengers in Pclass 3, 264 did not survive. Among those who did not survive, 130 belonged to the \"Very Low Fare\" category, while 134 were in the \"Low Fare\" category.**"
   ]
  },
  {
   "cell_type": "code",
   "execution_count": 42,
   "id": "894f12a2",
   "metadata": {
    "execution": {
     "iopub.execute_input": "2024-10-16T12:37:56.199734Z",
     "iopub.status.busy": "2024-10-16T12:37:56.198541Z",
     "iopub.status.idle": "2024-10-16T12:37:56.568348Z",
     "shell.execute_reply": "2024-10-16T12:37:56.567111Z"
    },
    "papermill": {
     "duration": 0.40084,
     "end_time": "2024-10-16T12:37:56.570731",
     "exception": false,
     "start_time": "2024-10-16T12:37:56.169891",
     "status": "completed"
    },
    "tags": []
   },
   "outputs": [
    {
     "data": {
      "image/png": "[encoded data removed]",
      "text/plain": [
       "<Figure size 500x300 with 2 Axes>"
      ]
     },
     "metadata": {},
     "output_type": "display_data"
    }
   ],
   "source": [
    "#Family and Social Structure Impact:\n",
    "#Examine whether family size affected survival chances.\n",
    "\n",
    "family_crosstab=pd.crosstab(index=df['FamilySizeCategory'],columns=[df['Survived']])\n",
    "plt.figure(figsize=(5, 3))\n",
    "sns.heatmap(family_crosstab, annot=True, fmt='d', cmap='viridis', cbar_kws={'label': 'Count'})\n",
    "plt.title('Survival Count by Age and Sex')\n",
    "plt.ylabel('Family Size')\n",
    "plt.xlabel('Survival Status')\n",
    "plt.xticks(rotation=45)\n",
    "plt.tight_layout()\n",
    "plt.show()"
   ]
  },
  {
   "cell_type": "code",
   "execution_count": 43,
   "id": "6660eb9b",
   "metadata": {
    "execution": {
     "iopub.execute_input": "2024-10-16T12:37:56.628746Z",
     "iopub.status.busy": "2024-10-16T12:37:56.627591Z",
     "iopub.status.idle": "2024-10-16T12:37:57.325145Z",
     "shell.execute_reply": "2024-10-16T12:37:57.323888Z"
    },
    "papermill": {
     "duration": 0.729095,
     "end_time": "2024-10-16T12:37:57.327574",
     "exception": false,
     "start_time": "2024-10-16T12:37:56.598479",
     "status": "completed"
    },
    "tags": []
   },
   "outputs": [
    {
     "data": {
      "image/png": "[encoded data removed]",
      "text/plain": [
       "<Figure size 1200x500 with 4 Axes>"
      ]
     },
     "metadata": {},
     "output_type": "display_data"
    }
   ],
   "source": [
    "title_crosstab = pd.crosstab(index=df['Title'], columns=[df['Survived']])\n",
    "# Travel Origin Analysis\n",
    "embarked_crosstab = pd.crosstab(index=df['Embarked'], columns=[df['Survived']])\n",
    "\n",
    "# Set up the figure with 1 row and 2 columns\n",
    "plt.figure(figsize=(12, 5))\n",
    "\n",
    "# Subplot for Title Analysis\n",
    "plt.subplot(1, 2, 1)\n",
    "sns.heatmap(title_crosstab, annot=True, fmt='d', cmap='viridis', cbar_kws={'label': 'Count'})\n",
    "plt.title('Survival Count by Title')\n",
    "plt.ylabel('Title')\n",
    "plt.xlabel('Survival Status')\n",
    "plt.xticks(rotation=45)\n",
    "\n",
    "# Subplot for Travel Origin Analysis\n",
    "plt.subplot(1, 2, 2)\n",
    "sns.heatmap(embarked_crosstab, annot=True, fmt='d', cmap='viridis', cbar_kws={'label': 'Count'})\n",
    "plt.title('Survival Count by Embarkation Point')\n",
    "plt.ylabel('Embarkation Point')\n",
    "plt.xlabel('Survival Status')\n",
    "plt.xticks(rotation=45)\n",
    "\n",
    "# Adjust layout\n",
    "plt.tight_layout()\n",
    "plt.show()"
   ]
  },
  {
   "cell_type": "markdown",
   "id": "a870de89",
   "metadata": {
    "papermill": {
     "duration": 0.028397,
     "end_time": "2024-10-16T12:37:57.385047",
     "exception": false,
     "start_time": "2024-10-16T12:37:57.356650",
     "status": "completed"
    },
    "tags": []
   },
   "source": [
    "**From the chart, it is evident that passengers with the title 'Mrs.' had the highest number of non-survivors,\n",
    "totaling 436, while the embarkation point with the highest number of non-survivors was 'S,' with 427 passengers not surviving.**\n"
   ]
  },
  {
   "cell_type": "code",
   "execution_count": 44,
   "id": "9c982e8d",
   "metadata": {
    "execution": {
     "iopub.execute_input": "2024-10-16T12:37:57.444372Z",
     "iopub.status.busy": "2024-10-16T12:37:57.443956Z",
     "iopub.status.idle": "2024-10-16T12:37:58.502760Z",
     "shell.execute_reply": "2024-10-16T12:37:58.501506Z"
    },
    "papermill": {
     "duration": 1.092833,
     "end_time": "2024-10-16T12:37:58.506493",
     "exception": false,
     "start_time": "2024-10-16T12:37:57.413660",
     "status": "completed"
    },
    "tags": []
   },
   "outputs": [
    {
     "data": {
      "image/png": "[encoded data removed]",
      "text/plain": [
       "<Figure size 3000x500 with 2 Axes>"
      ]
     },
     "metadata": {},
     "output_type": "display_data"
    }
   ],
   "source": [
    "family_crosstab=pd.crosstab(index=df['Survived'],columns=[df['Sex'],df['Embarked'],df['Pclass'],df['Fare_bin']])\n",
    "plt.figure(figsize=(30, 5))\n",
    "sns.heatmap(family_crosstab, annot=True, fmt='d', cmap='viridis', cbar_kws={'label': 'Count'})\n",
    "plt.title('Survival Count by Sex, Embarked,Pclass,Fare_bin')\n",
    "plt.ylabel('Survived')\n",
    "plt.xlabel('Sex, Embarked,Pclass,Fare_bin Status')\n",
    "plt.xticks(rotation=45)\n",
    "plt.tight_layout()\n",
    "plt.show()"
   ]
  },
  {
   "cell_type": "markdown",
   "id": "fbf5a88d",
   "metadata": {
    "execution": {
     "iopub.execute_input": "2024-10-16T10:58:53.254072Z",
     "iopub.status.busy": "2024-10-16T10:58:53.252686Z",
     "iopub.status.idle": "2024-10-16T10:58:53.271962Z",
     "shell.execute_reply": "2024-10-16T10:58:53.270131Z",
     "shell.execute_reply.started": "2024-10-16T10:58:53.254015Z"
    },
    "papermill": {
     "duration": 0.032984,
     "end_time": "2024-10-16T12:37:58.573891",
     "exception": false,
     "start_time": "2024-10-16T12:37:58.540907",
     "status": "completed"
    },
    "tags": []
   },
   "source": [
    "<h3>Model Building And Evalution</h3>"
   ]
  },
  {
   "cell_type": "code",
   "execution_count": 45,
   "id": "95ac4d81",
   "metadata": {
    "execution": {
     "iopub.execute_input": "2024-10-16T12:37:58.640210Z",
     "iopub.status.busy": "2024-10-16T12:37:58.639777Z",
     "iopub.status.idle": "2024-10-16T12:37:58.656478Z",
     "shell.execute_reply": "2024-10-16T12:37:58.655422Z"
    },
    "papermill": {
     "duration": 0.052784,
     "end_time": "2024-10-16T12:37:58.658794",
     "exception": false,
     "start_time": "2024-10-16T12:37:58.606010",
     "status": "completed"
    },
    "tags": []
   },
   "outputs": [
    {
     "data": {
      "text/html": [
       "<div>\n",
       "<style scoped>\n",
       "    .dataframe tbody tr th:only-of-type {\n",
       "        vertical-align: middle;\n",
       "    }\n",
       "\n",
       "    .dataframe tbody tr th {\n",
       "        vertical-align: top;\n",
       "    }\n",
       "\n",
       "    .dataframe thead th {\n",
       "        text-align: right;\n",
       "    }\n",
       "</style>\n",
       "<table border=\"1\" class=\"dataframe\">\n",
       "  <thead>\n",
       "    <tr style=\"text-align: right;\">\n",
       "      <th></th>\n",
       "      <th>PassengerId</th>\n",
       "      <th>Survived</th>\n",
       "      <th>Pclass</th>\n",
       "      <th>Sex</th>\n",
       "      <th>Embarked</th>\n",
       "      <th>dataset_type</th>\n",
       "      <th>Fare_bin</th>\n",
       "      <th>Age_bin</th>\n",
       "      <th>Title</th>\n",
       "      <th>FamilySizeCategory</th>\n",
       "    </tr>\n",
       "  </thead>\n",
       "  <tbody>\n",
       "    <tr>\n",
       "      <th>0</th>\n",
       "      <td>1</td>\n",
       "      <td>0.0</td>\n",
       "      <td>3</td>\n",
       "      <td>male</td>\n",
       "      <td>S</td>\n",
       "      <td>train</td>\n",
       "      <td>Very Low Fare</td>\n",
       "      <td>Young Adult</td>\n",
       "      <td>Mr</td>\n",
       "      <td>Small Family</td>\n",
       "    </tr>\n",
       "    <tr>\n",
       "      <th>1</th>\n",
       "      <td>2</td>\n",
       "      <td>1.0</td>\n",
       "      <td>1</td>\n",
       "      <td>female</td>\n",
       "      <td>C</td>\n",
       "      <td>train</td>\n",
       "      <td>High Fare</td>\n",
       "      <td>Adult</td>\n",
       "      <td>Mrs</td>\n",
       "      <td>Small Family</td>\n",
       "    </tr>\n",
       "    <tr>\n",
       "      <th>2</th>\n",
       "      <td>3</td>\n",
       "      <td>1.0</td>\n",
       "      <td>3</td>\n",
       "      <td>female</td>\n",
       "      <td>S</td>\n",
       "      <td>train</td>\n",
       "      <td>Low Fare</td>\n",
       "      <td>Young Adult</td>\n",
       "      <td>Miss</td>\n",
       "      <td>Single</td>\n",
       "    </tr>\n",
       "    <tr>\n",
       "      <th>3</th>\n",
       "      <td>4</td>\n",
       "      <td>1.0</td>\n",
       "      <td>1</td>\n",
       "      <td>female</td>\n",
       "      <td>S</td>\n",
       "      <td>train</td>\n",
       "      <td>High Fare</td>\n",
       "      <td>Adult</td>\n",
       "      <td>Mrs</td>\n",
       "      <td>Small Family</td>\n",
       "    </tr>\n",
       "    <tr>\n",
       "      <th>4</th>\n",
       "      <td>5</td>\n",
       "      <td>0.0</td>\n",
       "      <td>3</td>\n",
       "      <td>male</td>\n",
       "      <td>S</td>\n",
       "      <td>train</td>\n",
       "      <td>Low Fare</td>\n",
       "      <td>Adult</td>\n",
       "      <td>Mr</td>\n",
       "      <td>Single</td>\n",
       "    </tr>\n",
       "  </tbody>\n",
       "</table>\n",
       "</div>"
      ],
      "text/plain": [
       "   PassengerId  Survived  Pclass     Sex Embarked dataset_type       Fare_bin      Age_bin Title FamilySizeCategory\n",
       "0            1       0.0       3    male        S        train  Very Low Fare  Young Adult    Mr       Small Family\n",
       "1            2       1.0       1  female        C        train      High Fare        Adult   Mrs       Small Family\n",
       "2            3       1.0       3  female        S        train       Low Fare  Young Adult  Miss             Single\n",
       "3            4       1.0       1  female        S        train      High Fare        Adult   Mrs       Small Family\n",
       "4            5       0.0       3    male        S        train       Low Fare        Adult    Mr             Single"
      ]
     },
     "execution_count": 45,
     "metadata": {},
     "output_type": "execute_result"
    }
   ],
   "source": [
    "df.head()"
   ]
  },
  {
   "cell_type": "code",
   "execution_count": 46,
   "id": "d9854fce",
   "metadata": {
    "execution": {
     "iopub.execute_input": "2024-10-16T12:37:58.724309Z",
     "iopub.status.busy": "2024-10-16T12:37:58.723893Z",
     "iopub.status.idle": "2024-10-16T12:37:58.731053Z",
     "shell.execute_reply": "2024-10-16T12:37:58.730004Z"
    },
    "papermill": {
     "duration": 0.042337,
     "end_time": "2024-10-16T12:37:58.733195",
     "exception": false,
     "start_time": "2024-10-16T12:37:58.690858",
     "status": "completed"
    },
    "tags": []
   },
   "outputs": [
    {
     "data": {
      "text/plain": [
       "Index(['PassengerId', 'Survived', 'Pclass', 'Sex', 'Embarked', 'dataset_type', 'Fare_bin', 'Age_bin', 'Title', 'FamilySizeCategory'], dtype='object')"
      ]
     },
     "execution_count": 46,
     "metadata": {},
     "output_type": "execute_result"
    }
   ],
   "source": [
    "df.columns"
   ]
  },
  {
   "cell_type": "code",
   "execution_count": 47,
   "id": "f1eafb23",
   "metadata": {
    "execution": {
     "iopub.execute_input": "2024-10-16T12:37:58.799098Z",
     "iopub.status.busy": "2024-10-16T12:37:58.798266Z",
     "iopub.status.idle": "2024-10-16T12:37:58.990631Z",
     "shell.execute_reply": "2024-10-16T12:37:58.989474Z"
    },
    "papermill": {
     "duration": 0.228118,
     "end_time": "2024-10-16T12:37:58.993080",
     "exception": false,
     "start_time": "2024-10-16T12:37:58.764962",
     "status": "completed"
    },
    "tags": []
   },
   "outputs": [
    {
     "data": {
      "text/html": [
       "<div>\n",
       "<style scoped>\n",
       "    .dataframe tbody tr th:only-of-type {\n",
       "        vertical-align: middle;\n",
       "    }\n",
       "\n",
       "    .dataframe tbody tr th {\n",
       "        vertical-align: top;\n",
       "    }\n",
       "\n",
       "    .dataframe thead th {\n",
       "        text-align: right;\n",
       "    }\n",
       "</style>\n",
       "<table border=\"1\" class=\"dataframe\">\n",
       "  <thead>\n",
       "    <tr style=\"text-align: right;\">\n",
       "      <th></th>\n",
       "      <th>PassengerId</th>\n",
       "      <th>Survived</th>\n",
       "      <th>Pclass</th>\n",
       "      <th>Sex</th>\n",
       "      <th>Embarked</th>\n",
       "      <th>dataset_type</th>\n",
       "      <th>Fare_bin</th>\n",
       "      <th>Age_bin</th>\n",
       "      <th>Title</th>\n",
       "      <th>FamilySizeCategory</th>\n",
       "    </tr>\n",
       "  </thead>\n",
       "  <tbody>\n",
       "    <tr>\n",
       "      <th>0</th>\n",
       "      <td>1</td>\n",
       "      <td>0.0</td>\n",
       "      <td>3</td>\n",
       "      <td>1</td>\n",
       "      <td>2</td>\n",
       "      <td>train</td>\n",
       "      <td>4</td>\n",
       "      <td>4</td>\n",
       "      <td>2</td>\n",
       "      <td>3</td>\n",
       "    </tr>\n",
       "    <tr>\n",
       "      <th>1</th>\n",
       "      <td>2</td>\n",
       "      <td>1.0</td>\n",
       "      <td>1</td>\n",
       "      <td>0</td>\n",
       "      <td>0</td>\n",
       "      <td>train</td>\n",
       "      <td>0</td>\n",
       "      <td>0</td>\n",
       "      <td>3</td>\n",
       "      <td>3</td>\n",
       "    </tr>\n",
       "    <tr>\n",
       "      <th>2</th>\n",
       "      <td>3</td>\n",
       "      <td>1.0</td>\n",
       "      <td>3</td>\n",
       "      <td>0</td>\n",
       "      <td>2</td>\n",
       "      <td>train</td>\n",
       "      <td>1</td>\n",
       "      <td>4</td>\n",
       "      <td>1</td>\n",
       "      <td>2</td>\n",
       "    </tr>\n",
       "    <tr>\n",
       "      <th>3</th>\n",
       "      <td>4</td>\n",
       "      <td>1.0</td>\n",
       "      <td>1</td>\n",
       "      <td>0</td>\n",
       "      <td>2</td>\n",
       "      <td>train</td>\n",
       "      <td>0</td>\n",
       "      <td>0</td>\n",
       "      <td>3</td>\n",
       "      <td>3</td>\n",
       "    </tr>\n",
       "    <tr>\n",
       "      <th>4</th>\n",
       "      <td>5</td>\n",
       "      <td>0.0</td>\n",
       "      <td>3</td>\n",
       "      <td>1</td>\n",
       "      <td>2</td>\n",
       "      <td>train</td>\n",
       "      <td>1</td>\n",
       "      <td>0</td>\n",
       "      <td>2</td>\n",
       "      <td>2</td>\n",
       "    </tr>\n",
       "  </tbody>\n",
       "</table>\n",
       "</div>"
      ],
      "text/plain": [
       "   PassengerId  Survived  Pclass  Sex  Embarked dataset_type  Fare_bin  Age_bin  Title  FamilySizeCategory\n",
       "0            1       0.0       3    1         2        train         4        4      2                   3\n",
       "1            2       1.0       1    0         0        train         0        0      3                   3\n",
       "2            3       1.0       3    0         2        train         1        4      1                   2\n",
       "3            4       1.0       1    0         2        train         0        0      3                   3\n",
       "4            5       0.0       3    1         2        train         1        0      2                   2"
      ]
     },
     "execution_count": 47,
     "metadata": {},
     "output_type": "execute_result"
    }
   ],
   "source": [
    "columns=['Sex', 'Embarked', 'Fare_bin', 'Age_bin', 'Title', 'FamilySizeCategory']\n",
    "\n",
    "from sklearn.preprocessing import LabelEncoder\n",
    "\n",
    "label_encoder=LabelEncoder()\n",
    "\n",
    "\n",
    "for column in columns:\n",
    "    df[column]= label_encoder.fit_transform(df[column])\n",
    "\n",
    "df.head()\n",
    "\n"
   ]
  },
  {
   "cell_type": "markdown",
   "id": "c5b752d9",
   "metadata": {
    "papermill": {
     "duration": 0.031206,
     "end_time": "2024-10-16T12:37:59.056037",
     "exception": false,
     "start_time": "2024-10-16T12:37:59.024831",
     "status": "completed"
    },
    "tags": []
   },
   "source": [
    "<h3>Now split data into train and test so that we can built model on train datasets</h3>"
   ]
  },
  {
   "cell_type": "code",
   "execution_count": 48,
   "id": "f032faf3",
   "metadata": {
    "execution": {
     "iopub.execute_input": "2024-10-16T12:37:59.122788Z",
     "iopub.status.busy": "2024-10-16T12:37:59.121719Z",
     "iopub.status.idle": "2024-10-16T12:37:59.129361Z",
     "shell.execute_reply": "2024-10-16T12:37:59.128384Z"
    },
    "papermill": {
     "duration": 0.04296,
     "end_time": "2024-10-16T12:37:59.131454",
     "exception": false,
     "start_time": "2024-10-16T12:37:59.088494",
     "status": "completed"
    },
    "tags": []
   },
   "outputs": [],
   "source": [
    "clean_train_df=df[df['dataset_type']=='train']\n",
    "clean_test_df=df[df['dataset_type']=='test']\n"
   ]
  },
  {
   "cell_type": "code",
   "execution_count": 49,
   "id": "ca9927b9",
   "metadata": {
    "execution": {
     "iopub.execute_input": "2024-10-16T12:37:59.197516Z",
     "iopub.status.busy": "2024-10-16T12:37:59.196534Z",
     "iopub.status.idle": "2024-10-16T12:37:59.202633Z",
     "shell.execute_reply": "2024-10-16T12:37:59.201582Z"
    },
    "papermill": {
     "duration": 0.041576,
     "end_time": "2024-10-16T12:37:59.205043",
     "exception": false,
     "start_time": "2024-10-16T12:37:59.163467",
     "status": "completed"
    },
    "tags": []
   },
   "outputs": [
    {
     "name": "stdout",
     "output_type": "stream",
     "text": [
      "Clean Train Dataset Shape (891, 10)\n",
      "------------------------------------\n",
      "Clean Test Dataset Shape (418, 10)\n"
     ]
    }
   ],
   "source": [
    "print('Clean Train Dataset Shape',clean_train_df.shape)\n",
    "print('------------------------------------')\n",
    "print('Clean Test Dataset Shape',clean_test_df.shape)"
   ]
  },
  {
   "cell_type": "code",
   "execution_count": 50,
   "id": "d5946065",
   "metadata": {
    "execution": {
     "iopub.execute_input": "2024-10-16T12:37:59.271536Z",
     "iopub.status.busy": "2024-10-16T12:37:59.270595Z",
     "iopub.status.idle": "2024-10-16T12:38:00.071501Z",
     "shell.execute_reply": "2024-10-16T12:38:00.070139Z"
    },
    "papermill": {
     "duration": 0.836958,
     "end_time": "2024-10-16T12:38:00.074316",
     "exception": false,
     "start_time": "2024-10-16T12:37:59.237358",
     "status": "completed"
    },
    "tags": []
   },
   "outputs": [],
   "source": [
    "from sklearn.linear_model import LogisticRegression  \n",
    "from sklearn.neighbors import KNeighborsClassifier  \n",
    "from sklearn.svm import SVC\n",
    "from sklearn.naive_bayes import GaussianNB\n",
    "from sklearn.tree import DecisionTreeClassifier  \n",
    "from sklearn.ensemble import RandomForestClassifier  \n",
    "from xgboost import XGBClassifier\n",
    "from sklearn.ensemble import GradientBoostingClassifier\n",
    "from sklearn.metrics import accuracy_score, classification_report\n"
   ]
  },
  {
   "cell_type": "code",
   "execution_count": 51,
   "id": "7c3dbe73",
   "metadata": {
    "execution": {
     "iopub.execute_input": "2024-10-16T12:38:00.140984Z",
     "iopub.status.busy": "2024-10-16T12:38:00.140481Z",
     "iopub.status.idle": "2024-10-16T12:38:00.151902Z",
     "shell.execute_reply": "2024-10-16T12:38:00.150973Z"
    },
    "papermill": {
     "duration": 0.047363,
     "end_time": "2024-10-16T12:38:00.154245",
     "exception": false,
     "start_time": "2024-10-16T12:38:00.106882",
     "status": "completed"
    },
    "tags": []
   },
   "outputs": [],
   "source": [
    "\n",
    "x=clean_train_df[['Pclass','Sex','Embarked','Fare_bin','Age_bin','Title','FamilySizeCategory']]\n",
    "y=clean_train_df['Survived']\n",
    "\n",
    "from sklearn.model_selection import train_test_split,GridSearchCV\n",
    "x_train, x_test, y_train, y_test = train_test_split(x, y, test_size=0.33, random_state=42)"
   ]
  },
  {
   "cell_type": "code",
   "execution_count": 52,
   "id": "ffca0a06",
   "metadata": {
    "execution": {
     "iopub.execute_input": "2024-10-16T12:38:00.219826Z",
     "iopub.status.busy": "2024-10-16T12:38:00.219252Z",
     "iopub.status.idle": "2024-10-16T12:38:00.226469Z",
     "shell.execute_reply": "2024-10-16T12:38:00.225359Z"
    },
    "papermill": {
     "duration": 0.042447,
     "end_time": "2024-10-16T12:38:00.228601",
     "exception": false,
     "start_time": "2024-10-16T12:38:00.186154",
     "status": "completed"
    },
    "tags": []
   },
   "outputs": [],
   "source": [
    "def train_model(model, model_name):\n",
    "    print(f'Model: {model_name}')\n",
    "    \n",
    "    # Fit the model on the training data\n",
    "    model.fit(x_train, y_train)\n",
    "    \n",
    "    # Predictions on the training data\n",
    "    y_train_pred = model.predict(x_train)\n",
    "    # Predictions on the testing data\n",
    "    y_test_pred = model.predict(x_test)\n",
    "    \n",
    "    # Calculate accuracy scores\n",
    "    train_accuracy = accuracy_score(y_train, y_train_pred)\n",
    "    test_accuracy = accuracy_score(y_test, y_test_pred)\n",
    "    \n",
    "    print(f'Training Accuracy Score: {train_accuracy:.2f}')\n",
    "    print(f'Testing Accuracy Score: {test_accuracy:.2f}')\n",
    "    \n",
    "    # Generate classification report for testing data\n",
    "    report = classification_report(y_test, y_test_pred)\n",
    "    print('Classification Report:')\n",
    "    print(report)\n",
    "    \n",
    "    return model\n"
   ]
  },
  {
   "cell_type": "code",
   "execution_count": 53,
   "id": "49fff4f1",
   "metadata": {
    "execution": {
     "iopub.execute_input": "2024-10-16T12:38:00.294384Z",
     "iopub.status.busy": "2024-10-16T12:38:00.293983Z",
     "iopub.status.idle": "2024-10-16T12:38:00.777668Z",
     "shell.execute_reply": "2024-10-16T12:38:00.776283Z"
    },
    "papermill": {
     "duration": 0.519741,
     "end_time": "2024-10-16T12:38:00.780235",
     "exception": false,
     "start_time": "2024-10-16T12:38:00.260494",
     "status": "completed"
    },
    "tags": []
   },
   "outputs": [
    {
     "name": "stdout",
     "output_type": "stream",
     "text": [
      "******************************\n",
      "Model: knn\n",
      "Training Accuracy Score: 0.86\n",
      "Testing Accuracy Score: 0.78\n",
      "Classification Report:\n",
      "              precision    recall  f1-score   support\n",
      "\n",
      "         0.0       0.79      0.86      0.82       175\n",
      "         1.0       0.76      0.66      0.71       120\n",
      "\n",
      "    accuracy                           0.78       295\n",
      "   macro avg       0.77      0.76      0.76       295\n",
      "weighted avg       0.77      0.78      0.77       295\n",
      "\n",
      "******************************\n",
      "Model: svc\n",
      "Training Accuracy Score: 0.78\n",
      "Testing Accuracy Score: 0.80\n",
      "Classification Report:\n",
      "              precision    recall  f1-score   support\n",
      "\n",
      "         0.0       0.81      0.86      0.83       175\n",
      "         1.0       0.78      0.70      0.74       120\n",
      "\n",
      "    accuracy                           0.80       295\n",
      "   macro avg       0.79      0.78      0.79       295\n",
      "weighted avg       0.80      0.80      0.79       295\n",
      "\n",
      "******************************\n",
      "Model: logistic\n",
      "Training Accuracy Score: 0.79\n",
      "Testing Accuracy Score: 0.79\n",
      "Classification Report:\n",
      "              precision    recall  f1-score   support\n",
      "\n",
      "         0.0       0.81      0.83      0.82       175\n",
      "         1.0       0.75      0.72      0.73       120\n",
      "\n",
      "    accuracy                           0.79       295\n",
      "   macro avg       0.78      0.78      0.78       295\n",
      "weighted avg       0.79      0.79      0.79       295\n",
      "\n",
      "******************************\n",
      "Model: naive\n",
      "Training Accuracy Score: 0.78\n",
      "Testing Accuracy Score: 0.79\n",
      "Classification Report:\n",
      "              precision    recall  f1-score   support\n",
      "\n",
      "         0.0       0.87      0.76      0.81       175\n",
      "         1.0       0.70      0.83      0.76       120\n",
      "\n",
      "    accuracy                           0.79       295\n",
      "   macro avg       0.79      0.80      0.79       295\n",
      "weighted avg       0.80      0.79      0.79       295\n",
      "\n",
      "******************************\n",
      "Model: tree\n",
      "Training Accuracy Score: 0.90\n",
      "Testing Accuracy Score: 0.78\n",
      "Classification Report:\n",
      "              precision    recall  f1-score   support\n",
      "\n",
      "         0.0       0.78      0.88      0.83       175\n",
      "         1.0       0.78      0.63      0.70       120\n",
      "\n",
      "    accuracy                           0.78       295\n",
      "   macro avg       0.78      0.76      0.76       295\n",
      "weighted avg       0.78      0.78      0.77       295\n",
      "\n",
      "******************************\n",
      "Model: forest\n",
      "Training Accuracy Score: 0.90\n",
      "Testing Accuracy Score: 0.79\n",
      "Classification Report:\n",
      "              precision    recall  f1-score   support\n",
      "\n",
      "         0.0       0.79      0.90      0.84       175\n",
      "         1.0       0.81      0.64      0.72       120\n",
      "\n",
      "    accuracy                           0.79       295\n",
      "   macro avg       0.80      0.77      0.78       295\n",
      "weighted avg       0.80      0.79      0.79       295\n",
      "\n",
      "******************************\n",
      "Model: xgboost\n",
      "Training Accuracy Score: 0.90\n",
      "Testing Accuracy Score: 0.81\n",
      "Classification Report:\n",
      "              precision    recall  f1-score   support\n",
      "\n",
      "         0.0       0.80      0.90      0.85       175\n",
      "         1.0       0.82      0.68      0.74       120\n",
      "\n",
      "    accuracy                           0.81       295\n",
      "   macro avg       0.81      0.79      0.79       295\n",
      "weighted avg       0.81      0.81      0.80       295\n",
      "\n",
      "******************************\n",
      "Model: gradientboost\n",
      "Training Accuracy Score: 0.83\n",
      "Testing Accuracy Score: 0.84\n",
      "Classification Report:\n",
      "              precision    recall  f1-score   support\n",
      "\n",
      "         0.0       0.85      0.89      0.87       175\n",
      "         1.0       0.83      0.77      0.80       120\n",
      "\n",
      "    accuracy                           0.84       295\n",
      "   macro avg       0.84      0.83      0.83       295\n",
      "weighted avg       0.84      0.84      0.84       295\n",
      "\n"
     ]
    }
   ],
   "source": [
    "model_list = dict(\n",
    "    knn=KNeighborsClassifier(n_neighbors=3, metric='minkowski', p=2),\n",
    "    svc=SVC(kernel='linear', random_state=0),\n",
    "    logistic=LogisticRegression(),\n",
    "    naive=GaussianNB(),\n",
    "    tree=DecisionTreeClassifier(criterion='entropy', random_state=0),\n",
    "    forest=RandomForestClassifier(n_estimators=50, criterion=\"entropy\"),\n",
    "    xgboost=XGBClassifier(),\n",
    "    gradientboost=GradientBoostingClassifier(n_estimators=100, learning_rate=1.0, max_depth=1, random_state=1)\n",
    ")\n",
    "for key, value in model_list.items():\n",
    "    print('*'*30)\n",
    "    train_model(value,key)"
   ]
  },
  {
   "cell_type": "markdown",
   "id": "2de0ead3",
   "metadata": {
    "papermill": {
     "duration": 0.031991,
     "end_time": "2024-10-16T12:38:00.844664",
     "exception": false,
     "start_time": "2024-10-16T12:38:00.812673",
     "status": "completed"
    },
    "tags": []
   },
   "source": [
    "<h3>Applying Hyperparameter Tuning with GridSearchCV for Model Optimization</h3>"
   ]
  },
  {
   "cell_type": "code",
   "execution_count": 54,
   "id": "0401551e",
   "metadata": {
    "execution": {
     "iopub.execute_input": "2024-10-16T12:38:00.911710Z",
     "iopub.status.busy": "2024-10-16T12:38:00.911265Z",
     "iopub.status.idle": "2024-10-16T12:38:39.952490Z",
     "shell.execute_reply": "2024-10-16T12:38:39.951500Z"
    },
    "papermill": {
     "duration": 39.110226,
     "end_time": "2024-10-16T12:38:39.987258",
     "exception": false,
     "start_time": "2024-10-16T12:38:00.877032",
     "status": "completed"
    },
    "tags": []
   },
   "outputs": [
    {
     "name": "stdout",
     "output_type": "stream",
     "text": [
      "Best Parameters: {'colsample_bytree': 0.8, 'learning_rate': 0.05, 'max_depth': 3, 'n_estimators': 100, 'subsample': 1.0}\n",
      "Best Cross-Validation Score: 0.82890756302521\n",
      "Test Set Accuracy: 0.823728813559322\n"
     ]
    }
   ],
   "source": [
    "# Define the model\n",
    "model = XGBClassifier(random_state=42)\n",
    "\n",
    "# Set up the parameter grid\n",
    "param_grid = {\n",
    "    'max_depth': [3, 5, 7, 9, 11],\n",
    "    'learning_rate': [0.01, 0.05, 0.1, 0.2],\n",
    "    'n_estimators': [50, 100, 150, 200],\n",
    "    'subsample': [0.8, 1.0],\n",
    "    'colsample_bytree': [0.8, 1.0]\n",
    "}\n",
    "\n",
    "# Set up the grid search\n",
    "grid_search = GridSearchCV(estimator=model, param_grid=param_grid, \n",
    "                           scoring='accuracy', cv=5, verbose=0, n_jobs=-1)\n",
    "\n",
    "# Fit the model\n",
    "grid_search.fit(x_train, y_train)\n",
    "\n",
    "# Get the best parameters and best score\n",
    "best_params = grid_search.best_params_\n",
    "best_score = grid_search.best_score_\n",
    "\n",
    "# Print the results\n",
    "print(\"Best Parameters:\", best_params)\n",
    "print(\"Best Cross-Validation Score:\", best_score)\n",
    "\n",
    "# Optionally, evaluate on the test set\n",
    "best_model = grid_search.best_estimator_\n",
    "y_pred = best_model.predict(x_test)\n",
    "test_accuracy = accuracy_score(y_test, y_pred)\n",
    "print(\"Test Set Accuracy:\", test_accuracy)"
   ]
  },
  {
   "cell_type": "code",
   "execution_count": 55,
   "id": "d31be1b1",
   "metadata": {
    "execution": {
     "iopub.execute_input": "2024-10-16T12:38:40.054107Z",
     "iopub.status.busy": "2024-10-16T12:38:40.053182Z",
     "iopub.status.idle": "2024-10-16T12:38:40.143699Z",
     "shell.execute_reply": "2024-10-16T12:38:40.142542Z"
    },
    "papermill": {
     "duration": 0.126887,
     "end_time": "2024-10-16T12:38:40.146036",
     "exception": false,
     "start_time": "2024-10-16T12:38:40.019149",
     "status": "completed"
    },
    "tags": []
   },
   "outputs": [
    {
     "name": "stdout",
     "output_type": "stream",
     "text": [
      "Model: XGBOOST\n",
      "Training Accuracy Score: 0.85\n",
      "Testing Accuracy Score: 0.83\n",
      "Classification Report:\n",
      "              precision    recall  f1-score   support\n",
      "\n",
      "         0.0       0.82      0.91      0.86       175\n",
      "         1.0       0.85      0.70      0.77       120\n",
      "\n",
      "    accuracy                           0.83       295\n",
      "   macro avg       0.83      0.81      0.81       295\n",
      "weighted avg       0.83      0.83      0.82       295\n",
      "\n"
     ]
    },
    {
     "data": {
      "text/html": [
       "<style>#sk-container-id-1 {color: black;background-color: white;}#sk-container-id-1 pre{padding: 0;}#sk-container-id-1 div.sk-toggleable {background-color: white;}#sk-container-id-1 label.sk-toggleable__label {cursor: pointer;display: block;width: 100%;margin-bottom: 0;padding: 0.3em;box-sizing: border-box;text-align: center;}#sk-container-id-1 label.sk-toggleable__label-arrow:before {content: \"▸\";float: left;margin-right: 0.25em;color: #696969;}#sk-container-id-1 label.sk-toggleable__label-arrow:hover:before {color: black;}#sk-container-id-1 div.sk-estimator:hover label.sk-toggleable__label-arrow:before {color: black;}#sk-container-id-1 div.sk-toggleable__content {max-height: 0;max-width: 0;overflow: hidden;text-align: left;background-color: #f0f8ff;}#sk-container-id-1 div.sk-toggleable__content pre {margin: 0.2em;color: black;border-radius: 0.25em;background-color: #f0f8ff;}#sk-container-id-1 input.sk-toggleable__control:checked~div.sk-toggleable__content {max-height: 200px;max-width: 100%;overflow: auto;}#sk-container-id-1 input.sk-toggleable__control:checked~label.sk-toggleable__label-arrow:before {content: \"▾\";}#sk-container-id-1 div.sk-estimator input.sk-toggleable__control:checked~label.sk-toggleable__label {background-color: #d4ebff;}#sk-container-id-1 div.sk-label input.sk-toggleable__control:checked~label.sk-toggleable__label {background-color: #d4ebff;}#sk-container-id-1 input.sk-hidden--visually {border: 0;clip: rect(1px 1px 1px 1px);clip: rect(1px, 1px, 1px, 1px);height: 1px;margin: -1px;overflow: hidden;padding: 0;position: absolute;width: 1px;}#sk-container-id-1 div.sk-estimator {font-family: monospace;background-color: #f0f8ff;border: 1px dotted black;border-radius: 0.25em;box-sizing: border-box;margin-bottom: 0.5em;}#sk-container-id-1 div.sk-estimator:hover {background-color: #d4ebff;}#sk-container-id-1 div.sk-parallel-item::after {content: \"\";width: 100%;border-bottom: 1px solid gray;flex-grow: 1;}#sk-container-id-1 div.sk-label:hover label.sk-toggleable__label {background-color: #d4ebff;}#sk-container-id-1 div.sk-serial::before {content: \"\";position: absolute;border-left: 1px solid gray;box-sizing: border-box;top: 0;bottom: 0;left: 50%;z-index: 0;}#sk-container-id-1 div.sk-serial {display: flex;flex-direction: column;align-items: center;background-color: white;padding-right: 0.2em;padding-left: 0.2em;position: relative;}#sk-container-id-1 div.sk-item {position: relative;z-index: 1;}#sk-container-id-1 div.sk-parallel {display: flex;align-items: stretch;justify-content: center;background-color: white;position: relative;}#sk-container-id-1 div.sk-item::before, #sk-container-id-1 div.sk-parallel-item::before {content: \"\";position: absolute;border-left: 1px solid gray;box-sizing: border-box;top: 0;bottom: 0;left: 50%;z-index: -1;}#sk-container-id-1 div.sk-parallel-item {display: flex;flex-direction: column;z-index: 1;position: relative;background-color: white;}#sk-container-id-1 div.sk-parallel-item:first-child::after {align-self: flex-end;width: 50%;}#sk-container-id-1 div.sk-parallel-item:last-child::after {align-self: flex-start;width: 50%;}#sk-container-id-1 div.sk-parallel-item:only-child::after {width: 0;}#sk-container-id-1 div.sk-dashed-wrapped {border: 1px dashed gray;margin: 0 0.4em 0.5em 0.4em;box-sizing: border-box;padding-bottom: 0.4em;background-color: white;}#sk-container-id-1 div.sk-label label {font-family: monospace;font-weight: bold;display: inline-block;line-height: 1.2em;}#sk-container-id-1 div.sk-label-container {text-align: center;}#sk-container-id-1 div.sk-container {/* jupyter's `normalize.less` sets `[hidden] { display: none; }` but bootstrap.min.css set `[hidden] { display: none !important; }` so we also need the `!important` here to be able to override the default hidden behavior on the sphinx rendered scikit-learn.org. See: https://github.com/scikit-learn/scikit-learn/issues/21755 */display: inline-block !important;position: relative;}#sk-container-id-1 div.sk-text-repr-fallback {display: none;}</style><div id=\"sk-container-id-1\" class=\"sk-top-container\"><div class=\"sk-text-repr-fallback\"><pre>XGBClassifier(base_score=None, booster=None, callbacks=None,\n",
       "              colsample_bylevel=None, colsample_bynode=None,\n",
       "              colsample_bytree=1.0, device=None, early_stopping_rounds=None,\n",
       "              enable_categorical=False, eval_metric=&#x27;mlogloss&#x27;,\n",
       "              feature_types=None, gamma=None, grow_policy=None,\n",
       "              importance_type=None, interaction_constraints=None,\n",
       "              learning_rate=0.01, max_bin=None, max_cat_threshold=None,\n",
       "              max_cat_to_onehot=None, max_delta_step=None, max_depth=7,\n",
       "              max_leaves=None, min_child_weight=None, missing=nan,\n",
       "              monotone_constraints=None, multi_strategy=None, n_estimators=100,\n",
       "              n_jobs=None, num_parallel_tree=None, random_state=None, ...)</pre><b>In a Jupyter environment, please rerun this cell to show the HTML representation or trust the notebook. <br />On GitHub, the HTML representation is unable to render, please try loading this page with nbviewer.org.</b></div><div class=\"sk-container\" hidden><div class=\"sk-item\"><div class=\"sk-estimator sk-toggleable\"><input class=\"sk-toggleable__control sk-hidden--visually\" id=\"sk-estimator-id-1\" type=\"checkbox\" checked><label for=\"sk-estimator-id-1\" class=\"sk-toggleable__label sk-toggleable__label-arrow\">XGBClassifier</label><div class=\"sk-toggleable__content\"><pre>XGBClassifier(base_score=None, booster=None, callbacks=None,\n",
       "              colsample_bylevel=None, colsample_bynode=None,\n",
       "              colsample_bytree=1.0, device=None, early_stopping_rounds=None,\n",
       "              enable_categorical=False, eval_metric=&#x27;mlogloss&#x27;,\n",
       "              feature_types=None, gamma=None, grow_policy=None,\n",
       "              importance_type=None, interaction_constraints=None,\n",
       "              learning_rate=0.01, max_bin=None, max_cat_threshold=None,\n",
       "              max_cat_to_onehot=None, max_delta_step=None, max_depth=7,\n",
       "              max_leaves=None, min_child_weight=None, missing=nan,\n",
       "              monotone_constraints=None, multi_strategy=None, n_estimators=100,\n",
       "              n_jobs=None, num_parallel_tree=None, random_state=None, ...)</pre></div></div></div></div></div>"
      ],
      "text/plain": [
       "XGBClassifier(base_score=None, booster=None, callbacks=None,\n",
       "              colsample_bylevel=None, colsample_bynode=None,\n",
       "              colsample_bytree=1.0, device=None, early_stopping_rounds=None,\n",
       "              enable_categorical=False, eval_metric='mlogloss',\n",
       "              feature_types=None, gamma=None, grow_policy=None,\n",
       "              importance_type=None, interaction_constraints=None,\n",
       "              learning_rate=0.01, max_bin=None, max_cat_threshold=None,\n",
       "              max_cat_to_onehot=None, max_delta_step=None, max_depth=7,\n",
       "              max_leaves=None, min_child_weight=None, missing=nan,\n",
       "              monotone_constraints=None, multi_strategy=None, n_estimators=100,\n",
       "              n_jobs=None, num_parallel_tree=None, random_state=None, ...)"
      ]
     },
     "execution_count": 55,
     "metadata": {},
     "output_type": "execute_result"
    }
   ],
   "source": [
    "model=XGBClassifier(\n",
    "    colsample_bytree=1.0,\n",
    "    learning_rate=0.01,\n",
    "    max_depth=7,\n",
    "    n_estimators=100,\n",
    "    subsample=1.0,\n",
    "    use_label_encoder=False,  # Optional, based on your XGBoost version\n",
    "    eval_metric='mlogloss'    # Optional, based on your needs\n",
    ")\n",
    "\n",
    "train_model(model,'XGBOOST')"
   ]
  },
  {
   "cell_type": "markdown",
   "id": "65e4e93c",
   "metadata": {
    "papermill": {
     "duration": 0.032395,
     "end_time": "2024-10-16T12:38:40.210902",
     "exception": false,
     "start_time": "2024-10-16T12:38:40.178507",
     "status": "completed"
    },
    "tags": []
   },
   "source": [
    "<h3>We will use the XGBoost model to predict the output, achieving an accuracy of 83%</h3>"
   ]
  },
  {
   "cell_type": "code",
   "execution_count": 56,
   "id": "5cfa40ce",
   "metadata": {
    "execution": {
     "iopub.execute_input": "2024-10-16T12:38:40.278805Z",
     "iopub.status.busy": "2024-10-16T12:38:40.277921Z",
     "iopub.status.idle": "2024-10-16T12:38:40.292292Z",
     "shell.execute_reply": "2024-10-16T12:38:40.291285Z"
    },
    "papermill": {
     "duration": 0.05056,
     "end_time": "2024-10-16T12:38:40.294315",
     "exception": false,
     "start_time": "2024-10-16T12:38:40.243755",
     "status": "completed"
    },
    "tags": []
   },
   "outputs": [
    {
     "data": {
      "text/html": [
       "<div>\n",
       "<style scoped>\n",
       "    .dataframe tbody tr th:only-of-type {\n",
       "        vertical-align: middle;\n",
       "    }\n",
       "\n",
       "    .dataframe tbody tr th {\n",
       "        vertical-align: top;\n",
       "    }\n",
       "\n",
       "    .dataframe thead th {\n",
       "        text-align: right;\n",
       "    }\n",
       "</style>\n",
       "<table border=\"1\" class=\"dataframe\">\n",
       "  <thead>\n",
       "    <tr style=\"text-align: right;\">\n",
       "      <th></th>\n",
       "      <th>PassengerId</th>\n",
       "      <th>Survived</th>\n",
       "      <th>Pclass</th>\n",
       "      <th>Sex</th>\n",
       "      <th>Embarked</th>\n",
       "      <th>dataset_type</th>\n",
       "      <th>Fare_bin</th>\n",
       "      <th>Age_bin</th>\n",
       "      <th>Title</th>\n",
       "      <th>FamilySizeCategory</th>\n",
       "    </tr>\n",
       "  </thead>\n",
       "  <tbody>\n",
       "    <tr>\n",
       "      <th>0</th>\n",
       "      <td>892</td>\n",
       "      <td>NaN</td>\n",
       "      <td>3</td>\n",
       "      <td>1</td>\n",
       "      <td>1</td>\n",
       "      <td>test</td>\n",
       "      <td>4</td>\n",
       "      <td>0</td>\n",
       "      <td>2</td>\n",
       "      <td>2</td>\n",
       "    </tr>\n",
       "    <tr>\n",
       "      <th>1</th>\n",
       "      <td>893</td>\n",
       "      <td>NaN</td>\n",
       "      <td>3</td>\n",
       "      <td>0</td>\n",
       "      <td>2</td>\n",
       "      <td>test</td>\n",
       "      <td>4</td>\n",
       "      <td>2</td>\n",
       "      <td>3</td>\n",
       "      <td>3</td>\n",
       "    </tr>\n",
       "    <tr>\n",
       "      <th>2</th>\n",
       "      <td>894</td>\n",
       "      <td>NaN</td>\n",
       "      <td>2</td>\n",
       "      <td>1</td>\n",
       "      <td>1</td>\n",
       "      <td>test</td>\n",
       "      <td>1</td>\n",
       "      <td>2</td>\n",
       "      <td>2</td>\n",
       "      <td>2</td>\n",
       "    </tr>\n",
       "    <tr>\n",
       "      <th>3</th>\n",
       "      <td>895</td>\n",
       "      <td>NaN</td>\n",
       "      <td>3</td>\n",
       "      <td>1</td>\n",
       "      <td>2</td>\n",
       "      <td>test</td>\n",
       "      <td>1</td>\n",
       "      <td>4</td>\n",
       "      <td>2</td>\n",
       "      <td>2</td>\n",
       "    </tr>\n",
       "    <tr>\n",
       "      <th>4</th>\n",
       "      <td>896</td>\n",
       "      <td>NaN</td>\n",
       "      <td>3</td>\n",
       "      <td>0</td>\n",
       "      <td>2</td>\n",
       "      <td>test</td>\n",
       "      <td>1</td>\n",
       "      <td>4</td>\n",
       "      <td>3</td>\n",
       "      <td>3</td>\n",
       "    </tr>\n",
       "  </tbody>\n",
       "</table>\n",
       "</div>"
      ],
      "text/plain": [
       "   PassengerId  Survived  Pclass  Sex  Embarked dataset_type  Fare_bin  Age_bin  Title  FamilySizeCategory\n",
       "0          892       NaN       3    1         1         test         4        0      2                   2\n",
       "1          893       NaN       3    0         2         test         4        2      3                   3\n",
       "2          894       NaN       2    1         1         test         1        2      2                   2\n",
       "3          895       NaN       3    1         2         test         1        4      2                   2\n",
       "4          896       NaN       3    0         2         test         1        4      3                   3"
      ]
     },
     "execution_count": 56,
     "metadata": {},
     "output_type": "execute_result"
    }
   ],
   "source": [
    "clean_test_df.head()"
   ]
  },
  {
   "cell_type": "code",
   "execution_count": 57,
   "id": "658a40aa",
   "metadata": {
    "execution": {
     "iopub.execute_input": "2024-10-16T12:38:40.361315Z",
     "iopub.status.busy": "2024-10-16T12:38:40.360919Z",
     "iopub.status.idle": "2024-10-16T12:38:40.367806Z",
     "shell.execute_reply": "2024-10-16T12:38:40.366678Z"
    },
    "papermill": {
     "duration": 0.043284,
     "end_time": "2024-10-16T12:38:40.370086",
     "exception": false,
     "start_time": "2024-10-16T12:38:40.326802",
     "status": "completed"
    },
    "tags": []
   },
   "outputs": [
    {
     "data": {
      "text/plain": [
       "(418, 10)"
      ]
     },
     "execution_count": 57,
     "metadata": {},
     "output_type": "execute_result"
    }
   ],
   "source": [
    "clean_test_df.shape"
   ]
  },
  {
   "cell_type": "code",
   "execution_count": 58,
   "id": "a98efaa9",
   "metadata": {
    "execution": {
     "iopub.execute_input": "2024-10-16T12:38:40.438259Z",
     "iopub.status.busy": "2024-10-16T12:38:40.437816Z",
     "iopub.status.idle": "2024-10-16T12:38:40.444497Z",
     "shell.execute_reply": "2024-10-16T12:38:40.443438Z"
    },
    "papermill": {
     "duration": 0.043642,
     "end_time": "2024-10-16T12:38:40.446685",
     "exception": false,
     "start_time": "2024-10-16T12:38:40.403043",
     "status": "completed"
    },
    "tags": []
   },
   "outputs": [],
   "source": [
    "X_test=clean_test_df[['Pclass','Sex','Embarked','Fare_bin','Age_bin','Title','FamilySizeCategory']]\n"
   ]
  },
  {
   "cell_type": "code",
   "execution_count": 59,
   "id": "d0cb6c83",
   "metadata": {
    "execution": {
     "iopub.execute_input": "2024-10-16T12:38:40.514624Z",
     "iopub.status.busy": "2024-10-16T12:38:40.513779Z",
     "iopub.status.idle": "2024-10-16T12:38:40.527605Z",
     "shell.execute_reply": "2024-10-16T12:38:40.526594Z"
    },
    "papermill": {
     "duration": 0.050487,
     "end_time": "2024-10-16T12:38:40.529774",
     "exception": false,
     "start_time": "2024-10-16T12:38:40.479287",
     "status": "completed"
    },
    "tags": []
   },
   "outputs": [],
   "source": [
    "submission_df = pd.DataFrame({\n",
    "    'PassengerId': clean_test_df['PassengerId'],  \n",
    "    'Survived': model.predict(X_test) \n",
    "})"
   ]
  },
  {
   "cell_type": "code",
   "execution_count": 60,
   "id": "3087ba61",
   "metadata": {
    "execution": {
     "iopub.execute_input": "2024-10-16T12:38:40.597971Z",
     "iopub.status.busy": "2024-10-16T12:38:40.596962Z",
     "iopub.status.idle": "2024-10-16T12:38:40.606481Z",
     "shell.execute_reply": "2024-10-16T12:38:40.605385Z"
    },
    "papermill": {
     "duration": 0.046672,
     "end_time": "2024-10-16T12:38:40.609148",
     "exception": false,
     "start_time": "2024-10-16T12:38:40.562476",
     "status": "completed"
    },
    "tags": []
   },
   "outputs": [],
   "source": [
    "submission_df.to_csv('submission.csv', index=False)\n"
   ]
  },
  {
   "cell_type": "code",
   "execution_count": null,
   "id": "cd28ebbe",
   "metadata": {
    "papermill": {
     "duration": 0.03229,
     "end_time": "2024-10-16T12:38:40.675129",
     "exception": false,
     "start_time": "2024-10-16T12:38:40.642839",
     "status": "completed"
    },
    "tags": []
   },
   "outputs": [],
   "source": []
  }
 ],
 "metadata": {
  "kaggle": {
   "accelerator": "none",
   "dataSources": [
    {
     "databundleVersionId": 26502,
     "sourceId": 3136,
     "sourceType": "competition"
    }
   ],
   "dockerImageVersionId": 30786,
   "isGpuEnabled": false,
   "isInternetEnabled": true,
   "language": "python",
   "sourceType": "notebook"
  },
  "kernelspec": {
   "display_name": "Python 3",
   "language": "python",
   "name": "python3"
  },
  "language_info": {
   "codemirror_mode": {
    "name": "ipython",
    "version": 3
   },
   "file_extension": ".py",
   "mimetype": "text/x-python",
   "name": "python",
   "nbconvert_exporter": "python",
   "pygments_lexer": "ipython3",
   "version": "3.10.14"
  },
  "papermill": {
   "default_parameters": {},
   "duration": 60.328781,
   "end_time": "2024-10-16T12:38:43.329047",
   "environment_variables": {},
   "exception": null,
   "input_path": "__notebook__.ipynb",
   "output_path": "__notebook__.ipynb",
   "parameters": {},
   "start_time": "2024-10-16T12:37:43.000266",
   "version": "2.6.0"
  }
 },
 "nbformat": 4,
 "nbformat_minor": 5
}
